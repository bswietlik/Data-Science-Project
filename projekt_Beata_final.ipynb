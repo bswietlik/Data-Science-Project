{
 "cells": [
  {
   "cell_type": "markdown",
   "metadata": {},
   "source": [
    "### Projekt końcowy - Beata Świetlik"
   ]
  },
  {
   "cell_type": "markdown",
   "metadata": {},
   "source": [
    "#### Część 1. Obróbka danych- Data Processing "
   ]
  },
  {
   "cell_type": "code",
   "execution_count": 2,
   "metadata": {},
   "outputs": [],
   "source": [
    "import pandas as pd\n",
    "import numpy as np\n",
    "import seaborn as sns\n",
    "import matplotlib.pyplot as plt"
   ]
  },
  {
   "cell_type": "code",
   "execution_count": null,
   "metadata": {},
   "outputs": [],
   "source": [
    "dictionary=pd.read_csv('LCDataDictionary.csv') "
   ]
  },
  {
   "cell_type": "code",
   "execution_count": null,
   "metadata": {},
   "outputs": [],
   "source": [
    "dictionary.head() "
   ]
  },
  {
   "cell_type": "code",
   "execution_count": null,
   "metadata": {},
   "outputs": [],
   "source": [
    "#plik ma wiele nulli więc usuwam kolumny bez danych\n",
    "dictionary.drop(dictionary.columns[2:], inplace=True, axis=1)\n",
    "dictionary"
   ]
  },
  {
   "cell_type": "code",
   "execution_count": 3,
   "metadata": {},
   "outputs": [],
   "source": [
    "#otwarcie właściwego pliku\n",
    "data=pd.read_csv('Loan_data.csv', header=1, low_memory=False)\n",
    "pd.set_option('display.max_rows', None) "
   ]
  },
  {
   "cell_type": "code",
   "execution_count": null,
   "metadata": {},
   "outputs": [],
   "source": [
    "data.head()"
   ]
  },
  {
   "cell_type": "code",
   "execution_count": null,
   "metadata": {},
   "outputs": [],
   "source": [
    "data.columns.tolist()"
   ]
  },
  {
   "cell_type": "code",
   "execution_count": null,
   "metadata": {},
   "outputs": [],
   "source": [
    "data.info()"
   ]
  },
  {
   "cell_type": "code",
   "execution_count": null,
   "metadata": {},
   "outputs": [],
   "source": [
    "data.shape"
   ]
  },
  {
   "cell_type": "code",
   "execution_count": null,
   "metadata": {},
   "outputs": [],
   "source": [
    "data.describe()"
   ]
  },
  {
   "cell_type": "code",
   "execution_count": null,
   "metadata": {},
   "outputs": [],
   "source": [
    "#Czy mamy puste wartości? \n",
    "data.isnull().values.any()"
   ]
  },
  {
   "cell_type": "code",
   "execution_count": null,
   "metadata": {},
   "outputs": [],
   "source": [
    "#sprawdzamy wartości w naszym targecie Loan Status\n",
    "data.loan_status.unique() "
   ]
  },
  {
   "cell_type": "code",
   "execution_count": null,
   "metadata": {
    "scrolled": true
   },
   "outputs": [],
   "source": [
    "#zobaczmy ile wierszy ma dany target\n",
    "data['loan_status'].value_counts()"
   ]
  },
  {
   "cell_type": "markdown",
   "metadata": {},
   "source": [
    "##### Czym jest Charged OFF? To tzw. odpis lub dług umorzony- oznacza to, że pożyczkobiorca nie spłacił swojego długu w terminie oraz mocno opóźnił lub całkowicie zaniechał spłaty .  Odzyskanie długu przez kredytodawcę uważane jest za mało prawdopodobne, zazwyczaj po 6 miesiącach od braku spłaty , taki dług uznaje sie za nieściągalny.  Taki dług w raportach kredytowych widnieje jako umorzony. Jeśli zdarzy się, że pożyczkobiorca spłaci dług po czasie, to jego status Charged Off nie zmieni się.  (W raportach kredytowych nie będzie widniał jako Fully Paid) "
   ]
  },
  {
   "cell_type": "markdown",
   "metadata": {},
   "source": [
    "#### status \"does not meet the credit policy...\" zamienię na Fully Paid lub Charged Off "
   ]
  },
  {
   "cell_type": "code",
   "execution_count": 4,
   "metadata": {},
   "outputs": [
    {
     "data": {
      "text/plain": [
       "Fully Paid     36104\n",
       "Charged Off     6431\n",
       "Name: loan_status, dtype: int64"
      ]
     },
     "execution_count": 4,
     "metadata": {},
     "output_type": "execute_result"
    }
   ],
   "source": [
    "data['loan_status']=data['loan_status'].replace(('Does not meet the credit policy. Status:Fully Paid', 'Does not meet the credit policy. Status:Charged Off'),('Fully Paid', 'Charged Off'))\n",
    "\n",
    "data['loan_status'].value_counts()"
   ]
  },
  {
   "cell_type": "code",
   "execution_count": null,
   "metadata": {},
   "outputs": [],
   "source": [
    "sns.countplot(data['loan_status'])"
   ]
  },
  {
   "cell_type": "code",
   "execution_count": null,
   "metadata": {},
   "outputs": [],
   "source": [
    "#sprawdzę w których kolumnach brakuje wartości i jaka jest ilość nullli per kolumna\n",
    "data.isna().sum()"
   ]
  },
  {
   "cell_type": "markdown",
   "metadata": {},
   "source": [
    "##### z powyższego wynika, że dużo kolumn ma same Nulle, dlatego muszę je usunąć , bo są kompletnie nieprzydatne.  Na początek usuwam kolumny z brakującymi wartościami powyżej 35 tys. Kolumna ID nic nam nie wnosi do danych, dlatego ją tez usuwam. Usunę też kolumnę mths_since_last_delinq, ponieważ zawiera ponad 50% brakujących wartości. "
   ]
  },
  {
   "cell_type": "code",
   "execution_count": null,
   "metadata": {
    "scrolled": true
   },
   "outputs": [],
   "source": [
    "#W kilkunastu kolumnach brakuje po 3 wartości, prawdopodobnie 3 wiersze są nieuzupełnione dla każdej z kolumn i chce je usunąć \n",
    "column = 'loan_amnt'\n",
    "data[data[column].isna()]"
   ]
  },
  {
   "cell_type": "code",
   "execution_count": 5,
   "metadata": {},
   "outputs": [],
   "source": [
    "#usuwam 3 wiersze, w których nie ma uzupełnionych wartości\n",
    "data.drop([data.index[42537], data.index[42536], data.index[39786]],  axis=0, inplace=True)"
   ]
  },
  {
   "cell_type": "code",
   "execution_count": 6,
   "metadata": {},
   "outputs": [
    {
     "data": {
      "text/plain": [
       "(42535, 58)"
      ]
     },
     "execution_count": 6,
     "metadata": {},
     "output_type": "execute_result"
    }
   ],
   "source": [
    "data.drop(['id', 'member_id', 'zip_code', 'mths_since_last_record', 'next_pymnt_d', 'mths_since_last_major_derog', 'annual_inc_joint', 'dti_joint', 'verification_status_joint'], axis=1, inplace=True)\n",
    "data.drop(['tot_coll_amt', 'tot_cur_bal', 'open_acc_6m', 'open_act_il', 'open_il_12m', 'open_il_24m', 'mths_since_rcnt_il', 'total_bal_il', 'il_util'], axis=1, inplace=True)\n",
    "data.drop(['open_rv_12m','open_rv_24m' , 'max_bal_bc', 'all_util', 'total_rev_hi_lim', 'inq_fi','total_cu_tl', 'inq_last_12m', 'acc_open_past_24mths', 'avg_cur_bal'], axis=1, inplace=True)\n",
    "data.drop(['bc_open_to_buy', 'bc_util', 'mo_sin_old_il_acct', 'mo_sin_old_rev_tl_op', 'mo_sin_rcnt_rev_tl_op', 'mo_sin_rcnt_tl', 'mort_acc', 'mths_since_recent_bc'], axis=1, inplace=True)\n",
    "data.drop(['mths_since_recent_bc_dlq', 'mths_since_recent_inq', 'mths_since_recent_revol_delinq', 'num_accts_ever_120_pd', 'num_actv_bc_tl', 'num_actv_rev_tl', 'num_bc_sats'],axis=1, inplace=True)\n",
    "data.drop(['num_bc_tl', 'num_il_tl', 'num_op_rev_tl', 'num_rev_accts', 'num_rev_tl_bal_gt_0', 'num_sats', 'num_tl_120dpd_2m', 'num_tl_30dpd', 'num_tl_90g_dpd_24m', 'num_tl_op_past_12m'], axis=1, inplace=True)\n",
    "data.drop(['pct_tl_nvr_dlq', 'percent_bc_gt_75', 'tot_hi_cred_lim', 'total_bal_ex_mort', 'total_bc_limit', 'total_il_high_credit_limit', 'revol_bal_joint', 'sec_app_fico_range_low', 'sec_app_fico_range_high'],axis=1, inplace=True)\n",
    "data.drop(['sec_app_earliest_cr_line', 'sec_app_inq_last_6mths', 'sec_app_mort_acc', 'sec_app_open_acc', 'sec_app_revol_util', 'sec_app_open_act_il', 'sec_app_num_rev_accts', 'sec_app_chargeoff_within_12_mths'], axis=1, inplace=True)\n",
    "data.drop(['sec_app_collections_12_mths_ex_med', 'sec_app_mths_since_last_major_derog', 'hardship_type', 'hardship_reason', 'hardship_status', 'deferral_term', 'hardship_amount', 'hardship_start_date'],axis=1, inplace=True)\n",
    "data.drop(['hardship_end_date', 'payment_plan_start_date', 'hardship_length', 'hardship_dpd', 'hardship_loan_status', 'orig_projected_additional_accrued_interest', 'hardship_payoff_balance_amount', 'hardship_last_payment_amount'], axis=1, inplace=True)\n",
    "data.drop(['debt_settlement_flag_date', 'settlement_status', 'settlement_date', 'settlement_amount', 'settlement_percentage', 'settlement_term', 'mths_since_last_delinq'], axis=1, inplace=True)\n",
    "data.shape"
   ]
  },
  {
   "cell_type": "code",
   "execution_count": null,
   "metadata": {},
   "outputs": [],
   "source": [
    "#zobaczmy jak teraz prezentują się kolumny i ilość danych \n",
    "data.isna().sum()"
   ]
  },
  {
   "cell_type": "markdown",
   "metadata": {},
   "source": [
    "### uzupełnianie brakujacych danych w kolumnach . "
   ]
  },
  {
   "cell_type": "markdown",
   "metadata": {},
   "source": [
    "###### 1. emp_title czyli wykonywany zawód - poniżej na przykładach widać, że te zawody są mocno zróżnicowane, wpisywane ogólnie, są podawane nazwy firm. Ta kolumna nic nie wnosi do naszej analizy, także chcę ją usunąć "
   ]
  },
  {
   "cell_type": "code",
   "execution_count": null,
   "metadata": {},
   "outputs": [],
   "source": [
    "data[['emp_title']].head(20)"
   ]
  },
  {
   "cell_type": "code",
   "execution_count": 7,
   "metadata": {},
   "outputs": [],
   "source": [
    "data.drop(['emp_title'], axis=1, inplace=True)"
   ]
  },
  {
   "cell_type": "markdown",
   "metadata": {},
   "source": [
    "###### 2. emp_length czyli długość zatrudnienia w latach. W tabeli mamy zakres od 0 do 10, gdzie 0 to zatrudnienie poniżej roku a 10 to zatrudnienie 10 lat i więcej. Mamy ponad 1000 wartości brakujących. Najrozsądniej uzupełnić brakujące wartości dominantą, czyli wpisać zatrudnienie powyżej 10 lat"
   ]
  },
  {
   "cell_type": "code",
   "execution_count": null,
   "metadata": {},
   "outputs": [],
   "source": [
    "data['emp_length'].value_counts()"
   ]
  },
  {
   "cell_type": "code",
   "execution_count": 8,
   "metadata": {},
   "outputs": [],
   "source": [
    "data.fillna({'emp_length': '10+ years'}, inplace=True)"
   ]
  },
  {
   "cell_type": "code",
   "execution_count": 9,
   "metadata": {},
   "outputs": [],
   "source": [
    "#długość zatrudnienia konwertuję do int\n",
    "data['emp_length']=data['emp_length'].str.strip('+ years<').astype(int)"
   ]
  },
  {
   "cell_type": "markdown",
   "metadata": {},
   "source": [
    "###### 3. annual_inc czyli roczny dochód . Brakuje tylko 4 wartości.  Uzupełnie je medianą ."
   ]
  },
  {
   "cell_type": "code",
   "execution_count": null,
   "metadata": {},
   "outputs": [],
   "source": [
    "data[['annual_inc']].describe()"
   ]
  },
  {
   "cell_type": "code",
   "execution_count": 10,
   "metadata": {},
   "outputs": [],
   "source": [
    "data.annual_inc.fillna(data.annual_inc.median(), inplace=True)"
   ]
  },
  {
   "cell_type": "markdown",
   "metadata": {},
   "source": [
    "##### 4. desc czyli opis celu pożyczki.  Brakuje ponad 13 tys. danych na ten temat.  Poniżej widać, że jest to kolumna typowo opisowa. Niekoniecznie przedstawiony cel pożyczki jest rzeczywisty. Ten opis nie wnosi nic do analizy danych. Kolumna jest do usunięcia. "
   ]
  },
  {
   "cell_type": "code",
   "execution_count": null,
   "metadata": {},
   "outputs": [],
   "source": [
    "data[['desc']].head(10)"
   ]
  },
  {
   "cell_type": "code",
   "execution_count": 11,
   "metadata": {},
   "outputs": [],
   "source": [
    "data.drop(['desc'], axis=1, inplace=True)"
   ]
  },
  {
   "cell_type": "markdown",
   "metadata": {},
   "source": [
    "##### 5. title- podobnie jak w kolumnie desc- mamy opis pożyczkobiorcy dotyczący celu pożyczki, ale jest tego bardzo dużo i raczej nic nam to nie wniesie do analizy. Lepiej przyjrzeć się kolumnie purpose. KOlumna title jet do usunięcia "
   ]
  },
  {
   "cell_type": "code",
   "execution_count": null,
   "metadata": {},
   "outputs": [],
   "source": [
    "data['title'].value_counts()"
   ]
  },
  {
   "cell_type": "code",
   "execution_count": 12,
   "metadata": {},
   "outputs": [],
   "source": [
    "data.drop(['title'], axis=1, inplace=True)"
   ]
  },
  {
   "cell_type": "markdown",
   "metadata": {},
   "source": [
    "##### 6. delinq_2yrs - to liczba przypadków przeterminowania spłaty o 30 dni wpisana do historii kredytowej z  ostatnich dwóch lat .  Poniżej widać, że  ponad 90% pożyczkobiorców nie miało przypadków przeterminowania spłaty .  P analizie  jaki loan_status ma te 29 brakujących rekordów (prawie wszyscy mają spłaconą pożyczkę) ustalam podejście większościowe i brkaujące rekordy uzupełniam wartością 0. "
   ]
  },
  {
   "cell_type": "code",
   "execution_count": null,
   "metadata": {},
   "outputs": [],
   "source": [
    "data['delinq_2yrs'].value_counts()"
   ]
  },
  {
   "cell_type": "code",
   "execution_count": 13,
   "metadata": {},
   "outputs": [
    {
     "name": "stdout",
     "output_type": "stream",
     "text": [
      "42450     Fully Paid\n",
      "42451     Fully Paid\n",
      "42460     Fully Paid\n",
      "42473     Fully Paid\n",
      "42481     Fully Paid\n",
      "42484     Fully Paid\n",
      "42495     Fully Paid\n",
      "42510     Fully Paid\n",
      "42515     Fully Paid\n",
      "42516     Fully Paid\n",
      "42517     Fully Paid\n",
      "42518     Fully Paid\n",
      "42519     Fully Paid\n",
      "42520     Fully Paid\n",
      "42521     Fully Paid\n",
      "42522    Charged Off\n",
      "42523     Fully Paid\n",
      "42524     Fully Paid\n",
      "42525    Charged Off\n",
      "42526     Fully Paid\n",
      "42527     Fully Paid\n",
      "42528     Fully Paid\n",
      "42529     Fully Paid\n",
      "42530    Charged Off\n",
      "42531     Fully Paid\n",
      "42532     Fully Paid\n",
      "42533     Fully Paid\n",
      "42534     Fully Paid\n",
      "42535     Fully Paid\n",
      "Name: loan_status, dtype: object\n"
     ]
    }
   ],
   "source": [
    "print(data[data.delinq_2yrs.isnull()]['loan_status'])"
   ]
  },
  {
   "cell_type": "code",
   "execution_count": 14,
   "metadata": {},
   "outputs": [],
   "source": [
    "data.fillna({'delinq_2yrs': 0}, inplace=True)"
   ]
  },
  {
   "cell_type": "markdown",
   "metadata": {},
   "source": [
    "##### 7. earliest_cr_line- to miesiąc i rok, kiedy pożyczkobiorca wziął swoją 1 pożyczkę.  Brakuje tyle samo wartości co w przypadku kolumny delinq_2yrs.  Moim zdaniem to dosyć istotne dane, które dużo mówią o potencjalnym pożyczkobiorcy i tworzą historię kredytową. Puste wartości uzupełnie wartością mediany. "
   ]
  },
  {
   "cell_type": "code",
   "execution_count": null,
   "metadata": {},
   "outputs": [],
   "source": [
    "data[['earliest_cr_line']].head(5) "
   ]
  },
  {
   "cell_type": "code",
   "execution_count": 15,
   "metadata": {},
   "outputs": [],
   "source": [
    "#muszę skonwertować datę \n",
    "data['earliest_cr_line']=pd.to_datetime(data['earliest_cr_line'], format='%b-%Y')  "
   ]
  },
  {
   "cell_type": "code",
   "execution_count": null,
   "metadata": {},
   "outputs": [],
   "source": [
    "data[['earliest_cr_line']].head(5) "
   ]
  },
  {
   "cell_type": "code",
   "execution_count": 16,
   "metadata": {},
   "outputs": [],
   "source": [
    "data.earliest_cr_line.fillna(data.earliest_cr_line.mean(), inplace=True)"
   ]
  },
  {
   "cell_type": "markdown",
   "metadata": {},
   "source": [
    "###### 8. inq_last_6mths- liczba zapytań o kredy w ciągu ostatnich  miesięcy. Brakuje 29 wartości. POniżej wynika , że zdecydowana większość miała 0 lub 1 zapytanie. Zastosuje podejście większościowe i uzupełnie brakujące dane dominantą. "
   ]
  },
  {
   "cell_type": "code",
   "execution_count": null,
   "metadata": {},
   "outputs": [],
   "source": [
    "data['inq_last_6mths'].value_counts()"
   ]
  },
  {
   "cell_type": "code",
   "execution_count": 17,
   "metadata": {},
   "outputs": [],
   "source": [
    "data['inq_last_6mths'].fillna(data['inq_last_6mths'].mode()[0], inplace=True)"
   ]
  },
  {
   "cell_type": "markdown",
   "metadata": {},
   "source": [
    "###### 9. open_acc to liczba otwartych linii kredytowych. Znów brakuje 29 wartości. Tu wartości są mocno zróżnicowane. Wielu klientów konsoliduje kredyty i to całkiem dużo różnych kredytów. Najbezpieczniej do uzupełnienia nulli jest przyjąć wartość środkową. "
   ]
  },
  {
   "cell_type": "code",
   "execution_count": null,
   "metadata": {},
   "outputs": [],
   "source": [
    "data['open_acc'].value_counts()"
   ]
  },
  {
   "cell_type": "code",
   "execution_count": null,
   "metadata": {},
   "outputs": [],
   "source": [
    "data['open_acc'].describe()"
   ]
  },
  {
   "cell_type": "code",
   "execution_count": 17,
   "metadata": {},
   "outputs": [],
   "source": [
    "data['open_acc'].fillna(data['open_acc'].median(), inplace=True)"
   ]
  },
  {
   "cell_type": "markdown",
   "metadata": {},
   "source": [
    "###### 10. pub_rec ta kolumna mówi o liczbie rejestrów , gdzie wpisuje się nierzetelnych klientów. Podobnie jak we wcześniejszym przypakdu brakuje 29 wartości.  Ponad 40 tys. pożyczkobiorców nie jest nigdzie wpisanych. Puste wartości uzupełnie dominantą. "
   ]
  },
  {
   "cell_type": "code",
   "execution_count": null,
   "metadata": {},
   "outputs": [],
   "source": [
    "data['pub_rec'].value_counts()"
   ]
  },
  {
   "cell_type": "code",
   "execution_count": 18,
   "metadata": {},
   "outputs": [],
   "source": [
    "data['pub_rec'].fillna(data['pub_rec'].mode()[0], inplace=True)"
   ]
  },
  {
   "cell_type": "markdown",
   "metadata": {},
   "source": [
    "###### 11. revol_util - stopa procentowa wykorzystania linii kredytowej.  Im mniejsza stopa procentowa tym mniej jest kwoty do spłacenia .  Wartości są tak mocno zróżnicowane, że najlepiej nulle uzupełnić wartością mediany.  Muszę tylko przekonwertować str do int. "
   ]
  },
  {
   "cell_type": "code",
   "execution_count": null,
   "metadata": {},
   "outputs": [],
   "source": [
    "data['revol_util'].value_counts()"
   ]
  },
  {
   "cell_type": "code",
   "execution_count": 19,
   "metadata": {},
   "outputs": [],
   "source": [
    "#konwertowanie str na int \n",
    "data['revol_util']= data['revol_util'].str.strip('%').astype(float)"
   ]
  },
  {
   "cell_type": "code",
   "execution_count": 20,
   "metadata": {},
   "outputs": [],
   "source": [
    "data['revol_util'].fillna(data['revol_util'].median(), inplace=True)"
   ]
  },
  {
   "cell_type": "markdown",
   "metadata": {},
   "source": [
    "###### 12. total_acc-  całkowita liczba linii kredytowych, znów brakuje 29 wartości. Wartość uzupełnie medianą. "
   ]
  },
  {
   "cell_type": "code",
   "execution_count": null,
   "metadata": {},
   "outputs": [],
   "source": [
    "data['total_acc'].describe()"
   ]
  },
  {
   "cell_type": "code",
   "execution_count": 21,
   "metadata": {},
   "outputs": [],
   "source": [
    "data['total_acc'].fillna(data['total_acc'].median(), inplace=True)"
   ]
  },
  {
   "cell_type": "markdown",
   "metadata": {},
   "source": [
    "###### 13. last_pymnt_d - miesiąc kiedy otrzymano ostatnią płatność.  Przy okazji sprawdzę kolumny total_pymnt (Płatności otrzymane do tej pory w łącznej kwocie sfinansowanej) , total_pymnt_inv i last_pymnt_amnt (ostatnia otrzymana łaczna kwota płatności). KOlumny prezentują nieistotne dane z ogromnym rozstrzałem wartości. Nic nie wnoszą do analizy dlatego usuwam te 4 kolumny"
   ]
  },
  {
   "cell_type": "code",
   "execution_count": null,
   "metadata": {},
   "outputs": [],
   "source": [
    "data['last_pymnt_d'].value_counts()"
   ]
  },
  {
   "cell_type": "code",
   "execution_count": null,
   "metadata": {},
   "outputs": [],
   "source": [
    "data['last_pymnt_amnt'].value_counts()"
   ]
  },
  {
   "cell_type": "code",
   "execution_count": null,
   "metadata": {},
   "outputs": [],
   "source": [
    "data[['total_pymnt', 'total_pymnt_inv']].head(10) #widac że te kolumny prezentują prawie te same dane. "
   ]
  },
  {
   "cell_type": "code",
   "execution_count": 22,
   "metadata": {},
   "outputs": [],
   "source": [
    "data.drop(['total_pymnt', 'total_pymnt_inv', 'last_pymnt_amnt', 'last_pymnt_d'], axis=1, inplace=True)"
   ]
  },
  {
   "cell_type": "markdown",
   "metadata": {},
   "source": [
    "##### 14. last_credit_pull_d- 4 brakujące wartości - ostatni miesiąc, kiedy Lending Club zaciągnęło kredyt na pożyczkę....według mnie są to  nieistotne dane -  do usunięcia. "
   ]
  },
  {
   "cell_type": "code",
   "execution_count": null,
   "metadata": {},
   "outputs": [],
   "source": [
    "data[['last_credit_pull_d']].head(5)"
   ]
  },
  {
   "cell_type": "code",
   "execution_count": 23,
   "metadata": {},
   "outputs": [],
   "source": [
    "data.drop(['last_credit_pull_d'], axis=1, inplace=True)"
   ]
  },
  {
   "cell_type": "markdown",
   "metadata": {},
   "source": [
    "##### 15. collections_12_mths_ex_med  i chargeoff_within_12_mths- 145 brakujących wartości , reszta to 0. kolumna do usunięcia. "
   ]
  },
  {
   "cell_type": "code",
   "execution_count": null,
   "metadata": {},
   "outputs": [],
   "source": [
    "data['collections_12_mths_ex_med'].value_counts()"
   ]
  },
  {
   "cell_type": "code",
   "execution_count": null,
   "metadata": {},
   "outputs": [],
   "source": [
    "data['chargeoff_within_12_mths'].value_counts()"
   ]
  },
  {
   "cell_type": "code",
   "execution_count": 24,
   "metadata": {},
   "outputs": [],
   "source": [
    "data.drop(['collections_12_mths_ex_med', 'chargeoff_within_12_mths'], axis=1, inplace=True)"
   ]
  },
  {
   "cell_type": "markdown",
   "metadata": {},
   "source": [
    "###### 16. acc_now_delinq  i delinq_amnt- 29 brakujacych wartości-  to liczba rachunków, na których kredytobiorca ma teraz zaległości płatnicze oraz kwota zalgłości. Jak widać prawie  wszyscy nie mają zaległości  i dlatego nie ma kwoty, więc kolumna nic nie wnosi do analizy. Do usunięcia"
   ]
  },
  {
   "cell_type": "code",
   "execution_count": null,
   "metadata": {},
   "outputs": [],
   "source": [
    "data['acc_now_delinq'].value_counts()"
   ]
  },
  {
   "cell_type": "code",
   "execution_count": null,
   "metadata": {},
   "outputs": [],
   "source": [
    "data['delinq_amnt'].value_counts()"
   ]
  },
  {
   "cell_type": "code",
   "execution_count": 25,
   "metadata": {},
   "outputs": [],
   "source": [
    "data.drop(['acc_now_delinq', 'delinq_amnt'], axis=1, inplace=True)"
   ]
  },
  {
   "cell_type": "markdown",
   "metadata": {},
   "source": [
    "##### 17. pub_rec_bankruptcies - to liczba bankructw notowanych publicznie. To może mieć duży wpływ na uzyskanie i spłątę kredytu w przyszłosci. Uzupełnię brakujące wartości dominantą czyli liczbą 0. "
   ]
  },
  {
   "cell_type": "code",
   "execution_count": null,
   "metadata": {},
   "outputs": [],
   "source": [
    "data['pub_rec_bankruptcies'].value_counts()"
   ]
  },
  {
   "cell_type": "code",
   "execution_count": 26,
   "metadata": {},
   "outputs": [],
   "source": [
    "data['pub_rec_bankruptcies'].fillna(data['pub_rec_bankruptcies'].mode()[0], inplace=True)"
   ]
  },
  {
   "cell_type": "markdown",
   "metadata": {},
   "source": [
    "###### 18. tax_liens- liczba zastawów podatkowych. Tylko jedna osoba posiada taki zastaw. Raczej ta wartość nie ma wpływu na pożyczkobiorcę i jego spłatę. Kolumna jest do usunięcia"
   ]
  },
  {
   "cell_type": "code",
   "execution_count": null,
   "metadata": {},
   "outputs": [],
   "source": [
    "data['tax_liens'].value_counts()"
   ]
  },
  {
   "cell_type": "code",
   "execution_count": 27,
   "metadata": {},
   "outputs": [],
   "source": [
    "data.drop(['tax_liens'], axis=1, inplace=True)"
   ]
  },
  {
   "cell_type": "markdown",
   "metadata": {},
   "source": [
    "### analiza przydatności innych kolumn, które posiadały uzupełnione wartości \n",
    "######  19. purpose - to kategoria podana przez pożyczkobiorcę przy składaniu wniosku. Tutaj już dane są bardziej pogrupowane. Prawdopodobnie pożyczkobiorca wybierał kategorię z listy rozwijanej. "
   ]
  },
  {
   "cell_type": "code",
   "execution_count": null,
   "metadata": {},
   "outputs": [],
   "source": [
    "data['purpose'].value_counts()"
   ]
  },
  {
   "cell_type": "markdown",
   "metadata": {},
   "source": [
    "###### 20. initial_list_status wartości to same f, out_prncp  wartości to same 0, out_prncp_inv wartości to same 0. Kolumny do usunięcia"
   ]
  },
  {
   "cell_type": "code",
   "execution_count": null,
   "metadata": {},
   "outputs": [],
   "source": [
    "data['initial_list_status'].value_counts()"
   ]
  },
  {
   "cell_type": "code",
   "execution_count": null,
   "metadata": {},
   "outputs": [],
   "source": [
    "data['out_prncp'].value_counts()"
   ]
  },
  {
   "cell_type": "code",
   "execution_count": null,
   "metadata": {},
   "outputs": [],
   "source": [
    "data['out_prncp_inv'].value_counts()"
   ]
  },
  {
   "cell_type": "code",
   "execution_count": 28,
   "metadata": {},
   "outputs": [],
   "source": [
    "data.drop(['initial_list_status', 'out_prncp','out_prncp_inv' ], axis=1, inplace=True)"
   ]
  },
  {
   "cell_type": "markdown",
   "metadata": {},
   "source": [
    "##### 21. policy_code, application_type (czy wniosek jest indywidualny czy nie- nie wpływa na spłatę pożyczki i pożyczkobiorcę), hardship_flag (czy pożyczkobiorca jest objęty planem trudności- może nie być objęty takim planem a jednak nie spłaci pożyczki ) , disbursement_method (w jaki sposób otrzyma pożyczkę- nie wpływa to na spłatę pożyczki) , debt_settlement_flag (Oznaczenia wskazujące, czy pożyczkobiorca, który dokonał spłaty, współpracuje z firmą zajmującą się rozliczaniem długów. Kolumny do usunięcia. "
   ]
  },
  {
   "cell_type": "code",
   "execution_count": null,
   "metadata": {},
   "outputs": [],
   "source": [
    "data['policy_code'].value_counts()"
   ]
  },
  {
   "cell_type": "code",
   "execution_count": null,
   "metadata": {},
   "outputs": [],
   "source": [
    "data['application_type'].value_counts()"
   ]
  },
  {
   "cell_type": "code",
   "execution_count": null,
   "metadata": {},
   "outputs": [],
   "source": [
    "data['hardship_flag'].value_counts()"
   ]
  },
  {
   "cell_type": "code",
   "execution_count": null,
   "metadata": {},
   "outputs": [],
   "source": [
    "data['disbursement_method'].value_counts()"
   ]
  },
  {
   "cell_type": "code",
   "execution_count": null,
   "metadata": {},
   "outputs": [],
   "source": [
    "data['debt_settlement_flag'].value_counts()"
   ]
  },
  {
   "cell_type": "code",
   "execution_count": 29,
   "metadata": {},
   "outputs": [],
   "source": [
    "data.drop(['policy_code', 'application_type', 'hardship_flag', 'disbursement_method', 'debt_settlement_flag'], axis=1, inplace=True)"
   ]
  },
  {
   "cell_type": "markdown",
   "metadata": {},
   "source": [
    "##### 22. int_rate- jest wyrażone w procentach. Konwertuje to do float"
   ]
  },
  {
   "cell_type": "code",
   "execution_count": 30,
   "metadata": {},
   "outputs": [],
   "source": [
    "data['int_rate'] = data['int_rate'].str.strip('%').astype(float)"
   ]
  },
  {
   "cell_type": "markdown",
   "metadata": {},
   "source": [
    "##### 23. zmienne url,  pymnt_plan . URL to adres strony, nic nie wnosi - jest do usunięcia. Pymnt_plan ma jedną wartość w każdym wierszy czyli n. też do usunięcia. "
   ]
  },
  {
   "cell_type": "code",
   "execution_count": null,
   "metadata": {},
   "outputs": [],
   "source": [
    "data['pymnt_plan'].value_counts()"
   ]
  },
  {
   "cell_type": "code",
   "execution_count": 31,
   "metadata": {},
   "outputs": [],
   "source": [
    "data.drop(['url', 'pymnt_plan'], axis=1, inplace=True)"
   ]
  },
  {
   "cell_type": "markdown",
   "metadata": {},
   "source": [
    "###### 24. recoveries- kolumna do usunięcia."
   ]
  },
  {
   "cell_type": "code",
   "execution_count": 32,
   "metadata": {},
   "outputs": [],
   "source": [
    "data.drop(['recoveries'], axis=1, inplace=True)"
   ]
  },
  {
   "cell_type": "markdown",
   "metadata": {},
   "source": [
    "##### KOŃCOWA ILOŚĆ KOLUMN PO 1 CZĘŚCI"
   ]
  },
  {
   "cell_type": "code",
   "execution_count": null,
   "metadata": {},
   "outputs": [],
   "source": [
    "data.isna().sum()"
   ]
  },
  {
   "cell_type": "code",
   "execution_count": null,
   "metadata": {},
   "outputs": [],
   "source": [
    "data.shape"
   ]
  },
  {
   "cell_type": "markdown",
   "metadata": {},
   "source": [
    "## 2. EDA- Eksploracja Danych"
   ]
  },
  {
   "cell_type": "markdown",
   "metadata": {},
   "source": [
    "##### Zacznę od przedstawienia heatmapy , aby zobaczyć, które atrybuty są najmocniej, a które najmniej skorelowane z naszym targetem, czyli z Loan_status. Loan satus zamienię na zmienną numeryczną. Fully Paid przypisze do 0 a Charged off do 1. "
   ]
  },
  {
   "cell_type": "code",
   "execution_count": 33,
   "metadata": {},
   "outputs": [],
   "source": [
    "from scipy import stats"
   ]
  },
  {
   "cell_type": "code",
   "execution_count": 34,
   "metadata": {},
   "outputs": [],
   "source": [
    "data['loan_status'] = data['loan_status'].map({'Fully Paid': 1, 'Charged Off':0})"
   ]
  },
  {
   "cell_type": "code",
   "execution_count": null,
   "metadata": {},
   "outputs": [],
   "source": [
    "corr = data.corr() \n",
    "corr"
   ]
  },
  {
   "cell_type": "code",
   "execution_count": null,
   "metadata": {},
   "outputs": [],
   "source": [
    "import seaborn as sns \n",
    "plt.figure(figsize=(20,12))\n",
    "sns.heatmap(abs(corr), \n",
    "         xticklabels=corr.columns, \n",
    "         yticklabels=corr.columns, cmap='Blues',annot=True)"
   ]
  },
  {
   "cell_type": "markdown",
   "metadata": {},
   "source": [
    "Z wykresu korelacji  widać największe powiązania z :\n",
    " - loan_amnt, funded_amnt i funded_amnt_inv- czyli kwoty pożyczki wnioskowane i udzielone \n",
    " - loan/funded_amnt i total_rec_prncp oraz total_rec_int- funded_amnt i total_rec_prncp powinno być takie same dla\n",
    " pożyczek spłaconych, a mniejsze total_rec_prnncp jest dla niespłaconych\n",
    "-installment i total_rec_prncp/total_rec_int\n",
    "-installment i loan_amnt\n",
    "-loan_status i last_fico\n",
    "    \n",
    "Tam gdzie jest ujemna korelacja, powiązania też są mocne ale działają na niekorzyść:\n",
    " - int_rate i last_fico\n",
    " - revol_util i fico"
   ]
  },
  {
   "cell_type": "markdown",
   "metadata": {},
   "source": [
    "##### Analiza installment czyli raty a total_rec_prncp czyli ilości spłaconego kredytu. "
   ]
  },
  {
   "cell_type": "code",
   "execution_count": null,
   "metadata": {},
   "outputs": [],
   "source": [
    "plt.figure(figsize=(15,10))\n",
    "sns.scatterplot( x='installment', y='total_rec_prncp', data=data, marker='*', hue='loan_status')\n",
    "plt.xlabel(\"Rata kredytu\", fontsize=15)\n",
    "plt.ylabel('Spłacona kwota pożyczki ', fontsize=15)\n",
    "plt.title(\"Rata vs spłacona kwota\", fontsize=17)"
   ]
  },
  {
   "cell_type": "markdown",
   "metadata": {},
   "source": [
    "Wniosek: Im wyższa kwota spłaconej pożyczki tym była wyższa rata. Widać tu mocną zależnośc liniową pomiędzy tymi zmiennymi. Widać, że byli klientci, którzy prawdopodobnie mieli wysokie pożyczki (bo rata była wysoka) a zapłacili ich raptem kilka lub wcale. Na wykresie widać  też punkty, gdzie prawdopodobnie pożyczkobiorca był bliski spłaty kredytu, ale finalnie uzyskał status Charged Off. "
   ]
  },
  {
   "cell_type": "markdown",
   "metadata": {},
   "source": [
    "###### Analiza loan_amnt i funded_amnt"
   ]
  },
  {
   "cell_type": "code",
   "execution_count": null,
   "metadata": {},
   "outputs": [],
   "source": [
    "plt.figure(figsize=(15,10))\n",
    "plt.scatter( 'loan_amnt', 'funded_amnt', data=data, marker='o', color='mediumvioletred')\n",
    "plt.xlabel(\"Wnioskowana kwota pożyczki\", fontsize=15)\n",
    "plt.ylabel('Przyznana kwota pożyczki', fontsize=15)\n",
    "plt.title(\"Przyznana vs wnioskowana kwota pożyczki\", fontsize=17)"
   ]
  },
  {
   "cell_type": "markdown",
   "metadata": {},
   "source": [
    "Wniosek: Z reguły wartości pożyczki przyznane są mniejsze od tych o które wnioskuje pożyczkobiorca. Nie zdarza się, że firma udziela pożyczek większych niż kwota wnioskowana. Na wykresie widac ciekawą grupę osób, która wnioskowała o kwoty  20-25 tysięcy a dostała kredyt o połowę niższy. Zobaczę jak wyglądają dane w tej \"ciekawej\" grupie."
   ]
  },
  {
   "cell_type": "code",
   "execution_count": null,
   "metadata": {},
   "outputs": [],
   "source": [
    "data[(data.loan_amnt >20000) & (data.loan_amnt< 25000)& (data.funded_amnt<15000)]"
   ]
  },
  {
   "cell_type": "markdown",
   "metadata": {},
   "source": [
    "###### Ważnym elementem w jakiejkolwiek pożyczce jest jej oprocentowanie. Zobaczmy jak int_rate ma się z wynikiem last_fico_range_high"
   ]
  },
  {
   "cell_type": "code",
   "execution_count": null,
   "metadata": {},
   "outputs": [],
   "source": [
    "data['int_rate'].describe()"
   ]
  },
  {
   "cell_type": "code",
   "execution_count": null,
   "metadata": {},
   "outputs": [],
   "source": [
    "fig=plt.figure(figsize=(12,8))\n",
    "sns.regplot(data=data, x='last_fico_range_high', y='int_rate', marker='*')\n",
    "plt.xlim(500,900)\n",
    "plt.xlabel(\"Ostatni wynik FICO\", fontsize=15)\n",
    "plt.ylabel('Oprocentowanie pożyczki', fontsize=15)"
   ]
  },
  {
   "cell_type": "markdown",
   "metadata": {},
   "source": [
    "Wniosek: Im wyższe FICO tym mniejsze oprocentowanie. Jednak z rozkładu danych bardziej wynika , że nie ma związku oprocentowania pożyczki z ostatnim wynikiem Fico. "
   ]
  },
  {
   "cell_type": "markdown",
   "metadata": {},
   "source": [
    "##### Zobaczmy jak wysokość oprocentowania int_rate ma się do lat pracy."
   ]
  },
  {
   "cell_type": "code",
   "execution_count": null,
   "metadata": {},
   "outputs": [],
   "source": [
    "fig=plt.figure(figsize=(12,8))\n",
    "ax=sns.boxplot(data=data, x='emp_length', y='int_rate')\n",
    "plt.xlabel(\"Długość zatrudnienia w latach\", fontsize=15)\n",
    "plt.ylabel('Oprocentowanie', fontsize=15)\n",
    "plt.title(\"Zależność oprocentowania od stażu pracy\", fontsize=17)"
   ]
  },
  {
   "cell_type": "markdown",
   "metadata": {},
   "source": [
    "Wniosek: z wykresu wynika, że mediana oprocentowania w każdym przypadku wynosi ok 12,5%.  Ciut niższa mediana jest dla osób pracująych od 8 lat wzwyż i te osoby mają większą szansę na oprocentowanie niższe niż 10%.   Wynika to z bardziej ustabilizowanej sytuacji zawodowej i finansowej. "
   ]
  },
  {
   "cell_type": "markdown",
   "metadata": {},
   "source": [
    "##### W danych mamy atrybut Grade - czyli wewnętrzne oznaczenie pożyczkobiorcy .  Grade A jest najlepszy, grade G najgorszy. Zobaczmy jak Grade wpływa na wysokość oprocentowania int_rate"
   ]
  },
  {
   "cell_type": "code",
   "execution_count": null,
   "metadata": {},
   "outputs": [],
   "source": [
    "fig=plt.figure(figsize=(12,8))\n",
    "sns.violinplot(x='grade', y='int_rate', data=data)\n",
    "plt.xlabel(\"Grade\", fontsize=13)\n",
    "plt.ylabel('Oprocentowanie', fontsize=13)\n",
    "plt.title(\"wysokość oprocentowania vs. grade\", fontsize=15)"
   ]
  },
  {
   "cell_type": "markdown",
   "metadata": {},
   "source": [
    "Wniosek: najniższe oprocentowanie mają osoby z grade A oraz B. Pożyczkobiorcy z najlepszym grade mają oprocentowanie nieprzekraczające 10% , średnio 7,5%. Osoby z grade G mają orpcentowanie 15-25%, średnio 20%. Spróbuję prześledzić czy Grade zależy od ogólnej długości historii kredytowej"
   ]
  },
  {
   "cell_type": "code",
   "execution_count": 35,
   "metadata": {},
   "outputs": [],
   "source": [
    "data['earliest_cr_line']= pd.DatetimeIndex(data['earliest_cr_line']).year"
   ]
  },
  {
   "cell_type": "code",
   "execution_count": null,
   "metadata": {},
   "outputs": [],
   "source": [
    "\n",
    "fig=plt.figure(figsize=(12,8))\n",
    "sns.violinplot(x='grade', y='earliest_cr_line', data=data)\n",
    "plt.xlabel(\"Grade\", fontsize=13)\n",
    "plt.ylabel('Wiek kredytowy', fontsize=13)\n",
    "plt.title(\"wiek kredytowy vs. grade\", fontsize=15)"
   ]
  },
  {
   "cell_type": "markdown",
   "metadata": {},
   "source": [
    "Wniosek: Osoby z Grade A, B oraz D mają najdłuższą historię kredytową. Osoby z niskim grade F i G później zaczęły brać pierwsze pożyczki. Poniekąd wiek kredytowy może mieć znaczennnie w przyznawaniu wyższego stopnia Grade."
   ]
  },
  {
   "cell_type": "markdown",
   "metadata": {},
   "source": [
    "##### Zobaczę jak rozkłada się status posiadania domu w stosunku do przyznanego Grade."
   ]
  },
  {
   "cell_type": "code",
   "execution_count": null,
   "metadata": {},
   "outputs": [],
   "source": [
    "data['grade'].value_counts()"
   ]
  },
  {
   "cell_type": "code",
   "execution_count": null,
   "metadata": {},
   "outputs": [],
   "source": [
    "data_grade_home=pd.crosstab(data['grade'], data['home_ownership'])\n",
    "print(data_grade_home)"
   ]
  },
  {
   "cell_type": "markdown",
   "metadata": {},
   "source": [
    "##### - Spróbuję wykonać test Chi_Kwadrat, aby sprawdzić czy:\n",
    "- H0- hipoteza zerowa- Nie ma zależności pomiędzy statusem mieszkania a stopniem GRADE\n",
    "- H1- hipoteza alternatywna- Są znaczące relacje między zmiennymi"
   ]
  },
  {
   "cell_type": "code",
   "execution_count": null,
   "metadata": {},
   "outputs": [],
   "source": [
    "from scipy import stats\n",
    "from scipy.stats import chi2_contingency\n",
    "stat,p_value,dof, expected=chi2_contingency(data_grade_home)\n",
    "alpha=0.05\n",
    "print(p_value)"
   ]
  },
  {
   "cell_type": "code",
   "execution_count": null,
   "metadata": {},
   "outputs": [],
   "source": [
    "if p_value<=alpha:\n",
    "    print('Odrzucamy hipotezę 0- są znaczące relacje między zmienną grade a statusem domu')\n",
    "else:\n",
    "    print('Akceptujemy hipotezę 0- brak zależności')"
   ]
  },
  {
   "cell_type": "markdown",
   "metadata": {},
   "source": [
    "##### Ciekawi mnie jak prezentuje się zależność celu pożyczki w stosunku do wnioskowanej kwoty pożyczki. Przeanalizują purpose i loan_amnt"
   ]
  },
  {
   "cell_type": "code",
   "execution_count": null,
   "metadata": {},
   "outputs": [],
   "source": [
    "fig=plt.figure(figsize=(12,8))\n",
    "ax=sns.boxplot(data=data, x='loan_amnt', y='purpose')\n",
    "plt.xlabel(\"Wnioskowana wysokość pożyczki\", fontsize=15)\n",
    "plt.ylabel('Cel pożyczki', fontsize=15)\n",
    "plt.title(\"cel pożyczki vs. wnioskowana kwota\", fontsize=17)"
   ]
  },
  {
   "cell_type": "markdown",
   "metadata": {},
   "source": [
    "Wniosek: Największe pożyczki są przyznawane na rozwój małej przedsiębiorczści, spłatę kardy kredytowej , dom i konsolidację. Najmniejsze kwoty są wnioskowane o samochód, przeprowadzkę i wakacje. "
   ]
  },
  {
   "cell_type": "markdown",
   "metadata": {},
   "source": [
    "##### A) W jaki sposób wynik FICO wiąże się z prawdopodobieństwem spłacenia pożyczki przez pożyczkobiorcę?"
   ]
  },
  {
   "cell_type": "markdown",
   "metadata": {},
   "source": [
    "FICO RATING to trzycyfrowa liczba, która pomaga pożyczkodawcom określić jakie jest prawdopodobieństwo spłaty pożyczki. To z kolei wpływa na to, ile możesz pożyczyć, ile miesięcy masz do spłacenia, a ile to będzie kosztowało (wysokość oprocentowania).\n",
    "Można patrzeć na FICO Score jako podsumowaniu raportu kredytowego. Mierzy, jak długo i ile pożyczkobiorca ma kredytu, jaka część dostępnego kredytu jest wykorzystywana i czy spłaca go w terminie.\n",
    "\n",
    "Mamy 2 atrybuty- fico range low i fico range high. Zrobię z nich jedną kolumnę fico_range_mean, ponieważ kolumny zkaresu dolnego i górnego mają prawie takie same wartości i są skorelowane na 1. KOlumny fico range low i fico range high, a ja będę do analizy używać fico_range_mean"
   ]
  },
  {
   "cell_type": "code",
   "execution_count": null,
   "metadata": {},
   "outputs": [],
   "source": [
    "data[['fico_range_low', 'fico_range_high']].head(5)"
   ]
  },
  {
   "cell_type": "code",
   "execution_count": null,
   "metadata": {},
   "outputs": [],
   "source": [
    "data[['fico_range_low', 'fico_range_high']].corr()"
   ]
  },
  {
   "cell_type": "code",
   "execution_count": 36,
   "metadata": {},
   "outputs": [],
   "source": [
    "data['fico_range_mean']=(data.fico_range_low + data.fico_range_high)/2"
   ]
  },
  {
   "cell_type": "code",
   "execution_count": null,
   "metadata": {},
   "outputs": [],
   "source": [
    "data[['fico_range_mean']].head(5)"
   ]
  },
  {
   "cell_type": "code",
   "execution_count": 37,
   "metadata": {},
   "outputs": [],
   "source": [
    "data.drop(['fico_range_low', 'fico_range_high'], axis=1, inplace=True)"
   ]
  },
  {
   "cell_type": "markdown",
   "metadata": {},
   "source": [
    "#####  Mamy 5  zakresów Fico. Zobaczmy jak wyglądają statystyki dla tych klientów."
   ]
  },
  {
   "attachments": {
    "obraz.png": {
     "image/png": "[encoded data removed]"
    }
   },
   "cell_type": "markdown",
   "metadata": {},
   "source": [
    "![obraz.png](attachment:obraz.png)"
   ]
  },
  {
   "cell_type": "code",
   "execution_count": null,
   "metadata": {},
   "outputs": [],
   "source": [
    "data['fico_range_mean'].describe()"
   ]
  },
  {
   "cell_type": "markdown",
   "metadata": {},
   "source": [
    "Z racji, że za liczbą FICO Score kryje się Rating , to stworzę kolumnę z opisem, czy dany pożyczkobiorca jest Very Good, Good,  itp..."
   ]
  },
  {
   "cell_type": "code",
   "execution_count": 38,
   "metadata": {},
   "outputs": [],
   "source": [
    "def add_rating(row):\n",
    "    if row['fico_range_mean']<580:\n",
    "        return 'Poor'\n",
    "    if row['fico_range_mean']< 670:\n",
    "        return 'Fair'\n",
    "    if row['fico_range_mean']<740:\n",
    "        return 'Good'\n",
    "    if row['fico_range_mean']<800:\n",
    "        return 'Very Good'\n",
    "    if row ['fico_range_mean']>=800:\n",
    "        return 'Exceptional'\n",
    "    \n",
    "data['fico_rating']=data.apply(add_rating, axis=1)\n"
   ]
  },
  {
   "cell_type": "code",
   "execution_count": null,
   "metadata": {},
   "outputs": [],
   "source": [
    "plt.figure(figsize=(12,8))\n",
    "sns.countplot(data=data, x='fico_rating', hue = 'loan_status', palette= 'pastel')\n",
    "plt.xlabel('Fico Rating')\n",
    "plt.legend( loc='upper right', labels=['Charged Off', 'Fully Paid'])\n",
    "plt.title('fico vs. status')\n"
   ]
  },
  {
   "cell_type": "code",
   "execution_count": null,
   "metadata": {},
   "outputs": [],
   "source": [
    "fig=plt.figure(figsize=(12,8))\n",
    "ax=sns.boxplot(data=data, x='loan_status', y='fico_range_mean')\n",
    "plt.xlabel(\"Status spłaty pożyczki\", fontsize=15)\n",
    "plt.ylabel('FICO SCORE', fontsize=15)\n",
    "plt.title(\"Zależność spłacalności od wartości FICO\", fontsize=17)"
   ]
  },
  {
   "cell_type": "code",
   "execution_count": null,
   "metadata": {},
   "outputs": [],
   "source": [
    "data.fico_range_mean.corr(data.loan_status)"
   ]
  },
  {
   "cell_type": "markdown",
   "metadata": {},
   "source": [
    "Wniosek: Wynik Fico jest bardzo słabo skorelowany ze statusem spłaty pożyczki. Jeśli biorąc pod uwagę fakt korelacji, to ten czynnik kompletnie nie ma związku czy ktoś spłaci pożyczkę czy nie. I to dobrze widać na boxplocie, gdzie mamy kilka odstających wartości Fico z wysokimi wartościami powyżej 800 (gdzie teoretycznie jest to bardzo dobry pożyczkobiorca), a pożyczka nie została spłacona. Oczywiście w przeważającej większości, ci pożyczkobiorcy z ratingiem Exceptional mają te pożyczki spłacone. Z wykresów wynika, że najwięcej jest pożyczkobiorców z ratingiem Good i very Good. Najwięcej niespłaconych pożyczek jest u pożyczkobiorców z ratingiem Good i Fair .  Najniższy Fico jaki miał pożyczkobiorca wynosił 612, a pożyczka została spłacona. Według mnie nie można mówić , że wysokie Fico daje nam tylko szanse, ale jest różnoznacze z tym, że pożyczkobiorca spłaci swój kredyt. "
   ]
  },
  {
   "cell_type": "markdown",
   "metadata": {},
   "source": [
    "##### Wykonam test Chi_Square"
   ]
  },
  {
   "cell_type": "markdown",
   "metadata": {},
   "source": [
    "- H0- Zmienne są niezależne\n",
    "- H1- Zmienne nie są niezależne. "
   ]
  },
  {
   "cell_type": "code",
   "execution_count": null,
   "metadata": {},
   "outputs": [],
   "source": [
    "data_fico_loan=pd.crosstab(data['fico_rating'], data['loan_status'])\n",
    "print(data_fico_loan)"
   ]
  },
  {
   "cell_type": "code",
   "execution_count": null,
   "metadata": {},
   "outputs": [],
   "source": [
    "\n",
    "from scipy import stats\n",
    "from scipy.stats import chi2_contingency\n",
    "stat,p,dof, expected=chi2_contingency(data_fico_loan)\n",
    "print('dof=%d' % dof)\n",
    "print(expected)\n",
    "alpha=1.0\n",
    "print('significance=%.3f, p=%.3f' % (alpha, p))\n",
    "if p <= alpha:\n",
    "    print('Odrzucamy Hipoteze 0- zmienne są między sobą zależne')\n",
    "else:\n",
    "    print('Przjmujemy Hipotezę 0- zmienne są niezależne')"
   ]
  },
  {
   "cell_type": "markdown",
   "metadata": {},
   "source": [
    "<!-- Wniosek spróbuję podeprzeć testem Chi-Square\n",
    "H0- hipoteza zerowa- \"Nie ma zależności pomiędzy Ratingiem a spłatą pożyczki\"\n",
    "H1- hipoteza alternatywna \"Są zależności między zmiennymi\" -->"
   ]
  },
  {
   "cell_type": "markdown",
   "metadata": {},
   "source": [
    "#### B)\tW jaki sposób wiek kredytowy wiąże się z prawdopodobieństwem niewykonania zobowiązania i czy ryzyko to jest niezależne lub związane z wynikiem FICO? Będę analizować kolumny earliest_cr_line vs. loan_status oraz dodatkowo fico_rating"
   ]
  },
  {
   "cell_type": "code",
   "execution_count": 39,
   "metadata": {},
   "outputs": [
    {
     "data": {
      "text/plain": [
       "Text(0.5, 1.0, 'Zależność spłacalności od wieku kredytowego')"
      ]
     },
     "execution_count": 39,
     "metadata": {},
     "output_type": "execute_result"
    },
    {
     "data": {
      "image/png": "[encoded data removed]",
      "text/plain": [
       "<Figure size 864x432 with 1 Axes>"
      ]
     },
     "metadata": {
      "needs_background": "light"
     },
     "output_type": "display_data"
    }
   ],
   "source": [
    "fig=plt.figure(figsize=(12,6))\n",
    "sns.violinplot(data=data, x=\"loan_status\", y=\"earliest_cr_line\")\n",
    "plt.xlabel(\"Status spłaty pożyczki\", fontsize=15)\n",
    "plt.ylabel('wiek kredytowy', fontsize=15)\n",
    "plt.title(\"Zależność spłacalności od wieku kredytowego\", fontsize=17)"
   ]
  },
  {
   "cell_type": "code",
   "execution_count": 40,
   "metadata": {},
   "outputs": [
    {
     "data": {
      "text/html": [
       "<div>\n",
       "<style scoped>\n",
       "    .dataframe tbody tr th:only-of-type {\n",
       "        vertical-align: middle;\n",
       "    }\n",
       "\n",
       "    .dataframe tbody tr th {\n",
       "        vertical-align: top;\n",
       "    }\n",
       "\n",
       "    .dataframe thead th {\n",
       "        text-align: right;\n",
       "    }\n",
       "</style>\n",
       "<table border=\"1\" class=\"dataframe\">\n",
       "  <thead>\n",
       "    <tr style=\"text-align: right;\">\n",
       "      <th></th>\n",
       "      <th>fico_range_mean</th>\n",
       "      <th>loan_status</th>\n",
       "      <th>earliest_cr_line</th>\n",
       "    </tr>\n",
       "  </thead>\n",
       "  <tbody>\n",
       "    <tr>\n",
       "      <th>fico_range_mean</th>\n",
       "      <td>1.000000</td>\n",
       "      <td>0.141917</td>\n",
       "      <td>-0.235063</td>\n",
       "    </tr>\n",
       "    <tr>\n",
       "      <th>loan_status</th>\n",
       "      <td>0.141917</td>\n",
       "      <td>1.000000</td>\n",
       "      <td>-0.019933</td>\n",
       "    </tr>\n",
       "    <tr>\n",
       "      <th>earliest_cr_line</th>\n",
       "      <td>-0.235063</td>\n",
       "      <td>-0.019933</td>\n",
       "      <td>1.000000</td>\n",
       "    </tr>\n",
       "  </tbody>\n",
       "</table>\n",
       "</div>"
      ],
      "text/plain": [
       "                  fico_range_mean  loan_status  earliest_cr_line\n",
       "fico_range_mean          1.000000     0.141917         -0.235063\n",
       "loan_status              0.141917     1.000000         -0.019933\n",
       "earliest_cr_line        -0.235063    -0.019933          1.000000"
      ]
     },
     "execution_count": 40,
     "metadata": {},
     "output_type": "execute_result"
    }
   ],
   "source": [
    "data[['fico_range_mean', 'loan_status', 'earliest_cr_line']].corr()"
   ]
  },
  {
   "cell_type": "code",
   "execution_count": 41,
   "metadata": {},
   "outputs": [
    {
     "data": {
      "text/plain": [
       "<matplotlib.axes._subplots.AxesSubplot at 0x1be4e384ec8>"
      ]
     },
     "execution_count": 41,
     "metadata": {},
     "output_type": "execute_result"
    },
    {
     "data": {
      "image/png": "[encoded data removed]",
      "text/plain": [
       "<Figure size 576x432 with 1 Axes>"
      ]
     },
     "metadata": {
      "needs_background": "light"
     },
     "output_type": "display_data"
    }
   ],
   "source": [
    "plt.figure(figsize=(8, 6))\n",
    "sns.boxplot(data=data, x='loan_status', y='earliest_cr_line', hue=\"fico_rating\")"
   ]
  },
  {
   "cell_type": "markdown",
   "metadata": {},
   "source": [
    "Wniosek: Z wyników korelacji ujemnej wynika, że wiek kredytowy nie ma wpływu ani na spłatę pożyczki, ani na wynik Fico.  I pomimo pobrego wyniku Fico oraz wcześnie rzpoczętej historii kredytowej,mamy przypadki, że pożyczka nie została spłacona. \n",
    "Z wykresu wiolinowego wynika, że od roku 1990 zaczęła wzrastać ilość branych pożyczek i zaczęła spadać po roku 2000. Wtedy największa ilość pożyczkobiorców rozpoczęła swoją przygodę ze spłacaniem kredytów. Może to wynikać z np. dobrymi warunkami kredytowymi, z tanimi nieruchomościami. Ludzie brali wtedy po kilka kredytów na raz i je konsolidowali. Wiek kredytowy można poniekąd połączyć większym wiekiem pożyczkobiorcy, a to nie wpływało na spłatę pożyczki. Najstarsza osoba rozpoczęła swoją przygodę z kredytami w 1946 roku , a kredyt zaciągnięty w LC został spłacony. Ci najstarsi pożyczkobbiorcy spłacali swoje kredyty. \n",
    "Co do związku Fico z wiekiem kredytowym, mogę stwierdzić, że dawniej  ( w latach 70-tych) pożyczki dostawały osoby które miały najlepszy wynik Fico.  Z boxplotów wynika, że nie ma związku pomiędzy wiekiem kredytowym a Fico i spłatą pożyczki. Dla statusu Fully Paid jak i Charged Off boxy wyglądają bardzo podobnie. "
   ]
  },
  {
   "cell_type": "markdown",
   "metadata": {},
   "source": [
    "##### C) W jaki sposób status kredytu hipotecznego na dom wiąże się z prawdopodobieństwem niewypłacalności? Będę analizować kolumnę home_ownership vs. loan_status"
   ]
  },
  {
   "cell_type": "code",
   "execution_count": null,
   "metadata": {},
   "outputs": [],
   "source": [
    "data['home_ownership'].value_counts()"
   ]
  },
  {
   "cell_type": "code",
   "execution_count": null,
   "metadata": {},
   "outputs": [],
   "source": [
    "plt.figure(figsize=(12,8))\n",
    "sns.countplot(data=data, x='home_ownership', hue = 'loan_status', palette= 'rocket')\n",
    "plt.xlabel('Status mieszkania')\n",
    "plt.legend( loc='upper right', labels=['Charged Off', 'Fully Paid'])\n",
    "plt.title('status mieszkania vs. spłata pożyczki')"
   ]
  },
  {
   "cell_type": "code",
   "execution_count": null,
   "metadata": {},
   "outputs": [],
   "source": [
    "#procentowy rozkład statusu mieszkania w stosunku do statusu spłacenia kredytu \n",
    "round(pd.crosstab(data.loan_status,data.home_ownership, normalize='index'),2)"
   ]
  },
  {
   "cell_type": "markdown",
   "metadata": {},
   "source": [
    "Wniosek: Zarówno z tabeli z rozkładem procentowym, jak i z wykresu wynika, że w każdej grupie pożyczkobiorców, wyniki są na podobnym poziomie. Najwięcej kredytów jest przyznawanych dla osob z hipotekę lub wynajmujących.Z puli osób, które nie spłaciły kredytów, połowa była osobami wynajmującymi dom. Z puli osób, które splaciły kredyty, ciut więcej było ich wziętych przez osoby wynajmujące i też dało to ok. połowy pożyczkobiorców. Z reszty kategorii dane są znikome. Z racji, że wyniki są pół na pół- to status kredytu dla osób posiadających dom kompletnie nie wiąże się z tym, czy pożyczkobiorca będzie wypłacalny lub nie. "
   ]
  },
  {
   "cell_type": "markdown",
   "metadata": {},
   "source": [
    "#### D) W jaki sposób roczny dochód wiąże się z prawdopodobieństwem niewykonania zobowiązania? Będę analizować annual_inc vs. loan_status"
   ]
  },
  {
   "cell_type": "code",
   "execution_count": null,
   "metadata": {},
   "outputs": [],
   "source": [
    "data['annual_inc'].min()"
   ]
  },
  {
   "cell_type": "code",
   "execution_count": null,
   "metadata": {},
   "outputs": [],
   "source": [
    "fig=plt.figure(figsize=(10,8))\n",
    "sns.violinplot(data=data, x=\"loan_status\", y=\"annual_inc\")\n",
    "plt.xlabel(\"Status spłaty pożyczki\", fontsize=15)\n",
    "plt.ylabel('Dochód roczny', fontsize=15)\n",
    "plt.title(\"Zależność spłacalności od dochodu rocznego\", fontsize=17)\n",
    "plt.ylim(1896, 3000000)"
   ]
  },
  {
   "cell_type": "code",
   "execution_count": null,
   "metadata": {},
   "outputs": [],
   "source": [
    "fig=plt.figure(figsize=(10,6))\n",
    "ax=sns.boxplot(data=data, x='loan_status', y='annual_inc')\n",
    "plt.xlabel(\"Status spłaty pożyczki\", fontsize=15)\n",
    "plt.ylim(0,200000)\n",
    "plt.ylabel('Dochód roczny', fontsize=15)\n",
    "plt.title(\"Zależność spłacalności od dochodu rocznego\", fontsize=17)"
   ]
  },
  {
   "cell_type": "code",
   "execution_count": null,
   "metadata": {},
   "outputs": [],
   "source": [
    "data[['loan_status', 'annual_inc']].corr()"
   ]
  },
  {
   "cell_type": "markdown",
   "metadata": {},
   "source": [
    "Wniosek: Mogłoby się wydawać, że roczny dochód będzie miał bardzo istotny wpływ na spłatę zobowiązania, jednak wspólczynnik korelacji jest bliski 0. Ale z wykresów wnioskuję, że im wyższy dochód , tym prawdopodobieństwo niewykonania zobowiązania jest mniejsze. Są pożyczkobiorcy, którzy pomimo dochodu na poziomie 1,3 mln dolarów nie spłacili zobowiązania. Myślę, że w takim wypadku to jakiś inny czynnik mógł zadecydować o tym, że nie wykonano spłaty. Z wykresów widać, że mediana dochodu jest na podobnym poziomie u klientów którzy spłacili i nie spłacili zobowiązania. Ludzie, którzy nie spłacili kredytu , mieli ciut mniejszy dochód od tych którzy spłacili pożyczkę.  "
   ]
  },
  {
   "cell_type": "markdown",
   "metadata": {},
   "source": [
    "##### Wykonam test T-Studenta"
   ]
  },
  {
   "cell_type": "code",
   "execution_count": null,
   "metadata": {},
   "outputs": [],
   "source": [
    "df1=data[data.loan_status==0].annual_inc\n",
    "zero=np.array(df1)\n",
    "zero"
   ]
  },
  {
   "cell_type": "code",
   "execution_count": null,
   "metadata": {},
   "outputs": [],
   "source": [
    "df2=data[data.loan_status==1].annual_inc\n",
    "one=np.array(df2)"
   ]
  },
  {
   "cell_type": "code",
   "execution_count": null,
   "metadata": {},
   "outputs": [],
   "source": [
    "from scipy.stats import ttest_ind\n",
    "stat, p_value = ttest_ind(zero, one)\n",
    "print('stat=%.3f, p=%.3f' % (stat, p_value))\n",
    "if p_value > 0.05:\n",
    "    print('Probably the same mean')\n",
    "else:\n",
    "    print('Probably different mean')"
   ]
  },
  {
   "cell_type": "markdown",
   "metadata": {},
   "source": [
    "##### E) W jaki sposób historia zatrudnienia wiąże się z prawdopodobieństwem niewykonania zobowiązania? Będę analizować emp_length vs. loan_status"
   ]
  },
  {
   "cell_type": "code",
   "execution_count": null,
   "metadata": {},
   "outputs": [],
   "source": [
    "fig=plt.figure(figsize=(10,8))\n",
    "ax=sns.boxplot(data=data, x='loan_status', y='emp_length')\n",
    "plt.xlabel(\"Status spłaty pożyczki\", fontsize=15)\n",
    "plt.ylabel('Długość zatrudnienia w latach', fontsize=15)\n",
    "plt.title(\"Zależność spłacalności od długości zatrudnienia\", fontsize=17)"
   ]
  },
  {
   "cell_type": "code",
   "execution_count": null,
   "metadata": {},
   "outputs": [],
   "source": [
    "fig=plt.figure(figsize=(10,8))\n",
    "sns.violinplot(data=data, x=\"loan_status\", y=\"emp_length\")\n",
    "plt.xlabel(\"Status spłaty pożyczki\", fontsize=15)\n",
    "plt.ylabel('Długość zatrudnienia w latach', fontsize=15)\n",
    "plt.title(\"Zależność spłacalności od długości zatrudnienia \", fontsize=17)"
   ]
  },
  {
   "cell_type": "code",
   "execution_count": null,
   "metadata": {},
   "outputs": [],
   "source": [
    "#procentowy rozkład spłaconych i niespłaconych kredytów w stosunku do długości zatrudnienia \n",
    "round(pd.crosstab(data.loan_status,data.emp_length, normalize='index'),2)"
   ]
  },
  {
   "cell_type": "code",
   "execution_count": null,
   "metadata": {},
   "outputs": [],
   "source": [
    "data[['loan_status', 'emp_length']].corr()"
   ]
  },
  {
   "cell_type": "markdown",
   "metadata": {},
   "source": [
    "Wniosek: Z wyniku korelacji płynie wniosek, że długość zatrudnienia nie ma wpływu na wykonanie zobowiązania. I to poniekąd widać na wykresach, bo rozkład procentowy jest podobny w obu grupach. Największy problem ze spłatą mają osoby , które są zatrudnione rok, 2 lata , a największa grupa osób z problemami spłaty to osoby pracujące 10 lat i więcej. Najmniejszy problem ze spłatą mają osoby pracujące od 4 do 9 lat. "
   ]
  },
  {
   "cell_type": "markdown",
   "metadata": {},
   "source": [
    "##### Wykonam test CHi-Square"
   ]
  },
  {
   "cell_type": "markdown",
   "metadata": {},
   "source": [
    "- H0- Zmienne są niezależne\n",
    "- H1- Zmienne nie są niezależne. "
   ]
  },
  {
   "cell_type": "code",
   "execution_count": null,
   "metadata": {},
   "outputs": [],
   "source": [
    "data_emp_loan=pd.crosstab(data['emp_length'], data['loan_status'])\n",
    "print(data_emp_loan)"
   ]
  },
  {
   "cell_type": "code",
   "execution_count": null,
   "metadata": {},
   "outputs": [],
   "source": [
    "from scipy import stats\n",
    "from scipy.stats import chi2_contingency\n",
    "stat,p,dof, expected=chi2_contingency(data_emp_loan)\n",
    "print('dof=%d' % dof)\n",
    "print(expected)\n",
    "alpha=1.0\n",
    "print('significance=%.3f, p=%.3f' % (alpha, p))\n",
    "if p <= alpha:\n",
    "    print('Odrzucamy Hipoteze 0- zmienne są między sobą zależne')\n",
    "else:\n",
    "    print('Przjmujemy Hipotezę 0- zmienne są niezależne')"
   ]
  },
  {
   "cell_type": "markdown",
   "metadata": {},
   "source": [
    "##### F) \tJak wielkość żądanej pożyczki jest powiązana z prawdopodobieństwem niewykonania zobowiązania? Będę analizować loan_amnt vs. loan_status"
   ]
  },
  {
   "cell_type": "code",
   "execution_count": null,
   "metadata": {},
   "outputs": [],
   "source": [
    "fig=plt.figure(figsize=(10,8))\n",
    "ax=sns.boxplot(data=data, x='loan_status', y='loan_amnt')\n",
    "plt.xlabel(\"Status spłaty pożyczki\", fontsize=15)\n",
    "plt.ylabel('Kwota wnioskowanej pożyczki', fontsize=15)\n",
    "plt.title(\"Zależność spłacalności od kwoty wnioskowanej pożyczki\", fontsize=17)"
   ]
  },
  {
   "cell_type": "code",
   "execution_count": null,
   "metadata": {},
   "outputs": [],
   "source": [
    "data[['loan_status', 'loan_amnt']].corr()"
   ]
  },
  {
   "cell_type": "markdown",
   "metadata": {},
   "source": [
    "Wniosek: Z wartości korelacji bliskiej 0 wynika, że nie ma powiązania z wielkością wnioskowanje pożyczki na jej spłatę. Wykresy znów są do siebie bardzo podobne. Najwięcej niespłaconych jak i spłaconych pożyczek jest w przedziale ok. 5,5-15 tys. dolarów. Tam gdzie, wnioskowano o najwyższą pożyczkę (ponad 30 tys. dolarów) , nie została ona spłacona.  "
   ]
  },
  {
   "cell_type": "markdown",
   "metadata": {},
   "source": [
    "### 3. Feature Engineering"
   ]
  },
  {
   "cell_type": "markdown",
   "metadata": {},
   "source": [
    "1. wcześniej usunęłam kolumny fico_range_low i fico_range_high i stworzyłam kolumnę fico_range_mean"
   ]
  },
  {
   "cell_type": "markdown",
   "metadata": {},
   "source": [
    "2. Stworzyłam kolumnę fico_rating ze słowną oceną FICO SCORE.- idzie do encodowania"
   ]
  },
  {
   "cell_type": "markdown",
   "metadata": {},
   "source": [
    "3. Ze zmiennej purpose stworzę kolumnę new_purpose, z oznaczeniem Consolidation lub Other. Dzięki temu łatwo będzie można zobaczyć zależność spłacania od celu kredytu którym jest konsolidacja. Kolumnę purpose usuwam.- idzie do encodowania"
   ]
  },
  {
   "cell_type": "code",
   "execution_count": 40,
   "metadata": {},
   "outputs": [],
   "source": [
    "def new_purpose(row):\n",
    "    if row['purpose']=='debt_consolidation':\n",
    "        return 'Consolidation'\n",
    "    return 'Other'\n",
    "\n",
    "data['new_purpose']=data.apply(new_purpose, axis=1)"
   ]
  },
  {
   "cell_type": "code",
   "execution_count": null,
   "metadata": {},
   "outputs": [],
   "source": [
    "plt.figure(figsize=(12,8))\n",
    "sns.countplot(data=data, x='new_purpose', hue = 'loan_status', palette= 'Set3')\n",
    "plt.xlabel('Cel pożyczki')\n",
    "plt.legend( loc='upper right', labels=['Charged Off', 'Fully Paid'])\n",
    "plt.title('cel pożyczki vs. spłata pożyczki')"
   ]
  },
  {
   "cell_type": "code",
   "execution_count": 41,
   "metadata": {},
   "outputs": [],
   "source": [
    "data.drop([('purpose')], axis=1, inplace=True)"
   ]
  },
  {
   "cell_type": "markdown",
   "metadata": {},
   "source": [
    "4. Podobnie zrobię z kolumną int_rate. Stworzę nowa kolumnę int_rate_rating z 3 przedziałami. KOlumny int_rate nie usuwam. "
   ]
  },
  {
   "cell_type": "code",
   "execution_count": 42,
   "metadata": {},
   "outputs": [],
   "source": [
    "def get_int_rating(row):\n",
    "    if row['int_rate']<10.0:\n",
    "        return 'Low rate'\n",
    "    if row['int_rate']<15.0:\n",
    "        return 'Medium rate'\n",
    "    return 'High rate'\n",
    "\n",
    "data['int_rate_rating']=data.apply(get_int_rating, axis=1)\n"
   ]
  },
  {
   "cell_type": "code",
   "execution_count": null,
   "metadata": {},
   "outputs": [],
   "source": [
    "data[['int_rate', 'int_rate_rating']].head()"
   ]
  },
  {
   "cell_type": "code",
   "execution_count": null,
   "metadata": {},
   "outputs": [],
   "source": [
    "plt.figure(figsize=(12,8))\n",
    "sns.countplot(data=data, x='int_rate_rating', hue = 'term', palette= 'rocket')\n",
    "plt.xlabel('Oprocentowanie')\n",
    "plt.legend( loc='upper right', labels=['36 months', '60 months'])\n",
    "plt.title('oprocentowanie vs. okres spłaty')\n"
   ]
  },
  {
   "cell_type": "markdown",
   "metadata": {},
   "source": [
    "5. Podobnie jak wcześniej, tworzę przedziały dla loan_amnt i tworzę kolumnę loan_amnt_rating. To również pójdzie do encodowania."
   ]
  },
  {
   "cell_type": "code",
   "execution_count": 43,
   "metadata": {},
   "outputs": [],
   "source": [
    "def get_rating(row):\n",
    "    if row['loan_amnt']<=10000:\n",
    "        return 'Medium Low Loan'\n",
    "    if row['loan_amnt']<=15000:\n",
    "        return 'Low Loan'\n",
    "    if row['loan_amnt']<=20000:\n",
    "        return 'Medium Loan'\n",
    "    if row['loan_amnt']<=25000:\n",
    "        return 'High Loan'\n",
    "    if row['loan_amnt']<30000:\n",
    "        return 'Very High Loan'\n",
    "    return 'Very very High Loan'\n",
    "\n",
    "data['loan_amnt_rating']=data.apply(get_rating, axis=1)"
   ]
  },
  {
   "cell_type": "code",
   "execution_count": null,
   "metadata": {},
   "outputs": [],
   "source": [
    "data[['loan_amnt', 'loan_amnt_rating']].head()"
   ]
  },
  {
   "cell_type": "markdown",
   "metadata": {},
   "source": [
    "6. Usuwam kolumnę grade, zostawiam tylko sub_grade."
   ]
  },
  {
   "cell_type": "code",
   "execution_count": 44,
   "metadata": {},
   "outputs": [],
   "source": [
    "data.drop([('grade')], axis=1, inplace=True)"
   ]
  },
  {
   "cell_type": "code",
   "execution_count": null,
   "metadata": {},
   "outputs": [],
   "source": [
    "data.dtypes"
   ]
  },
  {
   "cell_type": "code",
   "execution_count": 45,
   "metadata": {},
   "outputs": [
    {
     "data": {
      "text/plain": [
       "term                    2\n",
       "sub_grade              35\n",
       "home_ownership          5\n",
       "verification_status     3\n",
       "issue_d                55\n",
       "addr_state             50\n",
       "fico_rating             4\n",
       "new_purpose             2\n",
       "int_rate_rating         3\n",
       "loan_amnt_rating        6\n",
       "dtype: int64"
      ]
     },
     "execution_count": 45,
     "metadata": {},
     "output_type": "execute_result"
    }
   ],
   "source": [
    "data.select_dtypes('object').apply(pd.Series.nunique,axis=0)"
   ]
  },
  {
   "cell_type": "code",
   "execution_count": 46,
   "metadata": {},
   "outputs": [],
   "source": [
    "#konwertuję datę na rok - typ INT64\n",
    "data['issue_d']= pd.DatetimeIndex(data['issue_d']).year"
   ]
  },
  {
   "cell_type": "markdown",
   "metadata": {},
   "source": [
    "7. Szukam outlierów"
   ]
  },
  {
   "cell_type": "code",
   "execution_count": 47,
   "metadata": {},
   "outputs": [
    {
     "data": {
      "text/plain": [
       "array([1, 0], dtype=int64)"
      ]
     },
     "execution_count": 47,
     "metadata": {},
     "output_type": "execute_result"
    }
   ],
   "source": [
    "#robię kopię- bez zmiennych kategorycznych\n",
    "data_outliers=data.select_dtypes(exclude=['object']).copy()\n",
    "data_outliers['loan_status'].unique()"
   ]
  },
  {
   "cell_type": "code",
   "execution_count": 48,
   "metadata": {},
   "outputs": [
    {
     "data": {
      "text/html": [
       "<div>\n",
       "<style scoped>\n",
       "    .dataframe tbody tr th:only-of-type {\n",
       "        vertical-align: middle;\n",
       "    }\n",
       "\n",
       "    .dataframe tbody tr th {\n",
       "        vertical-align: top;\n",
       "    }\n",
       "\n",
       "    .dataframe thead th {\n",
       "        text-align: right;\n",
       "    }\n",
       "</style>\n",
       "<table border=\"1\" class=\"dataframe\">\n",
       "  <thead>\n",
       "    <tr style=\"text-align: right;\">\n",
       "      <th></th>\n",
       "      <th>Q1</th>\n",
       "      <th>Q3</th>\n",
       "      <th>IQR</th>\n",
       "      <th>Lower_outliers</th>\n",
       "      <th>Upper_outliers</th>\n",
       "      <th>number of outliers</th>\n",
       "    </tr>\n",
       "  </thead>\n",
       "  <tbody>\n",
       "    <tr>\n",
       "      <th>loan_amnt</th>\n",
       "      <td>5200.00</td>\n",
       "      <td>15000.000</td>\n",
       "      <td>9800.000</td>\n",
       "      <td>-9500.0000</td>\n",
       "      <td>29700.0000</td>\n",
       "      <td>729</td>\n",
       "    </tr>\n",
       "    <tr>\n",
       "      <th>funded_amnt</th>\n",
       "      <td>5000.00</td>\n",
       "      <td>15000.000</td>\n",
       "      <td>10000.000</td>\n",
       "      <td>-10000.0000</td>\n",
       "      <td>30000.0000</td>\n",
       "      <td>618</td>\n",
       "    </tr>\n",
       "    <tr>\n",
       "      <th>funded_amnt_inv</th>\n",
       "      <td>4950.00</td>\n",
       "      <td>14000.000</td>\n",
       "      <td>9050.000</td>\n",
       "      <td>-8625.0000</td>\n",
       "      <td>27575.0000</td>\n",
       "      <td>605</td>\n",
       "    </tr>\n",
       "    <tr>\n",
       "      <th>int_rate</th>\n",
       "      <td>9.63</td>\n",
       "      <td>14.720</td>\n",
       "      <td>5.090</td>\n",
       "      <td>1.9950</td>\n",
       "      <td>22.3550</td>\n",
       "      <td>29</td>\n",
       "    </tr>\n",
       "    <tr>\n",
       "      <th>installment</th>\n",
       "      <td>165.52</td>\n",
       "      <td>428.180</td>\n",
       "      <td>262.660</td>\n",
       "      <td>-228.4700</td>\n",
       "      <td>822.1700</td>\n",
       "      <td>331</td>\n",
       "    </tr>\n",
       "    <tr>\n",
       "      <th>emp_length</th>\n",
       "      <td>2.00</td>\n",
       "      <td>9.000</td>\n",
       "      <td>7.000</td>\n",
       "      <td>-8.5000</td>\n",
       "      <td>19.5000</td>\n",
       "      <td>0</td>\n",
       "    </tr>\n",
       "    <tr>\n",
       "      <th>annual_inc</th>\n",
       "      <td>40000.00</td>\n",
       "      <td>82500.000</td>\n",
       "      <td>42500.000</td>\n",
       "      <td>-23750.0000</td>\n",
       "      <td>146250.0000</td>\n",
       "      <td>341</td>\n",
       "    </tr>\n",
       "    <tr>\n",
       "      <th>issue_d</th>\n",
       "      <td>2010.00</td>\n",
       "      <td>2011.000</td>\n",
       "      <td>1.000</td>\n",
       "      <td>2008.5000</td>\n",
       "      <td>2012.5000</td>\n",
       "      <td>603</td>\n",
       "    </tr>\n",
       "    <tr>\n",
       "      <th>loan_status</th>\n",
       "      <td>1.00</td>\n",
       "      <td>1.000</td>\n",
       "      <td>0.000</td>\n",
       "      <td>1.0000</td>\n",
       "      <td>1.0000</td>\n",
       "      <td>0</td>\n",
       "    </tr>\n",
       "    <tr>\n",
       "      <th>dti</th>\n",
       "      <td>8.20</td>\n",
       "      <td>18.680</td>\n",
       "      <td>10.480</td>\n",
       "      <td>-7.5200</td>\n",
       "      <td>34.4000</td>\n",
       "      <td>0</td>\n",
       "    </tr>\n",
       "    <tr>\n",
       "      <th>delinq_2yrs</th>\n",
       "      <td>0.00</td>\n",
       "      <td>0.000</td>\n",
       "      <td>0.000</td>\n",
       "      <td>0.0000</td>\n",
       "      <td>0.0000</td>\n",
       "      <td>1140</td>\n",
       "    </tr>\n",
       "    <tr>\n",
       "      <th>earliest_cr_line</th>\n",
       "      <td>1993.00</td>\n",
       "      <td>2001.000</td>\n",
       "      <td>8.000</td>\n",
       "      <td>1981.0000</td>\n",
       "      <td>2013.0000</td>\n",
       "      <td>631</td>\n",
       "    </tr>\n",
       "    <tr>\n",
       "      <th>inq_last_6mths</th>\n",
       "      <td>0.00</td>\n",
       "      <td>2.000</td>\n",
       "      <td>2.000</td>\n",
       "      <td>-3.0000</td>\n",
       "      <td>5.0000</td>\n",
       "      <td>781</td>\n",
       "    </tr>\n",
       "    <tr>\n",
       "      <th>open_acc</th>\n",
       "      <td>6.00</td>\n",
       "      <td>12.000</td>\n",
       "      <td>6.000</td>\n",
       "      <td>-3.0000</td>\n",
       "      <td>21.0000</td>\n",
       "      <td>449</td>\n",
       "    </tr>\n",
       "    <tr>\n",
       "      <th>pub_rec</th>\n",
       "      <td>0.00</td>\n",
       "      <td>0.000</td>\n",
       "      <td>0.000</td>\n",
       "      <td>0.0000</td>\n",
       "      <td>0.0000</td>\n",
       "      <td>2376</td>\n",
       "    </tr>\n",
       "    <tr>\n",
       "      <th>revol_bal</th>\n",
       "      <td>3635.00</td>\n",
       "      <td>17251.000</td>\n",
       "      <td>13616.000</td>\n",
       "      <td>-16789.0000</td>\n",
       "      <td>37675.0000</td>\n",
       "      <td>678</td>\n",
       "    </tr>\n",
       "    <tr>\n",
       "      <th>revol_util</th>\n",
       "      <td>25.80</td>\n",
       "      <td>72.600</td>\n",
       "      <td>46.800</td>\n",
       "      <td>-44.4000</td>\n",
       "      <td>142.8000</td>\n",
       "      <td>0</td>\n",
       "    </tr>\n",
       "    <tr>\n",
       "      <th>total_acc</th>\n",
       "      <td>13.00</td>\n",
       "      <td>29.000</td>\n",
       "      <td>16.000</td>\n",
       "      <td>-11.0000</td>\n",
       "      <td>53.0000</td>\n",
       "      <td>413</td>\n",
       "    </tr>\n",
       "    <tr>\n",
       "      <th>total_rec_prncp</th>\n",
       "      <td>4400.00</td>\n",
       "      <td>13499.995</td>\n",
       "      <td>9099.995</td>\n",
       "      <td>-9249.9925</td>\n",
       "      <td>27149.9875</td>\n",
       "      <td>530</td>\n",
       "    </tr>\n",
       "    <tr>\n",
       "      <th>total_rec_int</th>\n",
       "      <td>657.10</td>\n",
       "      <td>2803.090</td>\n",
       "      <td>2145.990</td>\n",
       "      <td>-2561.8850</td>\n",
       "      <td>6022.0750</td>\n",
       "      <td>975</td>\n",
       "    </tr>\n",
       "    <tr>\n",
       "      <th>total_rec_late_fee</th>\n",
       "      <td>0.00</td>\n",
       "      <td>0.000</td>\n",
       "      <td>0.000</td>\n",
       "      <td>0.0000</td>\n",
       "      <td>0.0000</td>\n",
       "      <td>934</td>\n",
       "    </tr>\n",
       "    <tr>\n",
       "      <th>collection_recovery_fee</th>\n",
       "      <td>0.00</td>\n",
       "      <td>0.000</td>\n",
       "      <td>0.000</td>\n",
       "      <td>0.0000</td>\n",
       "      <td>0.0000</td>\n",
       "      <td>317</td>\n",
       "    </tr>\n",
       "    <tr>\n",
       "      <th>last_fico_range_high</th>\n",
       "      <td>644.00</td>\n",
       "      <td>749.000</td>\n",
       "      <td>105.000</td>\n",
       "      <td>486.5000</td>\n",
       "      <td>906.5000</td>\n",
       "      <td>24</td>\n",
       "    </tr>\n",
       "    <tr>\n",
       "      <th>last_fico_range_low</th>\n",
       "      <td>640.00</td>\n",
       "      <td>745.000</td>\n",
       "      <td>105.000</td>\n",
       "      <td>482.5000</td>\n",
       "      <td>902.5000</td>\n",
       "      <td>795</td>\n",
       "    </tr>\n",
       "    <tr>\n",
       "      <th>pub_rec_bankruptcies</th>\n",
       "      <td>0.00</td>\n",
       "      <td>0.000</td>\n",
       "      <td>0.000</td>\n",
       "      <td>0.0000</td>\n",
       "      <td>0.0000</td>\n",
       "      <td>1854</td>\n",
       "    </tr>\n",
       "    <tr>\n",
       "      <th>fico_range_mean</th>\n",
       "      <td>687.00</td>\n",
       "      <td>742.000</td>\n",
       "      <td>55.000</td>\n",
       "      <td>604.5000</td>\n",
       "      <td>824.5000</td>\n",
       "      <td>3</td>\n",
       "    </tr>\n",
       "  </tbody>\n",
       "</table>\n",
       "</div>"
      ],
      "text/plain": [
       "                               Q1         Q3        IQR  Lower_outliers  \\\n",
       "loan_amnt                 5200.00  15000.000   9800.000      -9500.0000   \n",
       "funded_amnt               5000.00  15000.000  10000.000     -10000.0000   \n",
       "funded_amnt_inv           4950.00  14000.000   9050.000      -8625.0000   \n",
       "int_rate                     9.63     14.720      5.090          1.9950   \n",
       "installment                165.52    428.180    262.660       -228.4700   \n",
       "emp_length                   2.00      9.000      7.000         -8.5000   \n",
       "annual_inc               40000.00  82500.000  42500.000     -23750.0000   \n",
       "issue_d                   2010.00   2011.000      1.000       2008.5000   \n",
       "loan_status                  1.00      1.000      0.000          1.0000   \n",
       "dti                          8.20     18.680     10.480         -7.5200   \n",
       "delinq_2yrs                  0.00      0.000      0.000          0.0000   \n",
       "earliest_cr_line          1993.00   2001.000      8.000       1981.0000   \n",
       "inq_last_6mths               0.00      2.000      2.000         -3.0000   \n",
       "open_acc                     6.00     12.000      6.000         -3.0000   \n",
       "pub_rec                      0.00      0.000      0.000          0.0000   \n",
       "revol_bal                 3635.00  17251.000  13616.000     -16789.0000   \n",
       "revol_util                  25.80     72.600     46.800        -44.4000   \n",
       "total_acc                   13.00     29.000     16.000        -11.0000   \n",
       "total_rec_prncp           4400.00  13499.995   9099.995      -9249.9925   \n",
       "total_rec_int              657.10   2803.090   2145.990      -2561.8850   \n",
       "total_rec_late_fee           0.00      0.000      0.000          0.0000   \n",
       "collection_recovery_fee      0.00      0.000      0.000          0.0000   \n",
       "last_fico_range_high       644.00    749.000    105.000        486.5000   \n",
       "last_fico_range_low        640.00    745.000    105.000        482.5000   \n",
       "pub_rec_bankruptcies         0.00      0.000      0.000          0.0000   \n",
       "fico_range_mean            687.00    742.000     55.000        604.5000   \n",
       "\n",
       "                         Upper_outliers  number of outliers  \n",
       "loan_amnt                    29700.0000                 729  \n",
       "funded_amnt                  30000.0000                 618  \n",
       "funded_amnt_inv              27575.0000                 605  \n",
       "int_rate                        22.3550                  29  \n",
       "installment                    822.1700                 331  \n",
       "emp_length                      19.5000                   0  \n",
       "annual_inc                  146250.0000                 341  \n",
       "issue_d                       2012.5000                 603  \n",
       "loan_status                      1.0000                   0  \n",
       "dti                             34.4000                   0  \n",
       "delinq_2yrs                      0.0000                1140  \n",
       "earliest_cr_line              2013.0000                 631  \n",
       "inq_last_6mths                   5.0000                 781  \n",
       "open_acc                        21.0000                 449  \n",
       "pub_rec                          0.0000                2376  \n",
       "revol_bal                    37675.0000                 678  \n",
       "revol_util                     142.8000                   0  \n",
       "total_acc                       53.0000                 413  \n",
       "total_rec_prncp              27149.9875                 530  \n",
       "total_rec_int                 6022.0750                 975  \n",
       "total_rec_late_fee               0.0000                 934  \n",
       "collection_recovery_fee          0.0000                 317  \n",
       "last_fico_range_high           906.5000                  24  \n",
       "last_fico_range_low            902.5000                 795  \n",
       "pub_rec_bankruptcies             0.0000                1854  \n",
       "fico_range_mean                824.5000                   3  "
      ]
     },
     "execution_count": 48,
     "metadata": {},
     "output_type": "execute_result"
    }
   ],
   "source": [
    "Q1=data_outliers.quantile(q=0.25)\n",
    "Q3=data_outliers.quantile(q=0.75)\n",
    "IQR=Q3-Q1\n",
    "L_outliers=Q1-1.5*(Q3-Q1)\n",
    "U_outliers=Q3+1.5*(Q3-Q1)\n",
    "num_outliers= data_outliers[((data_outliers- data_outliers.mean()) /data_outliers.std()).abs() >3].count()\n",
    "\n",
    "outliers_amount=pd.DataFrame({'Q1':Q1, 'Q3':Q3, 'IQR':IQR, 'Lower_outliers':L_outliers,\n",
    "                            'Upper_outliers' :U_outliers, 'number of outliers':num_outliers })\n",
    "\n",
    "outliers_amount"
   ]
  },
  {
   "cell_type": "code",
   "execution_count": 49,
   "metadata": {},
   "outputs": [],
   "source": [
    "#Zamieniam wartości odstające na mediany\n",
    "for col_name in data_outliers.columns:\n",
    "    q1 = data_outliers[col_name].quantile(0.25)\n",
    "    q3 = data_outliers[col_name].quantile(0.75)\n",
    "    iqr = q3 - q1\n",
    "    \n",
    "    low = q1-1.5*iqr\n",
    "    high = q3+1.5*iqr\n",
    "    data_outliers.loc[(data_outliers[col_name] < low) | (data_outliers[col_name] > high), col_name] = data_outliers[col_name].median()"
   ]
  },
  {
   "cell_type": "markdown",
   "metadata": {},
   "source": [
    "8. Robię korelację po zrobieniu porządku z wartościami odstającymi."
   ]
  },
  {
   "cell_type": "code",
   "execution_count": null,
   "metadata": {},
   "outputs": [],
   "source": [
    "#coś nie tak bo są NaN, dopytać Marcina . Czy przed zamianą outliersow powinnam usunąc kolumny gdzie outliers=0?\n",
    "new_corr=data_outliers.corr()\n",
    "new_corr"
   ]
  },
  {
   "cell_type": "markdown",
   "metadata": {},
   "source": [
    "9. Robię Encoding na kolumnach fico_rating, sub_grade, int_rate_rating i loan_amnt_rating. Na reszcie zmiennych kategorycznych robię One Hot Encoding"
   ]
  },
  {
   "cell_type": "code",
   "execution_count": 50,
   "metadata": {},
   "outputs": [
    {
     "data": {
      "text/html": [
       "<div>\n",
       "<style scoped>\n",
       "    .dataframe tbody tr th:only-of-type {\n",
       "        vertical-align: middle;\n",
       "    }\n",
       "\n",
       "    .dataframe tbody tr th {\n",
       "        vertical-align: top;\n",
       "    }\n",
       "\n",
       "    .dataframe thead th {\n",
       "        text-align: right;\n",
       "    }\n",
       "</style>\n",
       "<table border=\"1\" class=\"dataframe\">\n",
       "  <thead>\n",
       "    <tr style=\"text-align: right;\">\n",
       "      <th></th>\n",
       "      <th>loan_amnt</th>\n",
       "      <th>funded_amnt</th>\n",
       "      <th>funded_amnt_inv</th>\n",
       "      <th>term</th>\n",
       "      <th>int_rate</th>\n",
       "      <th>installment</th>\n",
       "      <th>sub_grade</th>\n",
       "      <th>emp_length</th>\n",
       "      <th>home_ownership</th>\n",
       "      <th>annual_inc</th>\n",
       "      <th>...</th>\n",
       "      <th>total_rec_late_fee</th>\n",
       "      <th>collection_recovery_fee</th>\n",
       "      <th>last_fico_range_high</th>\n",
       "      <th>last_fico_range_low</th>\n",
       "      <th>pub_rec_bankruptcies</th>\n",
       "      <th>fico_range_mean</th>\n",
       "      <th>fico_rating</th>\n",
       "      <th>new_purpose</th>\n",
       "      <th>int_rate_rating</th>\n",
       "      <th>loan_amnt_rating</th>\n",
       "    </tr>\n",
       "  </thead>\n",
       "  <tbody>\n",
       "    <tr>\n",
       "      <th>0</th>\n",
       "      <td>5000.0</td>\n",
       "      <td>5000.0</td>\n",
       "      <td>4975.0</td>\n",
       "      <td>36 months</td>\n",
       "      <td>10.65</td>\n",
       "      <td>162.87</td>\n",
       "      <td>6</td>\n",
       "      <td>10</td>\n",
       "      <td>RENT</td>\n",
       "      <td>24000.0</td>\n",
       "      <td>...</td>\n",
       "      <td>0.00</td>\n",
       "      <td>0.00</td>\n",
       "      <td>739.0</td>\n",
       "      <td>735.0</td>\n",
       "      <td>0.0</td>\n",
       "      <td>737.0</td>\n",
       "      <td>2</td>\n",
       "      <td>Other</td>\n",
       "      <td>2</td>\n",
       "      <td>3</td>\n",
       "    </tr>\n",
       "    <tr>\n",
       "      <th>1</th>\n",
       "      <td>2500.0</td>\n",
       "      <td>2500.0</td>\n",
       "      <td>2500.0</td>\n",
       "      <td>60 months</td>\n",
       "      <td>15.27</td>\n",
       "      <td>59.83</td>\n",
       "      <td>13</td>\n",
       "      <td>1</td>\n",
       "      <td>RENT</td>\n",
       "      <td>30000.0</td>\n",
       "      <td>...</td>\n",
       "      <td>0.00</td>\n",
       "      <td>1.11</td>\n",
       "      <td>499.0</td>\n",
       "      <td>0.0</td>\n",
       "      <td>0.0</td>\n",
       "      <td>742.0</td>\n",
       "      <td>3</td>\n",
       "      <td>Other</td>\n",
       "      <td>0</td>\n",
       "      <td>3</td>\n",
       "    </tr>\n",
       "    <tr>\n",
       "      <th>2</th>\n",
       "      <td>2400.0</td>\n",
       "      <td>2400.0</td>\n",
       "      <td>2400.0</td>\n",
       "      <td>36 months</td>\n",
       "      <td>15.96</td>\n",
       "      <td>84.33</td>\n",
       "      <td>14</td>\n",
       "      <td>10</td>\n",
       "      <td>RENT</td>\n",
       "      <td>12252.0</td>\n",
       "      <td>...</td>\n",
       "      <td>0.00</td>\n",
       "      <td>0.00</td>\n",
       "      <td>739.0</td>\n",
       "      <td>735.0</td>\n",
       "      <td>0.0</td>\n",
       "      <td>737.0</td>\n",
       "      <td>2</td>\n",
       "      <td>Other</td>\n",
       "      <td>0</td>\n",
       "      <td>3</td>\n",
       "    </tr>\n",
       "    <tr>\n",
       "      <th>3</th>\n",
       "      <td>10000.0</td>\n",
       "      <td>10000.0</td>\n",
       "      <td>10000.0</td>\n",
       "      <td>36 months</td>\n",
       "      <td>13.49</td>\n",
       "      <td>339.31</td>\n",
       "      <td>10</td>\n",
       "      <td>10</td>\n",
       "      <td>RENT</td>\n",
       "      <td>49200.0</td>\n",
       "      <td>...</td>\n",
       "      <td>16.97</td>\n",
       "      <td>0.00</td>\n",
       "      <td>604.0</td>\n",
       "      <td>600.0</td>\n",
       "      <td>0.0</td>\n",
       "      <td>692.0</td>\n",
       "      <td>2</td>\n",
       "      <td>Other</td>\n",
       "      <td>2</td>\n",
       "      <td>3</td>\n",
       "    </tr>\n",
       "    <tr>\n",
       "      <th>4</th>\n",
       "      <td>3000.0</td>\n",
       "      <td>3000.0</td>\n",
       "      <td>3000.0</td>\n",
       "      <td>60 months</td>\n",
       "      <td>12.69</td>\n",
       "      <td>67.79</td>\n",
       "      <td>9</td>\n",
       "      <td>1</td>\n",
       "      <td>RENT</td>\n",
       "      <td>80000.0</td>\n",
       "      <td>...</td>\n",
       "      <td>0.00</td>\n",
       "      <td>0.00</td>\n",
       "      <td>684.0</td>\n",
       "      <td>680.0</td>\n",
       "      <td>0.0</td>\n",
       "      <td>697.0</td>\n",
       "      <td>2</td>\n",
       "      <td>Other</td>\n",
       "      <td>2</td>\n",
       "      <td>3</td>\n",
       "    </tr>\n",
       "  </tbody>\n",
       "</table>\n",
       "<p>5 rows × 35 columns</p>\n",
       "</div>"
      ],
      "text/plain": [
       "   loan_amnt  funded_amnt  funded_amnt_inv        term  int_rate  installment  \\\n",
       "0     5000.0       5000.0           4975.0   36 months     10.65       162.87   \n",
       "1     2500.0       2500.0           2500.0   60 months     15.27        59.83   \n",
       "2     2400.0       2400.0           2400.0   36 months     15.96        84.33   \n",
       "3    10000.0      10000.0          10000.0   36 months     13.49       339.31   \n",
       "4     3000.0       3000.0           3000.0   60 months     12.69        67.79   \n",
       "\n",
       "   sub_grade  emp_length home_ownership  annual_inc  ... total_rec_late_fee  \\\n",
       "0          6          10           RENT     24000.0  ...               0.00   \n",
       "1         13           1           RENT     30000.0  ...               0.00   \n",
       "2         14          10           RENT     12252.0  ...               0.00   \n",
       "3         10          10           RENT     49200.0  ...              16.97   \n",
       "4          9           1           RENT     80000.0  ...               0.00   \n",
       "\n",
       "   collection_recovery_fee  last_fico_range_high last_fico_range_low  \\\n",
       "0                     0.00                 739.0               735.0   \n",
       "1                     1.11                 499.0                 0.0   \n",
       "2                     0.00                 739.0               735.0   \n",
       "3                     0.00                 604.0               600.0   \n",
       "4                     0.00                 684.0               680.0   \n",
       "\n",
       "   pub_rec_bankruptcies  fico_range_mean  fico_rating  new_purpose  \\\n",
       "0                   0.0            737.0            2        Other   \n",
       "1                   0.0            742.0            3        Other   \n",
       "2                   0.0            737.0            2        Other   \n",
       "3                   0.0            692.0            2        Other   \n",
       "4                   0.0            697.0            2        Other   \n",
       "\n",
       "   int_rate_rating  loan_amnt_rating  \n",
       "0                2                 3  \n",
       "1                0                 3  \n",
       "2                0                 3  \n",
       "3                2                 3  \n",
       "4                2                 3  \n",
       "\n",
       "[5 rows x 35 columns]"
      ]
     },
     "execution_count": 50,
     "metadata": {},
     "output_type": "execute_result"
    }
   ],
   "source": [
    "from sklearn.preprocessing import LabelEncoder\n",
    "\n",
    "cols = ['fico_rating', 'sub_grade', 'int_rate_rating', 'loan_amnt_rating']\n",
    "\n",
    "for c in cols:\n",
    "    lbl = LabelEncoder() \n",
    "    lbl.fit(list(data[c].values)) \n",
    "    data[c] = lbl.transform(list(data[c].values))\n",
    "\n",
    "data.head()"
   ]
  },
  {
   "cell_type": "code",
   "execution_count": 51,
   "metadata": {},
   "outputs": [
    {
     "data": {
      "text/plain": [
       "(42535, 92)"
      ]
     },
     "execution_count": 51,
     "metadata": {},
     "output_type": "execute_result"
    }
   ],
   "source": [
    "#one hote encoding\n",
    "encode_data = pd.get_dummies(data)\n",
    "encode_data.shape"
   ]
  },
  {
   "cell_type": "code",
   "execution_count": 52,
   "metadata": {},
   "outputs": [
    {
     "data": {
      "text/plain": [
       "Index(['loan_amnt', 'funded_amnt', 'funded_amnt_inv', 'int_rate',\n",
       "       'installment', 'sub_grade', 'emp_length', 'annual_inc', 'issue_d',\n",
       "       'loan_status', 'dti', 'delinq_2yrs', 'earliest_cr_line',\n",
       "       'inq_last_6mths', 'open_acc', 'pub_rec', 'revol_bal', 'revol_util',\n",
       "       'total_acc', 'total_rec_prncp', 'total_rec_int', 'total_rec_late_fee',\n",
       "       'collection_recovery_fee', 'last_fico_range_high',\n",
       "       'last_fico_range_low', 'pub_rec_bankruptcies', 'fico_range_mean',\n",
       "       'fico_rating', 'int_rate_rating', 'loan_amnt_rating', 'term_ 36 months',\n",
       "       'term_ 60 months', 'home_ownership_MORTGAGE', 'home_ownership_NONE',\n",
       "       'home_ownership_OTHER', 'home_ownership_OWN', 'home_ownership_RENT',\n",
       "       'verification_status_Not Verified',\n",
       "       'verification_status_Source Verified', 'verification_status_Verified',\n",
       "       'addr_state_AK', 'addr_state_AL', 'addr_state_AR', 'addr_state_AZ',\n",
       "       'addr_state_CA', 'addr_state_CO', 'addr_state_CT', 'addr_state_DC',\n",
       "       'addr_state_DE', 'addr_state_FL', 'addr_state_GA', 'addr_state_HI',\n",
       "       'addr_state_IA', 'addr_state_ID', 'addr_state_IL', 'addr_state_IN',\n",
       "       'addr_state_KS', 'addr_state_KY', 'addr_state_LA', 'addr_state_MA',\n",
       "       'addr_state_MD', 'addr_state_ME', 'addr_state_MI', 'addr_state_MN',\n",
       "       'addr_state_MO', 'addr_state_MS', 'addr_state_MT', 'addr_state_NC',\n",
       "       'addr_state_NE', 'addr_state_NH', 'addr_state_NJ', 'addr_state_NM',\n",
       "       'addr_state_NV', 'addr_state_NY', 'addr_state_OH', 'addr_state_OK',\n",
       "       'addr_state_OR', 'addr_state_PA', 'addr_state_RI', 'addr_state_SC',\n",
       "       'addr_state_SD', 'addr_state_TN', 'addr_state_TX', 'addr_state_UT',\n",
       "       'addr_state_VA', 'addr_state_VT', 'addr_state_WA', 'addr_state_WI',\n",
       "       'addr_state_WV', 'addr_state_WY', 'new_purpose_Consolidation',\n",
       "       'new_purpose_Other'],\n",
       "      dtype='object')"
      ]
     },
     "execution_count": 52,
     "metadata": {},
     "output_type": "execute_result"
    }
   ],
   "source": [
    "encode_data.columns"
   ]
  },
  {
   "cell_type": "markdown",
   "metadata": {},
   "source": [
    "## 4. Modelowanie"
   ]
  },
  {
   "cell_type": "code",
   "execution_count": 165,
   "metadata": {},
   "outputs": [],
   "source": [
    "import pandas as pd\n",
    "from sklearn.cluster import KMeans\n",
    "from sklearn.metrics import silhouette_score\n",
    "\n",
    "from scipy.cluster.hierarchy import linkage\n",
    "from scipy.cluster.hierarchy import dendrogram\n",
    "from scipy.cluster.hierarchy import cut_tree\n",
    "\n",
    "from sklearn.preprocessing import StandardScaler\n",
    "from sklearn.decomposition import PCA\n",
    "from sklearn.decomposition import IncrementalPCA\n",
    "from sklearn.preprocessing import StandardScaler\n",
    "from sklearn.cluster import DBSCAN\n",
    "from sklearn.cluster import AgglomerativeClustering\n",
    "from scipy.cluster.hierarchy import dendrogram, linkage, fcluster\n",
    "\n",
    "from sklearn.tree import DecisionTreeClassifier\n",
    "from sklearn.metrics import classification_report,confusion_matrix\n",
    "from sklearn.metrics import precision_score\n",
    "from sklearn.metrics import accuracy_score\n",
    "from sklearn.metrics import roc_curve\n",
    "\n",
    "from sklearn.metrics import roc_auc_score, auc\n",
    "from sklearn import tree\n",
    "from sklearn.ensemble import RandomForestClassifier\n",
    "from sklearn.model_selection import RandomizedSearchCV\n",
    "\n",
    "from sklearn.svm import SVC\n",
    "from sklearn.model_selection import GridSearchCV\n",
    "\n",
    "from sklearn.model_selection import train_test_split\n",
    "from sklearn.ensemble import BaggingClassifier\n",
    "from sklearn.ensemble import AdaBoostClassifier\n",
    "from sklearn.ensemble import GradientBoostingClassifier\n",
    "from sklearn.svm import SVC \n",
    "\n",
    "from sklearn.metrics import mean_squared_error,mean_absolute_error,r2_score\n",
    "from sklearn import metrics\n",
    "from sklearn.model_selection import KFold\n",
    "from sklearn.model_selection import cross_val_score"
   ]
  },
  {
   "cell_type": "markdown",
   "metadata": {},
   "source": [
    "### A. Klasteryzacja (wspieram się blogiem mateuszgrzyb.pl)"
   ]
  },
  {
   "cell_type": "code",
   "execution_count": 53,
   "metadata": {},
   "outputs": [],
   "source": [
    "#usuwam target ze zbioru encode_data- tworząc nowy zbiór bez targetu o nazwie encode_data1\n",
    "encode_data1=encode_data.drop(['loan_status'], axis=1)"
   ]
  },
  {
   "cell_type": "code",
   "execution_count": 54,
   "metadata": {},
   "outputs": [],
   "source": [
    "scaler=StandardScaler()\n",
    "scaler.fit(encode_data1)\n",
    "encode_data1_std=scaler.transform(encode_data1)"
   ]
  },
  {
   "cell_type": "code",
   "execution_count": 55,
   "metadata": {},
   "outputs": [
    {
     "data": {
      "text/html": [
       "<div>\n",
       "<style scoped>\n",
       "    .dataframe tbody tr th:only-of-type {\n",
       "        vertical-align: middle;\n",
       "    }\n",
       "\n",
       "    .dataframe tbody tr th {\n",
       "        vertical-align: top;\n",
       "    }\n",
       "\n",
       "    .dataframe thead th {\n",
       "        text-align: right;\n",
       "    }\n",
       "</style>\n",
       "<table border=\"1\" class=\"dataframe\">\n",
       "  <thead>\n",
       "    <tr style=\"text-align: right;\">\n",
       "      <th></th>\n",
       "      <th>c1</th>\n",
       "      <th>c2</th>\n",
       "    </tr>\n",
       "  </thead>\n",
       "  <tbody>\n",
       "    <tr>\n",
       "      <th>0</th>\n",
       "      <td>-45553.829419</td>\n",
       "      <td>235.500277</td>\n",
       "    </tr>\n",
       "    <tr>\n",
       "      <th>1</th>\n",
       "      <td>-41281.068893</td>\n",
       "      <td>-13761.430786</td>\n",
       "    </tr>\n",
       "    <tr>\n",
       "      <th>2</th>\n",
       "      <td>-58698.829820</td>\n",
       "      <td>-10068.355111</td>\n",
       "    </tr>\n",
       "    <tr>\n",
       "      <th>3</th>\n",
       "      <td>-20777.375333</td>\n",
       "      <td>-5631.559632</td>\n",
       "    </tr>\n",
       "    <tr>\n",
       "      <th>4</th>\n",
       "      <td>11278.515431</td>\n",
       "      <td>4036.275618</td>\n",
       "    </tr>\n",
       "  </tbody>\n",
       "</table>\n",
       "</div>"
      ],
      "text/plain": [
       "             c1            c2\n",
       "0 -45553.829419    235.500277\n",
       "1 -41281.068893 -13761.430786\n",
       "2 -58698.829820 -10068.355111\n",
       "3 -20777.375333  -5631.559632\n",
       "4  11278.515431   4036.275618"
      ]
     },
     "execution_count": 55,
     "metadata": {},
     "output_type": "execute_result"
    }
   ],
   "source": [
    "#redukuję wymiary do 2\n",
    "pca = IncrementalPCA(n_components=2)\n",
    "encode_data1_pca = pca.fit_transform(encode_data1)\n",
    "data_pca= pd.DataFrame(encode_data1_pca, columns=['c1', 'c2'], index=encode_data1.index)\n",
    "data_pca.head()"
   ]
  },
  {
   "cell_type": "markdown",
   "metadata": {},
   "source": [
    "Przed rozpoczęciem procesu grupowania wskazane jest wykonanie kilku operacji na zbiorze:\n",
    "\n",
    "    Usunięcie ujemnych wartości (przed transformacją logarytmiczną).\n",
    "    Usunięcie skośności zmiennych (transformacja logarytmiczna).\n",
    "    Centrowanie i skalowanie zmiennych.\n"
   ]
  },
  {
   "cell_type": "code",
   "execution_count": 56,
   "metadata": {},
   "outputs": [
    {
     "data": {
      "image/png": "[encoded data removed]",
      "text/plain": [
       "<Figure size 720x576 with 1 Axes>"
      ]
     },
     "metadata": {
      "needs_background": "light"
     },
     "output_type": "display_data"
    },
    {
     "data": {
      "image/png": "[encoded data removed]",
      "text/plain": [
       "<Figure size 720x576 with 1 Axes>"
      ]
     },
     "metadata": {
      "needs_background": "light"
     },
     "output_type": "display_data"
    }
   ],
   "source": [
    "plt.figure(figsize=(10,8))\n",
    "sns.distplot(data_pca.c1, color = 'green').set(title = 'Wykres gęstości - zmienna c1')\n",
    "plt.show()\n",
    "plt.figure(figsize=(10,8))\n",
    "sns.distplot(data_pca.c2, color = 'green').set(title = 'Wykres gęstości - zmienna c2')\n",
    "plt.show()"
   ]
  },
  {
   "cell_type": "code",
   "execution_count": 57,
   "metadata": {},
   "outputs": [],
   "source": [
    "#usuwam wartości ujemne- zwiększam wartość poszczególnych zmiennych o wartość bezwzględną z najmniejszej wartości \n",
    "#występującą w danej zmiennej. By uniknąć zer, dodaję jeszcze 1\n",
    "for col in data_pca:\n",
    "    if data_pca[col].min() <= 0:\n",
    "        data_pca[col] = data_pca[col] + np.abs(data_pca[col].min()) + 1"
   ]
  },
  {
   "cell_type": "code",
   "execution_count": 58,
   "metadata": {},
   "outputs": [],
   "source": [
    "#usuwam skośność zmiennych\n",
    "data_pca = np.log(data_pca)"
   ]
  },
  {
   "cell_type": "code",
   "execution_count": 59,
   "metadata": {},
   "outputs": [],
   "source": [
    "#usuwam wartości odstające stosując metodę 1,5 odstępu międzykwartylowego \n",
    "q1 = data_pca.quantile(0.25)\n",
    "q3 = data_pca.quantile(0.75)\n",
    "iqr = q3 - q1\n",
    "\n",
    "low_boundary = (q1 - 1.5 * iqr)\n",
    "upp_boundary = (q3 + 1.5 * iqr)\n",
    "num_of_outliers_L = (data_pca[iqr.index] < low_boundary).sum()\n",
    "num_of_outliers_U = (data_pca[iqr.index] > upp_boundary).sum()\n",
    "outliers = pd.DataFrame({'lower_boundary':low_boundary, 'upper_boundary':upp_boundary,'num_of_outliers__lower_boundary':num_of_outliers_L, 'num_of_outliers__upper_boundary':num_of_outliers_U})"
   ]
  },
  {
   "cell_type": "code",
   "execution_count": 60,
   "metadata": {},
   "outputs": [
    {
     "data": {
      "text/html": [
       "<div>\n",
       "<style scoped>\n",
       "    .dataframe tbody tr th:only-of-type {\n",
       "        vertical-align: middle;\n",
       "    }\n",
       "\n",
       "    .dataframe tbody tr th {\n",
       "        vertical-align: top;\n",
       "    }\n",
       "\n",
       "    .dataframe thead th {\n",
       "        text-align: right;\n",
       "    }\n",
       "</style>\n",
       "<table border=\"1\" class=\"dataframe\">\n",
       "  <thead>\n",
       "    <tr style=\"text-align: right;\">\n",
       "      <th></th>\n",
       "      <th>lower_boundary</th>\n",
       "      <th>upper_boundary</th>\n",
       "      <th>num_of_outliers__lower_boundary</th>\n",
       "      <th>num_of_outliers__upper_boundary</th>\n",
       "    </tr>\n",
       "  </thead>\n",
       "  <tbody>\n",
       "    <tr>\n",
       "      <th>c1</th>\n",
       "      <td>9.508774</td>\n",
       "      <td>12.427150</td>\n",
       "      <td>521</td>\n",
       "      <td>414</td>\n",
       "    </tr>\n",
       "    <tr>\n",
       "      <th>c2</th>\n",
       "      <td>13.497873</td>\n",
       "      <td>13.580431</td>\n",
       "      <td>135</td>\n",
       "      <td>2051</td>\n",
       "    </tr>\n",
       "  </tbody>\n",
       "</table>\n",
       "</div>"
      ],
      "text/plain": [
       "    lower_boundary  upper_boundary  num_of_outliers__lower_boundary  \\\n",
       "c1        9.508774       12.427150                              521   \n",
       "c2       13.497873       13.580431                              135   \n",
       "\n",
       "    num_of_outliers__upper_boundary  \n",
       "c1                              414  \n",
       "c2                             2051  "
      ]
     },
     "execution_count": 60,
     "metadata": {},
     "output_type": "execute_result"
    }
   ],
   "source": [
    "outliers"
   ]
  },
  {
   "cell_type": "code",
   "execution_count": 61,
   "metadata": {},
   "outputs": [],
   "source": [
    "# w pętli usuwam wartości nie spełniające poniższego warunku\n",
    "for row in outliers.iterrows():\n",
    "    data_pca = data_pca[(data_pca[row[0]] >= row[1]['lower_boundary']) & (data_pca[row[0]] <= row[1]['upper_boundary'])]"
   ]
  },
  {
   "cell_type": "code",
   "execution_count": 62,
   "metadata": {},
   "outputs": [],
   "source": [
    "#standaryzuje zmienne\n",
    "scaler = StandardScaler()\n",
    "scaler.fit(data_pca)\n",
    "data_pca_std = scaler.transform(data_pca)\n",
    "data_pca = pd.DataFrame(data=data_pca_std, index=data_pca.index, columns=data_pca.columns)"
   ]
  },
  {
   "cell_type": "code",
   "execution_count": 63,
   "metadata": {},
   "outputs": [
    {
     "data": {
      "image/png": "[encoded data removed]",
      "text/plain": [
       "<Figure size 720x576 with 1 Axes>"
      ]
     },
     "metadata": {
      "needs_background": "light"
     },
     "output_type": "display_data"
    },
    {
     "data": {
      "image/png": "[encoded data removed]",
      "text/plain": [
       "<Figure size 720x576 with 1 Axes>"
      ]
     },
     "metadata": {
      "needs_background": "light"
     },
     "output_type": "display_data"
    }
   ],
   "source": [
    "plt.figure(figsize=(10,8))\n",
    "sns.distplot(data_pca.c1, color = 'green').set(title = 'Wykres gęstości - zmienna c1')\n",
    "plt.show()\n",
    "plt.figure(figsize=(10,8))\n",
    "sns.distplot(data_pca.c2, color = 'green').set(title = 'Wykres gęstości - zmienna c2')\n",
    "plt.show()"
   ]
  },
  {
   "cell_type": "markdown",
   "metadata": {},
   "source": [
    "Ograniczę nieco liczebność zbioru. Jedną z wad grupowania hierarchicznego jest dosyć wysoka złożoność obliczeniowa. Ponadto, zbyt dużą liczba obserwacji nieco utrudni obserwację klastrów na wykresie. Pozostawię zatem 1000 obserwacji."
   ]
  },
  {
   "cell_type": "code",
   "execution_count": 71,
   "metadata": {},
   "outputs": [],
   "source": [
    "data_pca= data_pca.sample(1000, random_state=42)"
   ]
  },
  {
   "cell_type": "code",
   "execution_count": 72,
   "metadata": {},
   "outputs": [
    {
     "data": {
      "image/png": "[encoded data removed]",
      "text/plain": [
       "<Figure size 360x360 with 1 Axes>"
      ]
     },
     "metadata": {
      "needs_background": "light"
     },
     "output_type": "display_data"
    }
   ],
   "source": [
    "#jak prezentują się wylosowane obserwacje na płaszczyźnie dwuwymiarowej.\n",
    "sns.lmplot('c1', 'c2', data = data_pca, scatter_kws={\"color\": \"green\"}, fit_reg=False).set(title = 'Wykres punktowy zbioru')\n",
    "plt.show()"
   ]
  },
  {
   "cell_type": "markdown",
   "metadata": {},
   "source": [
    "A1. wykonam grupowanie hierarchiczne z użciem biblioteki sklearn.\n",
    "Wykonam grupowanie, w którym miarą odległości będzie odległość euklidesowa, natomiast jako metodę łączenia grup obiorę kryterium Warda. Sklearn daje możliwość wyboru liczby grup. Ustalam zatem ten parametr na 5."
   ]
  },
  {
   "cell_type": "code",
   "execution_count": 73,
   "metadata": {},
   "outputs": [],
   "source": [
    "model_1 = AgglomerativeClustering(linkage='ward', affinity='euclidean', n_clusters=5).fit(data_pca)"
   ]
  },
  {
   "cell_type": "code",
   "execution_count": 74,
   "metadata": {},
   "outputs": [],
   "source": [
    "#aby łatwiej zbrazowć model dodaję zmienną do zbioru\n",
    "data_pca['Cluster_1'] = model_1.labels_"
   ]
  },
  {
   "cell_type": "code",
   "execution_count": 75,
   "metadata": {},
   "outputs": [
    {
     "data": {
      "image/png": "[encoded data removed]",
      "text/plain": [
       "<Figure size 414.875x360 with 1 Axes>"
      ]
     },
     "metadata": {
      "needs_background": "light"
     },
     "output_type": "display_data"
    }
   ],
   "source": [
    "sns.lmplot('c1', 'c2', data = data_pca, hue = 'Cluster_1', fit_reg=False, palette = ['red', 'green', 'blue', 'yellow', 'purple']).set(title='Wizualizacja grup')\n",
    "plt.show()"
   ]
  },
  {
   "cell_type": "markdown",
   "metadata": {},
   "source": [
    "A2. Grupowanie z użyciem biblioteki SciPy- używam metody single linkage i complete linkage"
   ]
  },
  {
   "cell_type": "code",
   "execution_count": 76,
   "metadata": {},
   "outputs": [
    {
     "data": {
      "image/png": "[encoded data removed]",
      "text/plain": [
       "<Figure size 432x288 with 1 Axes>"
      ]
     },
     "metadata": {
      "needs_background": "light"
     },
     "output_type": "display_data"
    },
    {
     "data": {
      "text/plain": [
       "<Figure size 1152x1008 with 0 Axes>"
      ]
     },
     "metadata": {},
     "output_type": "display_data"
    }
   ],
   "source": [
    "model_2 = linkage(data_pca, method=\"single\", metric='euclidean')\n",
    "dendrogram(model_2)\n",
    "fig=plt.figure(figsize=(16,14))\n",
    "plt.show()"
   ]
  },
  {
   "cell_type": "code",
   "execution_count": 77,
   "metadata": {},
   "outputs": [
    {
     "data": {
      "image/png": "[encoded data removed]",
      "text/plain": [
       "<Figure size 432x288 with 1 Axes>"
      ]
     },
     "metadata": {
      "needs_background": "light"
     },
     "output_type": "display_data"
    },
    {
     "data": {
      "text/plain": [
       "<Figure size 1152x1008 with 0 Axes>"
      ]
     },
     "metadata": {},
     "output_type": "display_data"
    }
   ],
   "source": [
    "model_3 = linkage(data_pca, method=\"complete\", metric='euclidean')\n",
    "dendrogram(model_3)\n",
    "fig=plt.figure(figsize=(16,14))\n",
    "plt.show()"
   ]
  },
  {
   "cell_type": "code",
   "execution_count": 78,
   "metadata": {},
   "outputs": [],
   "source": [
    "clusters1= fcluster(model_2, 5, criterion='maxclust')\n",
    "data_pca['Cluster_2'] = clusters1"
   ]
  },
  {
   "cell_type": "code",
   "execution_count": 94,
   "metadata": {},
   "outputs": [
    {
     "data": {
      "image/png": "[encoded data removed]",
      "text/plain": [
       "<Figure size 414.875x360 with 1 Axes>"
      ]
     },
     "metadata": {
      "needs_background": "light"
     },
     "output_type": "display_data"
    }
   ],
   "source": [
    "sns.lmplot('c1', 'c2', data = data_pca, hue = 'Cluster_2', fit_reg=False, palette = ['red', 'green', 'blue', 'yellow', 'purple']).set(title='Wizualizacja grup')\n",
    "plt.show()"
   ]
  },
  {
   "cell_type": "code",
   "execution_count": 79,
   "metadata": {},
   "outputs": [],
   "source": [
    "clusters2 = fcluster(model_3, 5, criterion='maxclust')\n",
    "data_pca['Cluster_3'] = clusters2"
   ]
  },
  {
   "cell_type": "code",
   "execution_count": 80,
   "metadata": {},
   "outputs": [
    {
     "data": {
      "image/png": "[encoded data removed]",
      "text/plain": [
       "<Figure size 414.75x360 with 1 Axes>"
      ]
     },
     "metadata": {
      "needs_background": "light"
     },
     "output_type": "display_data"
    }
   ],
   "source": [
    "sns.lmplot('c1', 'c2', data = data_pca, hue = 'Cluster_3', fit_reg=False, palette = ['red', 'green', 'blue', 'yellow', 'purple']).set(title='Wizualizacja grup')\n",
    "plt.show()"
   ]
  },
  {
   "cell_type": "markdown",
   "metadata": {},
   "source": [
    "Udało mi się otrzymać identyczne wyniki w przypadku tych modeli, co może potwierdzać, że w obu bibliotekach algorytm został zaimplementowany poprawnie."
   ]
  },
  {
   "cell_type": "markdown",
   "metadata": {},
   "source": [
    "A3. Klasteryzacja metodą K-means"
   ]
  },
  {
   "cell_type": "code",
   "execution_count": 81,
   "metadata": {},
   "outputs": [
    {
     "data": {
      "text/plain": [
       "KMeans(algorithm='auto', copy_x=True, init='k-means++', max_iter=1000,\n",
       "       n_clusters=5, n_init=10, n_jobs=None, precompute_distances='auto',\n",
       "       random_state=None, tol=0.0001, verbose=0)"
      ]
     },
     "execution_count": 81,
     "metadata": {},
     "output_type": "execute_result"
    }
   ],
   "source": [
    "# wykonam ją na surowych danych bez targetu encode_data1\n",
    "kmeans = KMeans(n_clusters=5, max_iter=1000) \n",
    "kmeans.fit(encode_data1)"
   ]
  },
  {
   "cell_type": "code",
   "execution_count": 82,
   "metadata": {},
   "outputs": [
    {
     "data": {
      "text/plain": [
       "array([0, 0, 0, ..., 4, 0, 0])"
      ]
     },
     "execution_count": 82,
     "metadata": {},
     "output_type": "execute_result"
    }
   ],
   "source": [
    "kmeans.labels_"
   ]
  },
  {
   "cell_type": "code",
   "execution_count": 83,
   "metadata": {},
   "outputs": [
    {
     "data": {
      "text/plain": [
       "[<matplotlib.lines.Line2D at 0x24fc83051c8>]"
      ]
     },
     "execution_count": 83,
     "metadata": {},
     "output_type": "execute_result"
    },
    {
     "data": {
      "image/png": "[encoded data removed]",
      "text/plain": [
       "<Figure size 576x432 with 1 Axes>"
      ]
     },
     "metadata": {
      "needs_background": "light"
     },
     "output_type": "display_data"
    }
   ],
   "source": [
    "#metody oceny ile klastrów powinniśmy zastosować. \n",
    "# metoda łokcia - elbow-curve\n",
    "ssd = [] \n",
    "range_n_clusters = [2, 3, 4, 5, 6, 7, 8, 9] #sprawdzamy dla danej ilosci klastrów\n",
    "for num_clusters in range_n_clusters:\n",
    "    kmeans = KMeans(n_clusters=num_clusters, max_iter=1000)\n",
    "    kmeans.fit(encode_data1)\n",
    "    \n",
    "    ssd.append(kmeans.inertia_)\n",
    "    \n",
    "plt.figure(figsize=(8,6))\n",
    "plt.plot(ssd)"
   ]
  },
  {
   "cell_type": "code",
   "execution_count": 84,
   "metadata": {},
   "outputs": [
    {
     "name": "stdout",
     "output_type": "stream",
     "text": [
      "For n_clusters=2, the silhouette score is 0.6423729850382075\n",
      "For n_clusters=3, the silhouette score is 0.6242346681703643\n",
      "For n_clusters=4, the silhouette score is 0.5556973343772824\n",
      "For n_clusters=5, the silhouette score is 0.4496668129641493\n",
      "For n_clusters=6, the silhouette score is 0.3787507954274196\n",
      "For n_clusters=7, the silhouette score is 0.3650214574212469\n",
      "For n_clusters=8, the silhouette score is 0.3157493558359441\n",
      "For n_clusters=9, the silhouette score is 0.3212559558606181\n"
     ]
    }
   ],
   "source": [
    "# Miara wewnętrzna - wskaźnik sylwetkowy\n",
    "range_n_clusters = [2, 3, 4, 5, 6, 7, 8, 9]\n",
    "\n",
    "for num_clusters in range_n_clusters:\n",
    "    \n",
    "    # intialise kmeans\n",
    "    kmeans = KMeans(n_clusters=num_clusters, max_iter=1000)\n",
    "    kmeans.fit(encode_data1)\n",
    "    \n",
    "    cluster_labels = kmeans.labels_\n",
    "    \n",
    "    # silhouette score\n",
    "    silhouette_avg = silhouette_score(encode_data1, cluster_labels)\n",
    "    print(\"For n_clusters={0}, the silhouette score is {1}\".format(num_clusters, silhouette_avg))"
   ]
  },
  {
   "cell_type": "markdown",
   "metadata": {},
   "source": [
    "Przy n=6 wynik zaczyna się stabilizować , dlatego przyjmuję n=6\n",
    "W metodzie łłokciowej wynik również stabilizuje się przy n=6"
   ]
  },
  {
   "cell_type": "code",
   "execution_count": 85,
   "metadata": {},
   "outputs": [
    {
     "data": {
      "text/plain": [
       "KMeans(algorithm='auto', copy_x=True, init='k-means++', max_iter=1000,\n",
       "       n_clusters=6, n_init=10, n_jobs=None, precompute_distances='auto',\n",
       "       random_state=42, tol=0.0001, verbose=0)"
      ]
     },
     "execution_count": 85,
     "metadata": {},
     "output_type": "execute_result"
    }
   ],
   "source": [
    "kmeans = KMeans(n_clusters=6, max_iter=1000, random_state=42)\n",
    "kmeans.fit(encode_data1)"
   ]
  },
  {
   "cell_type": "code",
   "execution_count": 87,
   "metadata": {},
   "outputs": [
    {
     "data": {
      "text/plain": [
       "array([0, 0, 0, ..., 1, 0, 1])"
      ]
     },
     "execution_count": 87,
     "metadata": {},
     "output_type": "execute_result"
    }
   ],
   "source": [
    "kmeans.labels_"
   ]
  },
  {
   "cell_type": "code",
   "execution_count": 88,
   "metadata": {},
   "outputs": [],
   "source": [
    "encode_data1['K-Means_Cluster_ID'] = kmeans.labels_"
   ]
  },
  {
   "cell_type": "code",
   "execution_count": 93,
   "metadata": {},
   "outputs": [
    {
     "data": {
      "text/plain": [
       "<matplotlib.axes._subplots.AxesSubplot at 0x24fc20c57c8>"
      ]
     },
     "execution_count": 93,
     "metadata": {},
     "output_type": "execute_result"
    },
    {
     "data": {
      "image/png": "[encoded data removed]",
      "text/plain": [
       "<Figure size 800x400 with 1 Axes>"
      ]
     },
     "metadata": {
      "needs_background": "light"
     },
     "output_type": "display_data"
    }
   ],
   "source": [
    "plt.figure(figsize=(8,4),dpi=100)  \n",
    "sns.boxplot(x='K-Means_Cluster_ID', y='loan_amnt', data=encode_data1)"
   ]
  },
  {
   "cell_type": "markdown",
   "metadata": {},
   "source": [
    "Pożyczkobiorcy z najniższą pożyczką są w klastrze 0, najwyższe zawierają się w 1, 3, 4, 5"
   ]
  },
  {
   "cell_type": "code",
   "execution_count": 94,
   "metadata": {},
   "outputs": [
    {
     "data": {
      "text/plain": [
       "<matplotlib.axes._subplots.AxesSubplot at 0x24fc203e5c8>"
      ]
     },
     "execution_count": 94,
     "metadata": {},
     "output_type": "execute_result"
    },
    {
     "data": {
      "image/png": "[encoded data removed]",
      "text/plain": [
       "<Figure size 800x400 with 1 Axes>"
      ]
     },
     "metadata": {
      "needs_background": "light"
     },
     "output_type": "display_data"
    }
   ],
   "source": [
    "plt.figure(figsize=(8,4),dpi=100)  \n",
    "sns.boxplot(x='K-Means_Cluster_ID', y='emp_length', data=encode_data1)"
   ]
  },
  {
   "cell_type": "markdown",
   "metadata": {},
   "source": [
    "Jedynie w klastrze 2 jest grupa pożyczkobiorców ze stażem pracy od 3 lat. W reszcie klastrów są osoby z każdego przedziału."
   ]
  },
  {
   "cell_type": "code",
   "execution_count": 95,
   "metadata": {},
   "outputs": [
    {
     "data": {
      "text/plain": [
       "<matplotlib.axes._subplots.AxesSubplot at 0x24fc82de808>"
      ]
     },
     "execution_count": 95,
     "metadata": {},
     "output_type": "execute_result"
    },
    {
     "data": {
      "image/png": "[encoded data removed]",
      "text/plain": [
       "<Figure size 800x400 with 1 Axes>"
      ]
     },
     "metadata": {
      "needs_background": "light"
     },
     "output_type": "display_data"
    }
   ],
   "source": [
    "plt.figure(figsize=(8,4),dpi=100)  \n",
    "sns.boxplot(x='K-Means_Cluster_ID', y='annual_inc', data=encode_data1)"
   ]
  },
  {
   "cell_type": "markdown",
   "metadata": {},
   "source": [
    "Osoby z najwyższym dochodem rocznym są w klastrze 2, osoby z dosyć wysokim, dochodem są w klastrze 5"
   ]
  },
  {
   "cell_type": "markdown",
   "metadata": {},
   "source": [
    "### B. Dobór modelu"
   ]
  },
  {
   "cell_type": "code",
   "execution_count": 96,
   "metadata": {},
   "outputs": [],
   "source": [
    "#podział na dane treningowe i testowe\n",
    "X=encode_data.drop(['loan_status'], axis=1)\n",
    "Y=encode_data['loan_status']\n",
    "X_train, X_test, y_train, y_test=train_test_split(X, Y, test_size=0.2, random_state=42)"
   ]
  },
  {
   "cell_type": "code",
   "execution_count": 97,
   "metadata": {},
   "outputs": [
    {
     "data": {
      "text/plain": [
       "array([[-0.08169792, -0.04763809,  0.0456609 , ..., -0.04441679,\n",
       "         1.07029124, -1.07029124],\n",
       "       [ 1.06370471,  1.13899554,  1.08456823, ..., -0.04441679,\n",
       "        -0.93432513,  0.93432513],\n",
       "       [ 0.38993846,  0.44097576,  0.52815823, ..., -0.04441679,\n",
       "        -0.93432513,  0.93432513],\n",
       "       ...,\n",
       "       [-0.8228408 , -0.81545984, -0.72353773, ..., -0.04441679,\n",
       "        -0.93432513,  0.93432513],\n",
       "       [ 0.12043196,  0.16176785,  0.25544235, ..., -0.04441679,\n",
       "        -0.93432513,  0.93432513],\n",
       "       [-1.29447717, -1.30407369, -1.22351685, ..., -0.04441679,\n",
       "        -0.93432513,  0.93432513]])"
      ]
     },
     "execution_count": 97,
     "metadata": {},
     "output_type": "execute_result"
    }
   ],
   "source": [
    "#skalowanie\n",
    "sc=StandardScaler()\n",
    "X_train=sc.fit_transform(X_train)\n",
    "X_test=sc.transform(X_test)\n",
    "X_test"
   ]
  },
  {
   "cell_type": "markdown",
   "metadata": {},
   "source": [
    "###### B1. Decision tree"
   ]
  },
  {
   "cell_type": "code",
   "execution_count": 98,
   "metadata": {},
   "outputs": [],
   "source": [
    "dtree = DecisionTreeClassifier(max_depth=10, random_state=0)"
   ]
  },
  {
   "cell_type": "code",
   "execution_count": 99,
   "metadata": {},
   "outputs": [
    {
     "data": {
      "text/plain": [
       "DecisionTreeClassifier(ccp_alpha=0.0, class_weight=None, criterion='gini',\n",
       "                       max_depth=10, max_features=None, max_leaf_nodes=None,\n",
       "                       min_impurity_decrease=0.0, min_impurity_split=None,\n",
       "                       min_samples_leaf=1, min_samples_split=2,\n",
       "                       min_weight_fraction_leaf=0.0, presort='deprecated',\n",
       "                       random_state=0, splitter='best')"
      ]
     },
     "execution_count": 99,
     "metadata": {},
     "output_type": "execute_result"
    }
   ],
   "source": [
    "dtree.fit(X_train,y_train)"
   ]
  },
  {
   "cell_type": "code",
   "execution_count": 100,
   "metadata": {},
   "outputs": [],
   "source": [
    "def evaluate(prediction,y_test): \n",
    "    result = classification_report(y_test,prediction,output_dict=True)\n",
    "    f1 = result['1']['f1-score']\n",
    "    accuracy = result['accuracy']\n",
    "    performance_data= {'f1-score':round(f1, 4),\n",
    "                      'accuracy':round(accuracy, 4)}\n",
    "    return performance_data"
   ]
  },
  {
   "cell_type": "code",
   "execution_count": 101,
   "metadata": {},
   "outputs": [],
   "source": [
    "dt_prediction = dtree.predict(X_test)"
   ]
  },
  {
   "cell_type": "code",
   "execution_count": 102,
   "metadata": {},
   "outputs": [
    {
     "name": "stdout",
     "output_type": "stream",
     "text": [
      "              precision    recall  f1-score   support\n",
      "\n",
      "           0       0.99      0.97      0.98      1229\n",
      "           1       1.00      1.00      1.00      7278\n",
      "\n",
      "    accuracy                           0.99      8507\n",
      "   macro avg       0.99      0.98      0.99      8507\n",
      "weighted avg       0.99      0.99      0.99      8507\n",
      "\n",
      "[[1193   36]\n",
      " [  10 7268]]\n"
     ]
    },
    {
     "data": {
      "text/plain": [
       "{'f1-score': 0.9968, 'accuracy': 0.9946}"
      ]
     },
     "execution_count": 102,
     "metadata": {},
     "output_type": "execute_result"
    }
   ],
   "source": [
    "print(classification_report(y_test,dt_prediction))\n",
    "print(confusion_matrix(y_test, dt_prediction))\n",
    "dtree_pr= evaluate(dt_prediction,y_test) \n",
    "dtree_pr "
   ]
  },
  {
   "cell_type": "markdown",
   "metadata": {},
   "source": [
    "max_depth=35 (fi:0.99, accuracy:0.99)\n",
    "max_depth=10 (f1:1.0, accuracy:0.99)\n",
    "max_depth=7 (fi:0.99, accuracy:0.99)\n",
    "im niżej tym gorzej, dobre parametry były przy głębokości 12,11. Finalnie zostawiam 10"
   ]
  },
  {
   "cell_type": "code",
   "execution_count": 103,
   "metadata": {},
   "outputs": [
    {
     "name": "stdout",
     "output_type": "stream",
     "text": [
      "AUROC= 0.9933793209564625\n"
     ]
    }
   ],
   "source": [
    "auroc_dtree=roc_auc_score(dt_prediction, y_test)\n",
    "print('AUROC=', auroc_dtree)"
   ]
  },
  {
   "cell_type": "code",
   "execution_count": 104,
   "metadata": {},
   "outputs": [
    {
     "data": {
      "image/png": "[encoded data removed]",
      "text/plain": [
       "<Figure size 576x432 with 1 Axes>"
      ]
     },
     "metadata": {
      "needs_background": "light"
     },
     "output_type": "display_data"
    }
   ],
   "source": [
    "fpr, tpr, thresholds=roc_curve(y_test, dt_prediction)\n",
    "plt.figure(figsize=(8,6))\n",
    "plt.plot(fpr, tpr, linewidth=2)\n",
    "plt.plot([0,1], [0,1], 'k--')\n",
    "plt.rcParams['font.size']=12\n",
    "plt.title ('ROC Curve for DesicionTree')\n",
    "plt.xlabel('False Positive Rate-Specificity')\n",
    "plt.ylabel('True Positive Rate - Sensitivity')\n",
    "plt.show()"
   ]
  },
  {
   "cell_type": "code",
   "execution_count": 105,
   "metadata": {},
   "outputs": [
    {
     "data": {
      "text/plain": [
       "[Text(97.0420871559633, 207.55636363636364, 'X[21] <= -0.087\\ngini = 0.259\\nsamples = 34028\\nvalue = [5202, 28826]'),\n",
       " Text(93.97052752293578, 187.7890909090909, 'X[18] <= -1.217\\ngini = 0.105\\nsamples = 30526\\nvalue = [1700, 28826]'),\n",
       " Text(53.560321100917434, 168.0218181818182, 'X[1] <= -1.386\\ngini = 0.075\\nsamples = 438\\nvalue = [421, 17]'),\n",
       " Text(50.48876146788991, 148.25454545454545, 'gini = 0.0\\nsamples = 17\\nvalue = [0, 17]'),\n",
       " Text(56.63188073394495, 148.25454545454545, 'gini = 0.0\\nsamples = 421\\nvalue = [421, 0]'),\n",
       " Text(134.38073394495413, 168.0218181818182, 'X[18] <= -0.937\\ngini = 0.081\\nsamples = 30088\\nvalue = [1279, 28809]'),\n",
       " Text(62.775, 148.25454545454545, 'X[1] <= -1.096\\ngini = 0.342\\nsamples = 2737\\nvalue = [600, 2137]'),\n",
       " Text(59.70344036697248, 128.48727272727274, 'X[23] <= -1.075\\ngini = 0.031\\nsamples = 2171\\nvalue = [34, 2137]'),\n",
       " Text(42.617889908256885, 108.72, 'X[2] <= -1.075\\ngini = 0.172\\nsamples = 158\\nvalue = [15, 143]'),\n",
       " Text(33.019266055045875, 88.95272727272729, 'X[15] <= 0.915\\ngini = 0.1\\nsamples = 133\\nvalue = [7, 126]'),\n",
       " Text(23.03669724770642, 69.18545454545455, 'X[19] <= -0.665\\ngini = 0.074\\nsamples = 130\\nvalue = [5, 125]'),\n",
       " Text(12.286238532110092, 49.418181818181836, 'X[25] <= -1.809\\ngini = 0.034\\nsamples = 116\\nvalue = [2, 114]'),\n",
       " Text(6.143119266055046, 29.650909090909096, 'X[13] <= -0.074\\ngini = 0.5\\nsamples = 2\\nvalue = [1, 1]'),\n",
       " Text(3.071559633027523, 9.883636363636384, 'gini = 0.0\\nsamples = 1\\nvalue = [0, 1]'),\n",
       " Text(9.21467889908257, 9.883636363636384, 'gini = 0.0\\nsamples = 1\\nvalue = [1, 0]'),\n",
       " Text(18.42935779816514, 29.650909090909096, 'X[85] <= 3.355\\ngini = 0.017\\nsamples = 114\\nvalue = [1, 113]'),\n",
       " Text(15.357798165137615, 9.883636363636384, 'gini = 0.0\\nsamples = 111\\nvalue = [0, 111]'),\n",
       " Text(21.50091743119266, 9.883636363636384, 'gini = 0.444\\nsamples = 3\\nvalue = [1, 2]'),\n",
       " Text(33.78715596330275, 49.418181818181836, 'X[18] <= -1.107\\ngini = 0.337\\nsamples = 14\\nvalue = [3, 11]'),\n",
       " Text(30.71559633027523, 29.650909090909096, 'X[58] <= 2.573\\ngini = 0.375\\nsamples = 4\\nvalue = [3, 1]'),\n",
       " Text(27.644036697247707, 9.883636363636384, 'gini = 0.0\\nsamples = 3\\nvalue = [3, 0]'),\n",
       " Text(33.78715596330275, 9.883636363636384, 'gini = 0.0\\nsamples = 1\\nvalue = [0, 1]'),\n",
       " Text(36.85871559633028, 29.650909090909096, 'gini = 0.0\\nsamples = 10\\nvalue = [0, 10]'),\n",
       " Text(43.00183486238532, 69.18545454545455, 'X[7] <= 0.654\\ngini = 0.444\\nsamples = 3\\nvalue = [2, 1]'),\n",
       " Text(39.9302752293578, 49.418181818181836, 'gini = 0.0\\nsamples = 2\\nvalue = [2, 0]'),\n",
       " Text(46.07339449541284, 49.418181818181836, 'gini = 0.0\\nsamples = 1\\nvalue = [0, 1]'),\n",
       " Text(52.216513761467894, 88.95272727272729, 'X[18] <= -1.037\\ngini = 0.435\\nsamples = 25\\nvalue = [8, 17]'),\n",
       " Text(49.14495412844037, 69.18545454545455, 'gini = 0.0\\nsamples = 7\\nvalue = [7, 0]'),\n",
       " Text(55.28807339449541, 69.18545454545455, 'X[48] <= 1.645\\ngini = 0.105\\nsamples = 18\\nvalue = [1, 17]'),\n",
       " Text(52.216513761467894, 49.418181818181836, 'gini = 0.0\\nsamples = 17\\nvalue = [0, 17]'),\n",
       " Text(58.35963302752294, 49.418181818181836, 'gini = 0.0\\nsamples = 1\\nvalue = [1, 0]'),\n",
       " Text(76.78899082568807, 108.72, 'X[67] <= 30.732\\ngini = 0.019\\nsamples = 2013\\nvalue = [19, 1994]'),\n",
       " Text(73.71743119266056, 88.95272727272729, 'X[20] <= 7.303\\ngini = 0.018\\nsamples = 2012\\nvalue = [18, 1994]'),\n",
       " Text(70.64587155963302, 69.18545454545455, 'X[25] <= 2.468\\ngini = 0.017\\nsamples = 2011\\nvalue = [17, 1994]'),\n",
       " Text(64.50275229357798, 49.418181818181836, 'X[18] <= -1.079\\ngini = 0.014\\nsamples = 1995\\nvalue = [14, 1981]'),\n",
       " Text(61.43119266055046, 29.650909090909096, 'X[1] <= -1.236\\ngini = 0.034\\nsamples = 818\\nvalue = [14, 804]'),\n",
       " Text(58.35963302752294, 9.883636363636384, 'gini = 0.007\\nsamples = 807\\nvalue = [3, 804]'),\n",
       " Text(64.50275229357798, 9.883636363636384, 'gini = 0.0\\nsamples = 11\\nvalue = [11, 0]'),\n",
       " Text(67.5743119266055, 29.650909090909096, 'gini = 0.0\\nsamples = 1177\\nvalue = [0, 1177]'),\n",
       " Text(76.78899082568807, 49.418181818181836, 'X[19] <= -0.778\\ngini = 0.305\\nsamples = 16\\nvalue = [3, 13]'),\n",
       " Text(73.71743119266056, 29.650909090909096, 'gini = 0.0\\nsamples = 12\\nvalue = [0, 12]'),\n",
       " Text(79.8605504587156, 29.650909090909096, 'X[18] <= -1.035\\ngini = 0.375\\nsamples = 4\\nvalue = [3, 1]'),\n",
       " Text(76.78899082568807, 9.883636363636384, 'gini = 0.0\\nsamples = 3\\nvalue = [3, 0]'),\n",
       " Text(82.93211009174313, 9.883636363636384, 'gini = 0.0\\nsamples = 1\\nvalue = [0, 1]'),\n",
       " Text(76.78899082568807, 69.18545454545455, 'gini = 0.0\\nsamples = 1\\nvalue = [1, 0]'),\n",
       " Text(79.8605504587156, 88.95272727272729, 'gini = 0.0\\nsamples = 1\\nvalue = [1, 0]'),\n",
       " Text(65.84655963302752, 128.48727272727274, 'gini = 0.0\\nsamples = 566\\nvalue = [566, 0]'),\n",
       " Text(205.98646788990825, 148.25454545454545, 'X[23] <= 0.006\\ngini = 0.048\\nsamples = 27351\\nvalue = [679, 26672]'),\n",
       " Text(144.93922018348624, 128.48727272727274, 'X[18] <= -0.657\\ngini = 0.123\\nsamples = 8662\\nvalue = [571, 8091]'),\n",
       " Text(117.48715596330275, 108.72, 'X[1] <= -0.817\\ngini = 0.276\\nsamples = 1605\\nvalue = [265, 1340]'),\n",
       " Text(114.41559633027524, 88.95272727272729, 'X[1] <= -0.828\\ngini = 0.018\\nsamples = 1352\\nvalue = [12, 1340]'),\n",
       " Text(105.96880733944954, 69.18545454545455, 'X[86] <= 4.353\\ngini = 0.015\\nsamples = 1340\\nvalue = [10, 1330]'),\n",
       " Text(98.28990825688074, 49.418181818181836, 'X[20] <= 4.484\\ngini = 0.013\\nsamples = 1330\\nvalue = [9, 1321]'),\n",
       " Text(92.14678899082568, 29.650909090909096, 'X[23] <= -1.325\\ngini = 0.012\\nsamples = 1320\\nvalue = [8, 1312]'),\n",
       " Text(89.07522935779816, 9.883636363636384, 'gini = 0.07\\nsamples = 83\\nvalue = [3, 80]'),\n",
       " Text(95.21834862385322, 9.883636363636384, 'gini = 0.008\\nsamples = 1237\\nvalue = [5, 1232]'),\n",
       " Text(104.43302752293579, 29.650909090909096, 'X[19] <= -0.278\\ngini = 0.18\\nsamples = 10\\nvalue = [1, 9]'),\n",
       " Text(101.36146788990825, 9.883636363636384, 'gini = 0.0\\nsamples = 9\\nvalue = [0, 9]'),\n",
       " Text(107.5045871559633, 9.883636363636384, 'gini = 0.0\\nsamples = 1\\nvalue = [1, 0]'),\n",
       " Text(113.64770642201835, 49.418181818181836, 'X[10] <= 0.685\\ngini = 0.18\\nsamples = 10\\nvalue = [1, 9]'),\n",
       " Text(110.57614678899083, 29.650909090909096, 'gini = 0.0\\nsamples = 8\\nvalue = [0, 8]'),\n",
       " Text(116.71926605504588, 29.650909090909096, 'X[20] <= 0.74\\ngini = 0.5\\nsamples = 2\\nvalue = [1, 1]'),\n",
       " Text(113.64770642201835, 9.883636363636384, 'gini = 0.0\\nsamples = 1\\nvalue = [0, 1]'),\n",
       " Text(119.7908256880734, 9.883636363636384, 'gini = 0.0\\nsamples = 1\\nvalue = [1, 0]'),\n",
       " Text(122.86238532110092, 69.18545454545455, 'X[18] <= -0.796\\ngini = 0.278\\nsamples = 12\\nvalue = [2, 10]'),\n",
       " Text(119.7908256880734, 49.418181818181836, 'gini = 0.0\\nsamples = 2\\nvalue = [2, 0]'),\n",
       " Text(125.93394495412845, 49.418181818181836, 'gini = 0.0\\nsamples = 10\\nvalue = [0, 10]'),\n",
       " Text(120.55871559633027, 88.95272727272729, 'gini = 0.0\\nsamples = 253\\nvalue = [253, 0]'),\n",
       " Text(172.39128440366972, 108.72, 'X[0] <= 0.777\\ngini = 0.083\\nsamples = 7057\\nvalue = [306, 6751]'),\n",
       " Text(152.81009174311927, 88.95272727272729, 'X[18] <= 0.033\\ngini = 0.052\\nsamples = 5585\\nvalue = [148, 5437]'),\n",
       " Text(138.22018348623854, 69.18545454545455, 'X[1] <= -0.128\\ngini = 0.081\\nsamples = 3129\\nvalue = [132, 2997]'),\n",
       " Text(135.148623853211, 49.418181818181836, 'X[2] <= -0.482\\ngini = 0.027\\nsamples = 3039\\nvalue = [42, 2997]'),\n",
       " Text(129.00550458715597, 29.650909090909096, 'X[87] <= 7.431\\ngini = 0.008\\nsamples = 1714\\nvalue = [7, 1707]'),\n",
       " Text(125.93394495412845, 9.883636363636384, 'gini = 0.007\\nsamples = 1704\\nvalue = [6, 1698]'),\n",
       " Text(132.0770642201835, 9.883636363636384, 'gini = 0.18\\nsamples = 10\\nvalue = [1, 9]'),\n",
       " Text(141.29174311926604, 29.650909090909096, 'X[18] <= -0.406\\ngini = 0.051\\nsamples = 1325\\nvalue = [35, 1290]'),\n",
       " Text(138.22018348623854, 9.883636363636384, 'gini = 0.0\\nsamples = 25\\nvalue = [25, 0]'),\n",
       " Text(144.36330275229358, 9.883636363636384, 'gini = 0.015\\nsamples = 1300\\nvalue = [10, 1290]'),\n",
       " Text(141.29174311926604, 49.418181818181836, 'gini = 0.0\\nsamples = 90\\nvalue = [90, 0]'),\n",
       " Text(167.4, 69.18545454545455, 'X[2] <= 0.925\\ngini = 0.013\\nsamples = 2456\\nvalue = [16, 2440]'),\n",
       " Text(159.7211009174312, 49.418181818181836, 'X[39] <= 10.99\\ngini = 0.012\\nsamples = 2448\\nvalue = [15, 2433]'),\n",
       " Text(153.57798165137615, 29.650909090909096, 'X[13] <= 4.044\\ngini = 0.011\\nsamples = 2438\\nvalue = [14, 2424]'),\n",
       " Text(150.50642201834862, 9.883636363636384, 'gini = 0.011\\nsamples = 2427\\nvalue = [13, 2414]'),\n",
       " Text(156.64954128440368, 9.883636363636384, 'gini = 0.165\\nsamples = 11\\nvalue = [1, 10]'),\n",
       " Text(165.86422018348625, 29.650909090909096, 'X[30] <= 0.547\\ngini = 0.18\\nsamples = 10\\nvalue = [1, 9]'),\n",
       " Text(162.79266055045872, 9.883636363636384, 'gini = 0.0\\nsamples = 9\\nvalue = [0, 9]'),\n",
       " Text(168.93577981651376, 9.883636363636384, 'gini = 0.0\\nsamples = 1\\nvalue = [1, 0]'),\n",
       " Text(175.07889908256882, 49.418181818181836, 'X[18] <= 0.659\\ngini = 0.219\\nsamples = 8\\nvalue = [1, 7]'),\n",
       " Text(172.0073394495413, 29.650909090909096, 'gini = 0.0\\nsamples = 1\\nvalue = [1, 0]'),\n",
       " Text(178.15045871559633, 29.650909090909096, 'gini = 0.0\\nsamples = 7\\nvalue = [0, 7]'),\n",
       " Text(191.9724770642202, 88.95272727272729, 'X[18] <= 0.233\\ngini = 0.192\\nsamples = 1472\\nvalue = [158, 1314]'),\n",
       " Text(184.29357798165137, 69.18545454545455, 'X[1] <= 0.073\\ngini = 0.115\\nsamples = 131\\nvalue = [123, 8]'),\n",
       " Text(181.22201834862386, 49.418181818181836, 'gini = 0.0\\nsamples = 8\\nvalue = [0, 8]'),\n",
       " Text(187.3651376146789, 49.418181818181836, 'gini = 0.0\\nsamples = 123\\nvalue = [123, 0]'),\n",
       " Text(199.651376146789, 69.18545454545455, 'X[18] <= 0.749\\ngini = 0.051\\nsamples = 1341\\nvalue = [35, 1306]'),\n",
       " Text(193.50825688073394, 49.418181818181836, 'X[1] <= 0.72\\ngini = 0.41\\nsamples = 66\\nvalue = [19, 47]'),\n",
       " Text(190.43669724770643, 29.650909090909096, 'gini = 0.0\\nsamples = 47\\nvalue = [0, 47]'),\n",
       " Text(196.57981651376147, 29.650909090909096, 'gini = 0.0\\nsamples = 19\\nvalue = [19, 0]'),\n",
       " Text(205.79449541284404, 49.418181818181836, 'X[4] <= 4.58\\ngini = 0.025\\nsamples = 1275\\nvalue = [16, 1259]'),\n",
       " Text(202.7229357798165, 29.650909090909096, 'X[18] <= 1.024\\ngini = 0.023\\nsamples = 1274\\nvalue = [15, 1259]'),\n",
       " Text(199.651376146789, 9.883636363636384, 'gini = 0.227\\nsamples = 46\\nvalue = [6, 40]'),\n",
       " Text(205.79449541284404, 9.883636363636384, 'gini = 0.015\\nsamples = 1228\\nvalue = [9, 1219]'),\n",
       " Text(208.86605504587158, 29.650909090909096, 'gini = 0.0\\nsamples = 1\\nvalue = [1, 0]'),\n",
       " Text(267.0337155963303, 128.48727272727274, 'X[8] <= -1.804\\ngini = 0.011\\nsamples = 18689\\nvalue = [108, 18581]'),\n",
       " Text(234.59036697247706, 108.72, 'X[4] <= 0.76\\ngini = 0.072\\nsamples = 995\\nvalue = [37, 958]'),\n",
       " Text(223.4559633027523, 88.95272727272729, 'X[18] <= -0.664\\ngini = 0.033\\nsamples = 826\\nvalue = [14, 812]'),\n",
       " Text(215.0091743119266, 69.18545454545455, 'X[1] <= -0.716\\ngini = 0.094\\nsamples = 182\\nvalue = [9, 173]'),\n",
       " Text(211.93761467889908, 49.418181818181836, 'gini = 0.0\\nsamples = 173\\nvalue = [0, 173]'),\n",
       " Text(218.08073394495412, 49.418181818181836, 'gini = 0.0\\nsamples = 9\\nvalue = [9, 0]'),\n",
       " Text(231.90275229357798, 69.18545454545455, 'X[57] <= 4.763\\ngini = 0.015\\nsamples = 644\\nvalue = [5, 639]'),\n",
       " Text(224.22385321100919, 49.418181818181836, 'X[12] <= 4.869\\ngini = 0.012\\nsamples = 638\\nvalue = [4, 634]'),\n",
       " Text(218.08073394495412, 29.650909090909096, 'X[85] <= 3.355\\ngini = 0.009\\nsamples = 630\\nvalue = [3, 627]'),\n",
       " Text(215.0091743119266, 9.883636363636384, 'gini = 0.006\\nsamples = 619\\nvalue = [2, 617]'),\n",
       " Text(221.15229357798165, 9.883636363636384, 'gini = 0.165\\nsamples = 11\\nvalue = [1, 10]'),\n",
       " Text(230.36697247706422, 29.650909090909096, 'X[18] <= -0.588\\ngini = 0.219\\nsamples = 8\\nvalue = [1, 7]'),\n",
       " Text(227.2954128440367, 9.883636363636384, 'gini = 0.0\\nsamples = 1\\nvalue = [1, 0]'),\n",
       " Text(233.43853211009176, 9.883636363636384, 'gini = 0.0\\nsamples = 7\\nvalue = [0, 7]'),\n",
       " Text(239.5816513761468, 49.418181818181836, 'X[4] <= 0.173\\ngini = 0.278\\nsamples = 6\\nvalue = [1, 5]'),\n",
       " Text(236.51009174311926, 29.650909090909096, 'gini = 0.0\\nsamples = 5\\nvalue = [0, 5]'),\n",
       " Text(242.65321100917433, 29.650909090909096, 'gini = 0.0\\nsamples = 1\\nvalue = [1, 0]'),\n",
       " Text(245.72477064220183, 88.95272727272729, 'X[18] <= 0.334\\ngini = 0.235\\nsamples = 169\\nvalue = [23, 146]'),\n",
       " Text(242.65321100917433, 69.18545454545455, 'gini = 0.0\\nsamples = 22\\nvalue = [22, 0]'),\n",
       " Text(248.79633027522937, 69.18545454545455, 'X[23] <= 1.046\\ngini = 0.014\\nsamples = 147\\nvalue = [1, 146]'),\n",
       " Text(245.72477064220183, 49.418181818181836, 'gini = 0.0\\nsamples = 140\\nvalue = [0, 140]'),\n",
       " Text(251.8678899082569, 49.418181818181836, 'X[11] <= 0.791\\ngini = 0.245\\nsamples = 7\\nvalue = [1, 6]'),\n",
       " Text(248.79633027522937, 29.650909090909096, 'gini = 0.0\\nsamples = 6\\nvalue = [0, 6]'),\n",
       " Text(254.9394495412844, 29.650909090909096, 'gini = 0.0\\nsamples = 1\\nvalue = [1, 0]'),\n",
       " Text(299.4770642201835, 108.72, 'X[23] <= 0.131\\ngini = 0.008\\nsamples = 17694\\nvalue = [71, 17623]'),\n",
       " Text(280.2798165137615, 88.95272727272729, 'X[2] <= 1.103\\ngini = 0.03\\nsamples = 2198\\nvalue = [34, 2164]'),\n",
       " Text(271.83302752293577, 69.18545454545455, 'X[2] <= -1.129\\ngini = 0.016\\nsamples = 1840\\nvalue = [15, 1825]'),\n",
       " Text(264.154128440367, 49.418181818181836, 'X[18] <= -0.357\\ngini = 0.5\\nsamples = 2\\nvalue = [1, 1]'),\n",
       " Text(261.08256880733944, 29.650909090909096, 'gini = 0.0\\nsamples = 1\\nvalue = [0, 1]'),\n",
       " Text(267.2256880733945, 29.650909090909096, 'gini = 0.0\\nsamples = 1\\nvalue = [1, 0]'),\n",
       " Text(279.5119266055046, 49.418181818181836, 'X[12] <= 1.587\\ngini = 0.015\\nsamples = 1838\\nvalue = [14, 1824]'),\n",
       " Text(273.3688073394496, 29.650909090909096, 'X[18] <= -0.735\\ngini = 0.01\\nsamples = 1757\\nvalue = [9, 1748]'),\n",
       " Text(270.297247706422, 9.883636363636384, 'gini = 0.044\\nsamples = 221\\nvalue = [5, 216]'),\n",
       " Text(276.4403669724771, 9.883636363636384, 'gini = 0.005\\nsamples = 1536\\nvalue = [4, 1532]'),\n",
       " Text(285.65504587155965, 29.650909090909096, 'X[18] <= -0.911\\ngini = 0.116\\nsamples = 81\\nvalue = [5, 76]'),\n",
       " Text(282.5834862385321, 9.883636363636384, 'gini = 0.0\\nsamples = 1\\nvalue = [1, 0]'),\n",
       " Text(288.72660550458716, 9.883636363636384, 'gini = 0.095\\nsamples = 80\\nvalue = [4, 76]'),\n",
       " Text(288.72660550458716, 69.18545454545455, 'X[18] <= 0.852\\ngini = 0.101\\nsamples = 358\\nvalue = [19, 339]'),\n",
       " Text(285.65504587155965, 49.418181818181836, 'gini = 0.0\\nsamples = 19\\nvalue = [19, 0]'),\n",
       " Text(291.79816513761466, 49.418181818181836, 'gini = 0.0\\nsamples = 339\\nvalue = [0, 339]'),\n",
       " Text(318.6743119266055, 88.95272727272729, 'X[22] <= 1.941\\ngini = 0.005\\nsamples = 15496\\nvalue = [37, 15459]'),\n",
       " Text(308.69174311926605, 69.18545454545455, 'X[11] <= -4.098\\ngini = 0.005\\nsamples = 15488\\nvalue = [36, 15452]'),\n",
       " Text(297.9412844036697, 49.418181818181836, 'X[9] <= 1.567\\ngini = 0.1\\nsamples = 38\\nvalue = [2, 36]'),\n",
       " Text(294.8697247706422, 29.650909090909096, 'gini = 0.0\\nsamples = 33\\nvalue = [0, 33]'),\n",
       " Text(301.01284403669723, 29.650909090909096, 'X[29] <= -0.547\\ngini = 0.48\\nsamples = 5\\nvalue = [2, 3]'),\n",
       " Text(297.9412844036697, 9.883636363636384, 'gini = 0.0\\nsamples = 2\\nvalue = [2, 0]'),\n",
       " Text(304.0844036697248, 9.883636363636384, 'gini = 0.0\\nsamples = 3\\nvalue = [0, 3]'),\n",
       " Text(319.4422018348624, 49.418181818181836, 'X[18] <= -0.718\\ngini = 0.004\\nsamples = 15450\\nvalue = [34, 15416]'),\n",
       " Text(313.29908256880736, 29.650909090909096, 'X[4] <= -0.639\\ngini = 0.017\\nsamples = 1555\\nvalue = [13, 1542]'),\n",
       " Text(310.2275229357798, 9.883636363636384, 'gini = 0.0\\nsamples = 1542\\nvalue = [0, 1542]'),\n",
       " Text(316.37064220183487, 9.883636363636384, 'gini = 0.0\\nsamples = 13\\nvalue = [13, 0]'),\n",
       " Text(325.58532110091744, 29.650909090909096, 'X[1] <= 3.35\\ngini = 0.003\\nsamples = 13895\\nvalue = [21, 13874]'),\n",
       " Text(322.51376146788994, 9.883636363636384, 'gini = 0.003\\nsamples = 13641\\nvalue = [18, 13623]'),\n",
       " Text(328.65688073394494, 9.883636363636384, 'gini = 0.023\\nsamples = 254\\nvalue = [3, 251]'),\n",
       " Text(328.65688073394494, 69.18545454545455, 'X[5] <= 0.362\\ngini = 0.219\\nsamples = 8\\nvalue = [1, 7]'),\n",
       " Text(325.58532110091744, 49.418181818181836, 'gini = 0.0\\nsamples = 7\\nvalue = [0, 7]'),\n",
       " Text(331.7284403669725, 49.418181818181836, 'gini = 0.0\\nsamples = 1\\nvalue = [1, 0]'),\n",
       " Text(100.11364678899083, 187.7890909090909, 'gini = 0.0\\nsamples = 3502\\nvalue = [3502, 0]')]"
      ]
     },
     "execution_count": 105,
     "metadata": {},
     "output_type": "execute_result"
    },
    {
     "data": {
      "image/png": "[encoded data removed]",
      "text/plain": [
       "<Figure size 432x288 with 1 Axes>"
      ]
     },
     "metadata": {
      "needs_background": "light"
     },
     "output_type": "display_data"
    }
   ],
   "source": [
    "tree.plot_tree(dtree)"
   ]
  },
  {
   "cell_type": "markdown",
   "metadata": {},
   "source": [
    "##### B2. Random Forest"
   ]
  },
  {
   "cell_type": "code",
   "execution_count": 106,
   "metadata": {},
   "outputs": [
    {
     "data": {
      "text/plain": [
       "RandomForestClassifier(bootstrap=True, ccp_alpha=0.0, class_weight=None,\n",
       "                       criterion='gini', max_depth=None, max_features='auto',\n",
       "                       max_leaf_nodes=None, max_samples=None,\n",
       "                       min_impurity_decrease=0.0, min_impurity_split=None,\n",
       "                       min_samples_leaf=1, min_samples_split=2,\n",
       "                       min_weight_fraction_leaf=0.0, n_estimators=100,\n",
       "                       n_jobs=None, oob_score=False, random_state=0, verbose=0,\n",
       "                       warm_start=False)"
      ]
     },
     "execution_count": 106,
     "metadata": {},
     "output_type": "execute_result"
    }
   ],
   "source": [
    "rf = RandomForestClassifier(n_estimators=100, random_state=0) \n",
    "rf.fit(X_train, y_train)"
   ]
  },
  {
   "cell_type": "code",
   "execution_count": 107,
   "metadata": {},
   "outputs": [],
   "source": [
    "rf_prediction = rf.predict(X_test)"
   ]
  },
  {
   "cell_type": "code",
   "execution_count": 108,
   "metadata": {},
   "outputs": [
    {
     "name": "stdout",
     "output_type": "stream",
     "text": [
      "              precision    recall  f1-score   support\n",
      "\n",
      "           0       1.00      0.90      0.94      1229\n",
      "           1       0.98      1.00      0.99      7278\n",
      "\n",
      "    accuracy                           0.98      8507\n",
      "   macro avg       0.99      0.95      0.97      8507\n",
      "weighted avg       0.99      0.98      0.98      8507\n",
      "\n",
      "[[1100  129]\n",
      " [   0 7278]]\n",
      "{'f1-score': 0.9912, 'accuracy': 0.9848}\n"
     ]
    }
   ],
   "source": [
    "print(classification_report(y_test,rf_prediction))\n",
    "print(confusion_matrix(y_test, rf_prediction))\n",
    "rf_pr = evaluate(rf_prediction,y_test) \n",
    "print(rf_pr)"
   ]
  },
  {
   "cell_type": "code",
   "execution_count": 109,
   "metadata": {},
   "outputs": [
    {
     "name": "stdout",
     "output_type": "stream",
     "text": [
      "AUROC= 0.9912920210611584\n"
     ]
    }
   ],
   "source": [
    "auroc_rf=roc_auc_score(rf_prediction, y_test)\n",
    "print('AUROC=', auroc_rf)"
   ]
  },
  {
   "cell_type": "code",
   "execution_count": 110,
   "metadata": {},
   "outputs": [
    {
     "data": {
      "image/png": "[encoded data removed]",
      "text/plain": [
       "<Figure size 576x432 with 1 Axes>"
      ]
     },
     "metadata": {
      "needs_background": "light"
     },
     "output_type": "display_data"
    }
   ],
   "source": [
    "fpr, tpr, thresholds=roc_curve(y_test, rf_prediction)\n",
    "plt.figure(figsize=(8,6))\n",
    "plt.plot(fpr, tpr, linewidth=2)\n",
    "plt.plot([0,1], [0,1], 'k--')\n",
    "plt.rcParams['font.size']=12\n",
    "plt.title ('ROC Curve for RandomForest')\n",
    "plt.xlabel('False Positive Rate-Specificity')\n",
    "plt.ylabel('True Positive Rate - Sensitivity')\n",
    "plt.show()"
   ]
  },
  {
   "cell_type": "markdown",
   "metadata": {},
   "source": [
    "##### B3.Support Vector Machine"
   ]
  },
  {
   "cell_type": "code",
   "execution_count": 111,
   "metadata": {},
   "outputs": [
    {
     "data": {
      "text/plain": [
       "SVC(C=1.0, break_ties=False, cache_size=200, class_weight=None, coef0=0.0,\n",
       "    decision_function_shape='ovr', degree=3, gamma='scale', kernel='linear',\n",
       "    max_iter=-1, probability=False, random_state=0, shrinking=True, tol=0.001,\n",
       "    verbose=False)"
      ]
     },
     "execution_count": 111,
     "metadata": {},
     "output_type": "execute_result"
    }
   ],
   "source": [
    "svm_model = SVC(C=1.0, kernel='linear', random_state=0)\n",
    "svm_model.fit(X_train,y_train)"
   ]
  },
  {
   "cell_type": "code",
   "execution_count": 112,
   "metadata": {},
   "outputs": [],
   "source": [
    "svm_prediction = svm_model.predict(X_test) "
   ]
  },
  {
   "cell_type": "code",
   "execution_count": 113,
   "metadata": {},
   "outputs": [
    {
     "name": "stdout",
     "output_type": "stream",
     "text": [
      "              precision    recall  f1-score   support\n",
      "\n",
      "           0       1.00      0.98      0.99      1229\n",
      "           1       1.00      1.00      1.00      7278\n",
      "\n",
      "    accuracy                           1.00      8507\n",
      "   macro avg       1.00      0.99      0.99      8507\n",
      "weighted avg       1.00      1.00      1.00      8507\n",
      "\n",
      "[[1199   30]\n",
      " [   0 7278]]\n",
      "{'f1-score': 0.9979, 'accuracy': 0.9965}\n"
     ]
    }
   ],
   "source": [
    "print(classification_report(y_test,svm_prediction))\n",
    "print(confusion_matrix(y_test, svm_prediction))\n",
    "svm_pr = evaluate(svm_prediction,y_test) \n",
    "print(svm_pr)"
   ]
  },
  {
   "cell_type": "code",
   "execution_count": 114,
   "metadata": {},
   "outputs": [
    {
     "name": "stdout",
     "output_type": "stream",
     "text": [
      "AUROC= 0.9979474548440066\n"
     ]
    }
   ],
   "source": [
    "auroc_svm=roc_auc_score(svm_prediction, y_test)\n",
    "print('AUROC=', auroc_svm)"
   ]
  },
  {
   "cell_type": "code",
   "execution_count": 115,
   "metadata": {},
   "outputs": [
    {
     "data": {
      "image/png": "[encoded data removed]",
      "text/plain": [
       "<Figure size 576x432 with 1 Axes>"
      ]
     },
     "metadata": {
      "needs_background": "light"
     },
     "output_type": "display_data"
    }
   ],
   "source": [
    "fpr, tpr, thresholds=roc_curve(y_test, svm_prediction)\n",
    "plt.figure(figsize=(8,6))\n",
    "plt.plot(fpr, tpr, linewidth=2)\n",
    "plt.plot([0,1], [0,1], 'k--')\n",
    "plt.rcParams['font.size']=12\n",
    "plt.title ('ROC Curve for SVM')\n",
    "plt.xlabel('False Positive Rate-Specificity')\n",
    "plt.ylabel('True Positive Rate - Sensitivity')\n",
    "plt.show()"
   ]
  },
  {
   "cell_type": "markdown",
   "metadata": {},
   "source": [
    "##### B4. Bagging Classifier"
   ]
  },
  {
   "cell_type": "code",
   "execution_count": 116,
   "metadata": {},
   "outputs": [],
   "source": [
    "gbc= BaggingClassifier(tree.DecisionTreeClassifier(random_state=1))\n",
    "gbc.fit(X_train, y_train)\n",
    "gbc_prediction=gbc.predict(X_test)"
   ]
  },
  {
   "cell_type": "code",
   "execution_count": 117,
   "metadata": {},
   "outputs": [
    {
     "name": "stdout",
     "output_type": "stream",
     "text": [
      "              precision    recall  f1-score   support\n",
      "\n",
      "           0       1.00      0.97      0.98      1229\n",
      "           1       0.99      1.00      1.00      7278\n",
      "\n",
      "    accuracy                           0.99      8507\n",
      "   macro avg       1.00      0.98      0.99      8507\n",
      "weighted avg       0.99      0.99      0.99      8507\n",
      "\n",
      "[[1189   40]\n",
      " [   4 7274]]\n",
      "{'f1-score': 0.997, 'accuracy': 0.9948}\n"
     ]
    }
   ],
   "source": [
    "print(classification_report(y_test,gbc_prediction))\n",
    "print(confusion_matrix(y_test, gbc_prediction))\n",
    "gbc_pr = evaluate(gbc_prediction,y_test) \n",
    "print(gbc_pr)"
   ]
  },
  {
   "cell_type": "code",
   "execution_count": 118,
   "metadata": {},
   "outputs": [
    {
     "name": "stdout",
     "output_type": "stream",
     "text": [
      "AUROC= 0.9955890722496854\n"
     ]
    }
   ],
   "source": [
    "auroc_gbc=roc_auc_score(gbc_prediction, y_test)\n",
    "print('AUROC=', auroc_gbc)"
   ]
  },
  {
   "cell_type": "code",
   "execution_count": 119,
   "metadata": {},
   "outputs": [
    {
     "data": {
      "image/png": "[encoded data removed]",
      "text/plain": [
       "<Figure size 576x432 with 1 Axes>"
      ]
     },
     "metadata": {
      "needs_background": "light"
     },
     "output_type": "display_data"
    }
   ],
   "source": [
    "fpr, tpr, thresholds=roc_curve(y_test, gbc_prediction)\n",
    "plt.figure(figsize=(8,6))\n",
    "plt.plot(fpr, tpr, linewidth=2)\n",
    "plt.plot([0,1], [0,1], 'k--')\n",
    "plt.rcParams['font.size']=12\n",
    "plt.title ('ROC Curve for Bagging Classifier')\n",
    "plt.xlabel('False Positive Rate-Specificity')\n",
    "plt.ylabel('True Positive Rate - Sensitivity')\n",
    "plt.show()"
   ]
  },
  {
   "cell_type": "markdown",
   "metadata": {},
   "source": [
    "##### B5. ADABoost"
   ]
  },
  {
   "cell_type": "code",
   "execution_count": null,
   "metadata": {},
   "outputs": [],
   "source": [
    "ada = AdaBoostClassifier(random_state=1)\n",
    "ada.fit(X_train, y_train)\n",
    "ada_prediction=ada.predict(X_test)"
   ]
  },
  {
   "cell_type": "code",
   "execution_count": null,
   "metadata": {},
   "outputs": [],
   "source": [
    "print(classification_report(y_test,ada_prediction))\n",
    "print(confusion_matrix(y_test, ada_prediction))\n",
    "ada_pr = evaluate(ada_prediction,y_test) \n",
    "print(ada_pr)"
   ]
  },
  {
   "cell_type": "code",
   "execution_count": null,
   "metadata": {},
   "outputs": [],
   "source": [
    "auroc_ada=roc_auc_score(ada_prediction, y_test)\n",
    "print('AUROC=', auroc_ada)"
   ]
  },
  {
   "cell_type": "code",
   "execution_count": null,
   "metadata": {},
   "outputs": [],
   "source": [
    "fpr, tpr, thresholds=roc_curve(y_test, ada_prediction)\n",
    "plt.figure(figsize=(8,6))\n",
    "plt.plot(fpr, tpr, linewidth=2)\n",
    "plt.plot([0,1], [0,1], 'k--')\n",
    "plt.rcParams['font.size']=12\n",
    "plt.title ('ROC Curve for ADABOOST Classifier')\n",
    "plt.xlabel('False Positive Rate-Specificity')\n",
    "plt.ylabel('True Positive Rate - Sensitivity')\n",
    "plt.show()"
   ]
  },
  {
   "cell_type": "code",
   "execution_count": null,
   "metadata": {},
   "outputs": [],
   "source": [
    "data_pr=pd.DataFrame({'Model': ['DecisionTree', 'Random Forest', 'SVM',\n",
    "                               'Bagging Classifier', 'AdaBoost'],\n",
    "                     'AUROC':[auroc_dtree, auroc_rf, auroc_svm, auroc_gbc, auroc_ada]})\n",
    "data_pr.sort_values(by='AUROC', ascending=False)"
   ]
  },
  {
   "cell_type": "markdown",
   "metadata": {},
   "source": [
    "### C. Modelowanie po PCA"
   ]
  },
  {
   "cell_type": "code",
   "execution_count": 120,
   "metadata": {},
   "outputs": [],
   "source": [
    "#Standaryzacja\n",
    "sc=StandardScaler()\n",
    "X_scaled=sc.fit_transform(X)"
   ]
  },
  {
   "cell_type": "code",
   "execution_count": 121,
   "metadata": {},
   "outputs": [],
   "source": [
    "#tworzymy DataFrame z wektora X_scaled\n",
    "X_scaled_df = pd.DataFrame(X_scaled,columns=X.columns)"
   ]
  },
  {
   "cell_type": "code",
   "execution_count": 122,
   "metadata": {},
   "outputs": [
    {
     "data": {
      "text/plain": [
       "PCA(copy=True, iterated_power='auto', n_components=None, random_state=42,\n",
       "    svd_solver='auto', tol=0.0, whiten=False)"
      ]
     },
     "execution_count": 122,
     "metadata": {},
     "output_type": "execute_result"
    }
   ],
   "source": [
    "pca=PCA(random_state=42)\n",
    "pca.fit(X_scaled)"
   ]
  },
  {
   "cell_type": "code",
   "execution_count": 123,
   "metadata": {},
   "outputs": [
    {
     "data": {
      "text/plain": [
       "array([7.82396285e-02, 4.71059119e-02, 2.83543384e-02, 2.50008166e-02,\n",
       "       2.16393508e-02, 1.95476740e-02, 1.70975804e-02, 1.64782434e-02,\n",
       "       1.50355093e-02, 1.42662240e-02, 1.33490119e-02, 1.31541981e-02,\n",
       "       1.28487702e-02, 1.24612913e-02, 1.19197862e-02, 1.18321144e-02,\n",
       "       1.18253493e-02, 1.17169840e-02, 1.16108604e-02, 1.15203878e-02,\n",
       "       1.14193904e-02, 1.14067304e-02, 1.13871568e-02, 1.13686985e-02,\n",
       "       1.13327484e-02, 1.13113344e-02, 1.12762789e-02, 1.12474424e-02,\n",
       "       1.12240853e-02, 1.12194066e-02, 1.12085388e-02, 1.11948776e-02,\n",
       "       1.11800489e-02, 1.11657674e-02, 1.11459091e-02, 1.11435715e-02,\n",
       "       1.11311320e-02, 1.11104522e-02, 1.11068324e-02, 1.10913602e-02,\n",
       "       1.10859627e-02, 1.10839288e-02, 1.10704428e-02, 1.10650710e-02,\n",
       "       1.10605445e-02, 1.10424873e-02, 1.10387105e-02, 1.10356447e-02,\n",
       "       1.10354059e-02, 1.10255697e-02, 1.10251216e-02, 1.10117323e-02,\n",
       "       1.10036812e-02, 1.09989290e-02, 1.09924854e-02, 1.09903236e-02,\n",
       "       1.09825928e-02, 1.09694430e-02, 1.09404644e-02, 1.09019439e-02,\n",
       "       1.08429124e-02, 1.07959342e-02, 1.06648462e-02, 1.04253623e-02,\n",
       "       1.02253841e-02, 9.87299034e-03, 9.64506931e-03, 9.19783887e-03,\n",
       "       9.09424411e-03, 8.63072006e-03, 7.80178106e-03, 7.35153513e-03,\n",
       "       6.39462502e-03, 5.89108177e-03, 5.44741326e-03, 3.97230418e-03,\n",
       "       3.08691219e-03, 2.68330144e-03, 1.91012749e-03, 1.68630326e-03,\n",
       "       1.59140857e-03, 1.33106567e-03, 6.73157084e-04, 3.62504653e-04,\n",
       "       3.09144657e-04, 7.57549222e-05, 1.55692625e-32, 2.87519037e-33,\n",
       "       1.69898666e-33, 6.37584364e-34, 4.67022641e-34])"
      ]
     },
     "execution_count": 123,
     "metadata": {},
     "output_type": "execute_result"
    }
   ],
   "source": [
    "pca.explained_variance_ratio_"
   ]
  },
  {
   "cell_type": "code",
   "execution_count": 124,
   "metadata": {},
   "outputs": [
    {
     "data": {
      "text/plain": [
       "array([0.07823963, 0.12534554, 0.15369988, 0.1787007 , 0.20034005,\n",
       "       0.21988772, 0.2369853 , 0.25346354, 0.26849905, 0.28276528,\n",
       "       0.29611429, 0.30926849, 0.32211726, 0.33457855, 0.34649833,\n",
       "       0.35833045, 0.3701558 , 0.38187278, 0.39348364, 0.40500403,\n",
       "       0.41642342, 0.42783015, 0.43921731, 0.45058601, 0.46191876,\n",
       "       0.47323009, 0.48450637, 0.49575381, 0.5069779 , 0.5181973 ,\n",
       "       0.52940584, 0.54060072, 0.55178077, 0.56294654, 0.57409244,\n",
       "       0.58523602, 0.59636715, 0.6074776 , 0.61858443, 0.62967579,\n",
       "       0.64076176, 0.65184568, 0.66291613, 0.6739812 , 0.68504174,\n",
       "       0.69608423, 0.70712294, 0.71815859, 0.72919399, 0.74021956,\n",
       "       0.75124468, 0.76225641, 0.7732601 , 0.78425902, 0.79525151,\n",
       "       0.80624183, 0.81722443, 0.82819387, 0.83913433, 0.85003628,\n",
       "       0.86087919, 0.87167512, 0.88233997, 0.89276533, 0.90299072,\n",
       "       0.91286371, 0.92250878, 0.93170662, 0.94080086, 0.94943158,\n",
       "       0.95723336, 0.9645849 , 0.97097952, 0.9768706 , 0.98231802,\n",
       "       0.98629032, 0.98937723, 0.99206053, 0.99397066, 0.99565696,\n",
       "       0.99724837, 0.99857944, 0.9992526 , 0.9996151 , 0.99992425,\n",
       "       1.        , 1.        , 1.        , 1.        , 1.        ,\n",
       "       1.        ])"
      ]
     },
     "execution_count": 124,
     "metadata": {},
     "output_type": "execute_result"
    }
   ],
   "source": [
    "#Skumulowana suma wariancji- pozbywamy się szumu z danych\n",
    "var_cumu=np.cumsum(pca.explained_variance_ratio_)\n",
    "var_cumu"
   ]
  },
  {
   "cell_type": "code",
   "execution_count": 125,
   "metadata": {},
   "outputs": [
    {
     "data": {
      "image/png": "[encoded data removed]",
      "text/plain": [
       "<Figure size 800x600 with 1 Axes>"
      ]
     },
     "metadata": {
      "needs_background": "light"
     },
     "output_type": "display_data"
    }
   ],
   "source": [
    "fig = plt.figure(figsize=[8,6],dpi=100)\n",
    "plt.vlines(x=69, ymax=1, ymin=0, colors=\"r\", linestyles=\"--\")\n",
    "plt.hlines(y=0.95, xmax=100, xmin=0, colors=\"g\", linestyles=\"--\")\n",
    "plt.plot(var_cumu)\n",
    "plt.ylabel(\"Cumulative variance explained\")\n",
    "plt.show()"
   ]
  },
  {
   "cell_type": "markdown",
   "metadata": {},
   "source": [
    "Najlepsza ilość komponentów to 69 :)"
   ]
  },
  {
   "cell_type": "code",
   "execution_count": 126,
   "metadata": {},
   "outputs": [],
   "source": [
    "# po dobraniu liczby komponentów robię finalny model\n",
    "pca_final = IncrementalPCA(n_components=69)\n",
    "X_pca_final = pca_final.fit_transform(X_scaled)"
   ]
  },
  {
   "cell_type": "code",
   "execution_count": 127,
   "metadata": {},
   "outputs": [],
   "source": [
    "X=X_pca_final\n",
    "Y=encode_data['loan_status']\n",
    "X_train, X_test, y_train, y_test=train_test_split(X, Y, test_size=0.2, random_state=42)"
   ]
  },
  {
   "cell_type": "code",
   "execution_count": 128,
   "metadata": {},
   "outputs": [
    {
     "data": {
      "text/plain": [
       "array([[ 0.80298481, -0.91956832,  0.2266592 , ...,  0.98556598,\n",
       "        -0.02353172, -0.12342442],\n",
       "       [ 0.78840328,  0.91745185,  0.69126951, ..., -4.31143479,\n",
       "        -0.17918785,  2.50010671],\n",
       "       [ 0.25862482,  0.72357825,  0.93167658, ...,  0.63502205,\n",
       "        -0.00722986, -0.05553076],\n",
       "       ...,\n",
       "       [-0.87565752, -0.97009876,  1.03350603, ...,  0.67943735,\n",
       "         0.19521701, -0.94731556],\n",
       "       [-0.375646  ,  1.34727035,  0.91953616, ..., -0.7772971 ,\n",
       "         0.15722484,  0.04536279],\n",
       "       [-0.45139166,  0.39029511, -3.05530019, ..., -0.22219749,\n",
       "         0.17620937, -1.5992851 ]])"
      ]
     },
     "execution_count": 128,
     "metadata": {},
     "output_type": "execute_result"
    }
   ],
   "source": [
    "#skalowanie\n",
    "sc=StandardScaler()\n",
    "X_train=sc.fit_transform(X_train)\n",
    "X_test=sc.transform(X_test)\n",
    "X_test"
   ]
  },
  {
   "cell_type": "markdown",
   "metadata": {},
   "source": [
    "##### C1. DecicionTree"
   ]
  },
  {
   "cell_type": "code",
   "execution_count": 129,
   "metadata": {},
   "outputs": [],
   "source": [
    "dtree_pca = DecisionTreeClassifier(max_depth=10, random_state=0)"
   ]
  },
  {
   "cell_type": "code",
   "execution_count": 130,
   "metadata": {},
   "outputs": [
    {
     "data": {
      "text/plain": [
       "DecisionTreeClassifier(ccp_alpha=0.0, class_weight=None, criterion='gini',\n",
       "                       max_depth=10, max_features=None, max_leaf_nodes=None,\n",
       "                       min_impurity_decrease=0.0, min_impurity_split=None,\n",
       "                       min_samples_leaf=1, min_samples_split=2,\n",
       "                       min_weight_fraction_leaf=0.0, presort='deprecated',\n",
       "                       random_state=0, splitter='best')"
      ]
     },
     "execution_count": 130,
     "metadata": {},
     "output_type": "execute_result"
    }
   ],
   "source": [
    "dtree_pca.fit(X_train,y_train)"
   ]
  },
  {
   "cell_type": "code",
   "execution_count": 131,
   "metadata": {},
   "outputs": [],
   "source": [
    "dt_prediction_pca = dtree_pca.predict(X_test)"
   ]
  },
  {
   "cell_type": "code",
   "execution_count": 132,
   "metadata": {},
   "outputs": [
    {
     "name": "stdout",
     "output_type": "stream",
     "text": [
      "              precision    recall  f1-score   support\n",
      "\n",
      "           0       0.52      0.42      0.46      1229\n",
      "           1       0.90      0.94      0.92      7278\n",
      "\n",
      "    accuracy                           0.86      8507\n",
      "   macro avg       0.71      0.68      0.69      8507\n",
      "weighted avg       0.85      0.86      0.85      8507\n",
      "\n",
      "[[ 513  716]\n",
      " [ 466 6812]]\n"
     ]
    },
    {
     "data": {
      "text/plain": [
       "{'f1-score': 0.9202, 'accuracy': 0.8611}"
      ]
     },
     "execution_count": 132,
     "metadata": {},
     "output_type": "execute_result"
    }
   ],
   "source": [
    "print(classification_report(y_test,dt_prediction_pca))\n",
    "print(confusion_matrix(y_test, dt_prediction_pca))\n",
    "dtree_pr_pca= evaluate(dt_prediction_pca,y_test) \n",
    "dtree_pr_pca"
   ]
  },
  {
   "cell_type": "code",
   "execution_count": 135,
   "metadata": {},
   "outputs": [
    {
     "name": "stdout",
     "output_type": "stream",
     "text": [
      "AUROC= 0.7144462511899735\n"
     ]
    }
   ],
   "source": [
    "auroc_dtree_pca=roc_auc_score(dt_prediction_pca, y_test)\n",
    "print('AUROC=', auroc_dtree_pca)"
   ]
  },
  {
   "cell_type": "markdown",
   "metadata": {},
   "source": [
    "##### C2. Random Forest"
   ]
  },
  {
   "cell_type": "code",
   "execution_count": 134,
   "metadata": {},
   "outputs": [
    {
     "data": {
      "text/plain": [
       "RandomForestClassifier(bootstrap=True, ccp_alpha=0.0, class_weight=None,\n",
       "                       criterion='gini', max_depth=None, max_features='auto',\n",
       "                       max_leaf_nodes=None, max_samples=None,\n",
       "                       min_impurity_decrease=0.0, min_impurity_split=None,\n",
       "                       min_samples_leaf=1, min_samples_split=2,\n",
       "                       min_weight_fraction_leaf=0.0, n_estimators=100,\n",
       "                       n_jobs=None, oob_score=False, random_state=0, verbose=0,\n",
       "                       warm_start=False)"
      ]
     },
     "execution_count": 134,
     "metadata": {},
     "output_type": "execute_result"
    }
   ],
   "source": [
    "rf_pca = RandomForestClassifier(n_estimators=100, random_state=0) \n",
    "rf_pca.fit(X_train, y_train)"
   ]
  },
  {
   "cell_type": "code",
   "execution_count": 136,
   "metadata": {},
   "outputs": [],
   "source": [
    "rf_prediction_pca = rf_pca.predict(X_test)"
   ]
  },
  {
   "cell_type": "code",
   "execution_count": 137,
   "metadata": {},
   "outputs": [
    {
     "name": "stdout",
     "output_type": "stream",
     "text": [
      "              precision    recall  f1-score   support\n",
      "\n",
      "           0       0.76      0.34      0.47      1229\n",
      "           1       0.90      0.98      0.94      7278\n",
      "\n",
      "    accuracy                           0.89      8507\n",
      "   macro avg       0.83      0.66      0.70      8507\n",
      "weighted avg       0.88      0.89      0.87      8507\n",
      "\n",
      "[[ 412  817]\n",
      " [ 128 7150]]\n",
      "{'f1-score': 0.938, 'accuracy': 0.8889}\n"
     ]
    }
   ],
   "source": [
    "print(classification_report(y_test,rf_prediction_pca))\n",
    "print(confusion_matrix(y_test, rf_prediction_pca))\n",
    "rf_pr_pca = evaluate(rf_prediction_pca,y_test) \n",
    "print(rf_pr_pca)"
   ]
  },
  {
   "cell_type": "code",
   "execution_count": 138,
   "metadata": {},
   "outputs": [
    {
     "name": "stdout",
     "output_type": "stream",
     "text": [
      "AUROC= 0.8302074762097356\n"
     ]
    }
   ],
   "source": [
    "auroc_rf_pca=roc_auc_score(rf_prediction_pca, y_test)\n",
    "print('AUROC=', auroc_rf_pca)"
   ]
  },
  {
   "cell_type": "markdown",
   "metadata": {},
   "source": [
    "##### C3. SVM"
   ]
  },
  {
   "cell_type": "code",
   "execution_count": 139,
   "metadata": {},
   "outputs": [
    {
     "data": {
      "text/plain": [
       "SVC(C=1.0, break_ties=False, cache_size=200, class_weight=None, coef0=0.0,\n",
       "    decision_function_shape='ovr', degree=3, gamma='scale', kernel='linear',\n",
       "    max_iter=-1, probability=False, random_state=0, shrinking=True, tol=0.001,\n",
       "    verbose=False)"
      ]
     },
     "execution_count": 139,
     "metadata": {},
     "output_type": "execute_result"
    }
   ],
   "source": [
    "svm_model_pca = SVC(C=1.0, kernel='linear', random_state=0)\n",
    "svm_model_pca.fit(X_train,y_train)"
   ]
  },
  {
   "cell_type": "code",
   "execution_count": 140,
   "metadata": {},
   "outputs": [],
   "source": [
    "svm_prediction_pca = svm_model_pca.predict(X_test) "
   ]
  },
  {
   "cell_type": "code",
   "execution_count": 141,
   "metadata": {},
   "outputs": [
    {
     "name": "stdout",
     "output_type": "stream",
     "text": [
      "              precision    recall  f1-score   support\n",
      "\n",
      "           0       0.98      0.83      0.90      1229\n",
      "           1       0.97      1.00      0.98      7278\n",
      "\n",
      "    accuracy                           0.97      8507\n",
      "   macro avg       0.98      0.91      0.94      8507\n",
      "weighted avg       0.97      0.97      0.97      8507\n",
      "\n",
      "[[1016  213]\n",
      " [  21 7257]]\n",
      "{'f1-score': 0.9841, 'accuracy': 0.9725}\n"
     ]
    }
   ],
   "source": [
    "print(classification_report(y_test,svm_prediction_pca))\n",
    "print(confusion_matrix(y_test, svm_prediction_pca))\n",
    "svm_pr_pca = evaluate(svm_prediction_pca,y_test) \n",
    "print(svm_pr_pca)"
   ]
  },
  {
   "cell_type": "code",
   "execution_count": 142,
   "metadata": {},
   "outputs": [
    {
     "name": "stdout",
     "output_type": "stream",
     "text": [
      "AUROC= 0.9756176102674924\n"
     ]
    }
   ],
   "source": [
    "auroc_svm_pca=roc_auc_score(svm_prediction_pca, y_test)\n",
    "print('AUROC=', auroc_svm_pca)"
   ]
  },
  {
   "cell_type": "markdown",
   "metadata": {},
   "source": [
    "##### C4. Bagging Classifier"
   ]
  },
  {
   "cell_type": "code",
   "execution_count": 143,
   "metadata": {},
   "outputs": [],
   "source": [
    "gbc_pca= BaggingClassifier(tree.DecisionTreeClassifier(random_state=1))\n",
    "gbc_pca.fit(X_train, y_train)\n",
    "gbc_prediction_pca=gbc_pca.predict(X_test)"
   ]
  },
  {
   "cell_type": "code",
   "execution_count": 144,
   "metadata": {},
   "outputs": [
    {
     "name": "stdout",
     "output_type": "stream",
     "text": [
      "              precision    recall  f1-score   support\n",
      "\n",
      "           0       0.56      0.48      0.52      1229\n",
      "           1       0.91      0.94      0.93      7278\n",
      "\n",
      "    accuracy                           0.87      8507\n",
      "   macro avg       0.74      0.71      0.72      8507\n",
      "weighted avg       0.86      0.87      0.87      8507\n",
      "\n",
      "[[ 591  638]\n",
      " [ 456 6822]]\n",
      "{'f1-score': 0.9258, 'accuracy': 0.8714}\n"
     ]
    }
   ],
   "source": [
    "print(classification_report(y_test,gbc_prediction_pca))\n",
    "print(confusion_matrix(y_test, gbc_prediction_pca))\n",
    "gbc_pr_pca = evaluate(gbc_prediction_pca,y_test) \n",
    "print(gbc_pr_pca)"
   ]
  },
  {
   "cell_type": "code",
   "execution_count": 145,
   "metadata": {},
   "outputs": [
    {
     "name": "stdout",
     "output_type": "stream",
     "text": [
      "AUROC= 0.7394735629181806\n"
     ]
    }
   ],
   "source": [
    "auroc_gbc_pca=roc_auc_score(gbc_prediction_pca, y_test)\n",
    "print('AUROC=', auroc_gbc_pca)"
   ]
  },
  {
   "cell_type": "markdown",
   "metadata": {},
   "source": [
    "##### C5. ADABoost"
   ]
  },
  {
   "cell_type": "code",
   "execution_count": null,
   "metadata": {},
   "outputs": [],
   "source": [
    "ada_pca = AdaBoostClassifier(random_state=1)\n",
    "ada_pca.fit(X_train, y_train)\n",
    "ada_prediction_pca=ada_pca.predict(X_test)"
   ]
  },
  {
   "cell_type": "code",
   "execution_count": null,
   "metadata": {},
   "outputs": [],
   "source": [
    "print(classification_report(y_test,ada_prediction_pca))\n",
    "print(confusion_matrix(y_test, ada_prediction_pca))\n",
    "ada_pr_pca = evaluate(ada_prediction_pca,y_test) \n",
    "print(ada_pr_pca)"
   ]
  },
  {
   "cell_type": "code",
   "execution_count": null,
   "metadata": {},
   "outputs": [],
   "source": [
    "auroc_ada_pca=roc_auc_score(ada_prediction_pca, y_test)\n",
    "print('AUROC=', auroc_ada_pca)"
   ]
  },
  {
   "cell_type": "code",
   "execution_count": null,
   "metadata": {},
   "outputs": [],
   "source": [
    "data_pr=pd.DataFrame({'Model after PCA': ['DecisionTree', 'Random Forest', 'SVM',\n",
    "                               'Bagging Classifier', 'AdaBoost'],\n",
    "                     'AUROC':[auroc_dtree_pca, auroc_rf_pca, auroc_svm_pca, auroc_gbc_pca, auroc_ada_pca]})\n",
    "data_pr.sort_values(by='AUROC', ascending=False)"
   ]
  },
  {
   "cell_type": "markdown",
   "metadata": {},
   "source": [
    "### D. Finalny Model."
   ]
  },
  {
   "cell_type": "markdown",
   "metadata": {},
   "source": [
    "Po wykonaniu PCA z ilością komponentów n=69, wyniki AUROC były niższe niż podczas modelowania bez PCA. \n",
    "Najlepszy wynik AUROC ma model SVM na poziomie 99,79 %, dlatego ten model jest moim ostatecznym.\n",
    "WYkonam jeszcze crosvalidację. "
   ]
  },
  {
   "cell_type": "code",
   "execution_count": 160,
   "metadata": {},
   "outputs": [],
   "source": [
    "#jeszcze raz dziele dane na testowe i treningowe\n",
    "Xf=encode_data.drop(['loan_status'], axis=1)\n",
    "Yf=encode_data['loan_status']\n",
    "Xf_train, Xf_test, yf_train, yf_test=train_test_split(Xf, Yf, test_size=0.2, random_state=42)"
   ]
  },
  {
   "cell_type": "code",
   "execution_count": 161,
   "metadata": {},
   "outputs": [
    {
     "data": {
      "text/plain": [
       "array([[-0.08169792, -0.04763809,  0.0456609 , ..., -0.04441679,\n",
       "         1.07029124, -1.07029124],\n",
       "       [ 1.06370471,  1.13899554,  1.08456823, ..., -0.04441679,\n",
       "        -0.93432513,  0.93432513],\n",
       "       [ 0.38993846,  0.44097576,  0.52815823, ..., -0.04441679,\n",
       "        -0.93432513,  0.93432513],\n",
       "       ...,\n",
       "       [-0.8228408 , -0.81545984, -0.72353773, ..., -0.04441679,\n",
       "        -0.93432513,  0.93432513],\n",
       "       [ 0.12043196,  0.16176785,  0.25544235, ..., -0.04441679,\n",
       "        -0.93432513,  0.93432513],\n",
       "       [-1.29447717, -1.30407369, -1.22351685, ..., -0.04441679,\n",
       "        -0.93432513,  0.93432513]])"
      ]
     },
     "execution_count": 161,
     "metadata": {},
     "output_type": "execute_result"
    }
   ],
   "source": [
    "#skalowanie\n",
    "sc=StandardScaler()\n",
    "Xf_train=sc.fit_transform(Xf_train)\n",
    "Xf_test=sc.transform(Xf_test)\n",
    "Xf_test"
   ]
  },
  {
   "cell_type": "code",
   "execution_count": 163,
   "metadata": {},
   "outputs": [
    {
     "data": {
      "text/plain": [
       "SVC(C=1.0, break_ties=False, cache_size=200, class_weight=None, coef0=0.0,\n",
       "    decision_function_shape='ovr', degree=3, gamma='scale', kernel='linear',\n",
       "    max_iter=-1, probability=False, random_state=0, shrinking=True, tol=0.001,\n",
       "    verbose=False)"
      ]
     },
     "execution_count": 163,
     "metadata": {},
     "output_type": "execute_result"
    }
   ],
   "source": [
    "svm_final = SVC(C=1.0, kernel='linear', random_state=0)\n",
    "svm_final.fit(Xf_train,yf_train)"
   ]
  },
  {
   "cell_type": "code",
   "execution_count": 167,
   "metadata": {},
   "outputs": [
    {
     "name": "stdout",
     "output_type": "stream",
     "text": [
      "              precision    recall  f1-score   support\n",
      "\n",
      "           0       1.00      0.98      0.99      1229\n",
      "           1       1.00      1.00      1.00      7278\n",
      "\n",
      "    accuracy                           1.00      8507\n",
      "   macro avg       1.00      0.99      0.99      8507\n",
      "weighted avg       1.00      1.00      1.00      8507\n",
      "\n",
      "[[1199   30]\n",
      " [   0 7278]]\n",
      "{'f1-score': 0.9979, 'accuracy': 0.9965}\n",
      "Performance on training data using DT: 0.9967085929234748\n",
      "Performance on testing data using DT: 0.9964734924180086\n",
      "Accuracy DT:  0.9714678989547062\n",
      "MSE:  0.0035265075819913014\n",
      "AUROC= 0.9979474548440066\n"
     ]
    }
   ],
   "source": [
    "svm_prediction_F = svm_final.predict(Xf_test) \n",
    "print(classification_report(yf_test,svm_prediction_F))\n",
    "print(confusion_matrix(yf_test, svm_prediction_F))\n",
    "svm_pr_F = evaluate(svm_prediction_F,yf_test) \n",
    "print(svm_pr_F)\n",
    "print('Performance on training data using DT:',svm_final.score(Xf_train,yf_train))\n",
    "print('Performance on testing data using DT:',svm_final.score(Xf_test,yf_test))\n",
    "acc_SVM=metrics.r2_score(yf_test, svm_prediction_F )\n",
    "print('Accuracy DT: ',acc_SVM)\n",
    "print('MSE: ',metrics.mean_squared_error(yf_test, svm_prediction_F ))\n",
    "auroc_svm_F=roc_auc_score(svm_prediction_F, yf_test)\n",
    "print('AUROC=', auroc_svm_F)"
   ]
  },
  {
   "cell_type": "code",
   "execution_count": 169,
   "metadata": {},
   "outputs": [],
   "source": [
    "## żródło: http://scikit-learn.org/stable/auto_examples/model_selection/plot_learning_curve.html\n",
    "def plot_learning_curve(estimator, title, Xf, yf, ylim=None, cv=None,\n",
    "                        n_jobs=1, train_sizes=np.linspace(.1, 1.0, 5)):\n",
    "    plt.figure()\n",
    "    plt.title(title)\n",
    "    if ylim is not None:\n",
    "        plt.ylim(*ylim)\n",
    "    plt.xlabel(\"Training examples\")\n",
    "    plt.ylabel(\"Score\")\n",
    "    train_sizes, train_scores, test_scores = learning_curve(\n",
    "        estimator, Xf, yf, cv=cv, n_jobs=n_jobs, train_sizes=train_sizes)\n",
    "    train_scores_mean = np.mean(train_scores, axis=1)\n",
    "    train_scores_std = np.std(train_scores, axis=1)\n",
    "    test_scores_mean = np.mean(test_scores, axis=1)\n",
    "    test_scores_std = np.std(test_scores, axis=1)\n",
    "    plt.grid()\n",
    "\n",
    "    plt.fill_between(train_sizes, train_scores_mean - train_scores_std,\n",
    "                     train_scores_mean + train_scores_std, alpha=0.1,\n",
    "                     color=\"r\")\n",
    "    plt.fill_between(train_sizes, test_scores_mean - test_scores_std,\n",
    "                     test_scores_mean + test_scores_std, alpha=0.1, color=\"g\")\n",
    "    plt.plot(train_sizes, train_scores_mean, 'o-', color=\"r\",\n",
    "             label=\"Training score\")\n",
    "    plt.plot(train_sizes, test_scores_mean, 'o-', color=\"g\",\n",
    "             label=\"Cross-validation score\")\n",
    "\n",
    "    plt.legend(loc=\"best\")\n",
    "    return plt"
   ]
  },
  {
   "cell_type": "code",
   "execution_count": 170,
   "metadata": {},
   "outputs": [],
   "source": [
    "# Shuffle for learning curves\n",
    "from sklearn.model_selection import ShuffleSplit\n",
    "cv = ShuffleSplit(n_splits=100, test_size=0.2, random_state=0)"
   ]
  },
  {
   "cell_type": "code",
   "execution_count": 171,
   "metadata": {},
   "outputs": [
    {
     "data": {
      "image/png": "[encoded data removed]",
      "text/plain": [
       "<Figure size 432x288 with 1 Axes>"
      ]
     },
     "metadata": {
      "needs_background": "light"
     },
     "output_type": "display_data"
    }
   ],
   "source": [
    "from sklearn.model_selection import learning_curve\n",
    "model_svm= SVC(kernel='linear', gamma=0.001, C=1.0)\n",
    "plot_learning_curve(model_svm, 'Learning Curve (SVM)', Xf, Yf, (0.7, 1.01), cv=cv, n_jobs=4)\n",
    "plt.show()"
   ]
  },
  {
   "attachments": {
    "obraz.png": {
     "image/png": "[encoded data removed]"
    }
   },
   "cell_type": "markdown",
   "metadata": {},
   "source": [
    "z racji, że bardzo długo wczytuje się wykres, wrzucam jego print screena. Widać, że linie są praktycznie zbieżne, nie ma różnic pomiędzy modelem a modelem po krosswalidacji. Linie są tak ułożone, że nie ma mowy o overfittingu. \n",
    "![obraz.png](attachment:obraz.png)"
   ]
  },
  {
   "cell_type": "code",
   "execution_count": 172,
   "metadata": {},
   "outputs": [
    {
     "name": "stderr",
     "output_type": "stream",
     "text": [
      "C:\\ProgramData\\Anaconda3\\lib\\site-packages\\sklearn\\model_selection\\_split.py:296: FutureWarning: Setting a random_state has no effect since shuffle is False. This will raise an error in 0.24. You should leave random_state to its default (None), or set shuffle=True.\n",
      "  FutureWarning\n"
     ]
    },
    {
     "name": "stdout",
     "output_type": "stream",
     "text": [
      "Average accuracy:  0.9999764893967179\n",
      "Standard Deviation:  9.693670065402136e-05\n"
     ]
    }
   ],
   "source": [
    "num_folds = 18\n",
    "seed = 77\n",
    "kfold = KFold(n_splits=num_folds, random_state=seed)\n",
    "results1 = cross_val_score(svm_final,Xf, Yf, cv=kfold)\n",
    "accuracy=np.mean(abs(results1))\n",
    "print('Average accuracy: ',accuracy)\n",
    "print('Standard Deviation: ',results1.std())"
   ]
  },
  {
   "cell_type": "markdown",
   "metadata": {},
   "source": [
    "Zapisywanie modelu na dysku"
   ]
  },
  {
   "cell_type": "code",
   "execution_count": 173,
   "metadata": {},
   "outputs": [],
   "source": [
    "import pickle\n",
    "svm_final='final_model_Beata.sav'\n",
    "pickle.dump(model_svm, open(svm_final, 'wb'))"
   ]
  },
  {
   "cell_type": "code",
   "execution_count": null,
   "metadata": {},
   "outputs": [],
   "source": []
  }
 ],
 "metadata": {
  "kernelspec": {
   "display_name": "Python 3",
   "language": "python",
   "name": "python3"
  },
  "language_info": {
   "codemirror_mode": {
    "name": "ipython",
    "version": 3
   },
   "file_extension": ".py",
   "mimetype": "text/x-python",
   "name": "python",
   "nbconvert_exporter": "python",
   "pygments_lexer": "ipython3",
   "version": "3.7.6"
  }
 },
 "nbformat": 4,
 "nbformat_minor": 4
}
